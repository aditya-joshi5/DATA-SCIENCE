{
  "nbformat": 4,
  "nbformat_minor": 0,
  "metadata": {
    "colab": {
      "provenance": []
    },
    "kernelspec": {
      "name": "python3",
      "display_name": "Python 3"
    },
    "language_info": {
      "name": "python"
    }
  },
  "cells": [
    {
      "cell_type": "markdown",
      "source": [
        "1. Explain the different types of data (qualitative and quantitative) and provide examples of each. Discuss\n",
        "nominal, ordinal, interval, and ratio scales.\n",
        "\n",
        "qualitative data>> measurable and contains numerics. it is divided into two types discrete and continuous.\n",
        "\n",
        "quantitative data>>these are categorical data which contains string. divided into two types nominal and ordinal.\n",
        "\n",
        "nominal scale data>> these have no order in categorical data eg. blood group, gender.\n",
        "\n",
        "ordinal data>> these have order in categorical data. eg. Rank, grades.\n",
        "\n",
        "interval scales>> it doesnt compulsorily have 0 starting value eg. temperature.\n",
        "\n",
        "ratio scales>> these data must have a zero starting values so that they can be compared. eg.two people weight are 80kg & 40kg.\n",
        "\n",
        "\n",
        "\n"
      ],
      "metadata": {
        "id": "39ChnqNlmncy"
      }
    },
    {
      "cell_type": "markdown",
      "source": [
        "2. What are the measures of central tendency, and when should you use each? Discuss the mean, median,\n",
        "and mode with examples and situations where each is appropriate\n",
        "\n",
        "measures of centeral tendency are mean median mode.\n",
        "\n",
        "**mean** is calculated to find the average of numbers that is in qualitative data we use it so as to fill the unknown values in the data. but it has a limitations if outliers are present. example age of persons are>> 23,24,22,25,NA,24. now to fill the unkown value we use the mean since the values doesnot contains any outliers.\n",
        "\n",
        "**median** is calculated to find the middle most value of sorted numeric values. this is generally useful when the outliners are present example weight of people in kg are 40,45,50,48,na,42,120 . since the 120 is an outlier and shifts the mean to higher side. so we calculate man here.\n",
        "\n",
        "**mode** is the value to most repeated value in the given data. it is generally calculated for the categorical data. example gender in the given data are>> M,M,M,F,na,F,M. So to replace the unknown value mode is calculated and here most repated is male.\n",
        "\n",
        "\n",
        "\n"
      ],
      "metadata": {
        "id": "RxlMYgbCmnaB"
      }
    },
    {
      "cell_type": "markdown",
      "source": [
        "3. Explain the concept of dispersion. How do variance and standard deviation measure the spread of data?\n",
        "\n",
        "dispersion tells how is the data is spread, that is how much the data is deviated from the central value. it tells the variablity in the data. more is the dispersion more is the variation in the data.\n",
        "\n",
        "**Variance** measures how far each data point is from the mean, on average Variance gives a squared measure of dispersion, meaning its unit is different from the original data.\n",
        "\n",
        "**Standard Deviation**: The square root of variance.\n",
        "It represents the average deviation from the mean and has the same unit as the original data, making it more interpretable than variance."
      ],
      "metadata": {
        "id": "mfPNmswAmnO7"
      }
    },
    {
      "cell_type": "markdown",
      "source": [
        "4. What is a box plot, and what can it tell you about the distribution of data?\n",
        "\n",
        "A box plot (also called a box-and-whisker plot) is a graphical representation of a dataset that displays its spread, central tendency, and potential outliers. It provides a summary of the data using five key statistical measures:\n",
        "\n",
        "Minimum – The smallest data point (excluding outliers).\n",
        "First Quartile (Q1) – The 25th percentile (lower quartile).\n",
        "Median (Q2) – The middle value (50th percentile).\n",
        "Third Quartile (Q3) – The 75th percentile (upper quartile).\n",
        "Maximum – The largest data point (excluding outliers).\n",
        "\n",
        "**Symmetry & Skewness**:\n",
        "If the median is centered in the box, the distribution is symmetric.\n",
        "If the median is closer to Q1 or Q3, the data is skewed.\n",
        "\n",
        "**Outliers**: Dots outside the whiskers indicate outliers, which are unusually high or low values\n"
      ],
      "metadata": {
        "id": "GVZ4r1gnOyss"
      }
    },
    {
      "cell_type": "markdown",
      "source": [
        "5. Discuss the role of random sampling in making inferences about populations.\n",
        "\n",
        "Every member has equal probablity of getting selected in the sample\n",
        "\n",
        "Random sampling helps eliminate selection bias, ensuring that the sample represents the overall population rather than specific subgroups.\n",
        "This improves the validity of conclusions drawn from the sample.\n",
        "for example Opinion polls use random sampling to estimate public opinion."
      ],
      "metadata": {
        "id": "v_phZb_9PoUh"
      }
    },
    {
      "cell_type": "markdown",
      "source": [
        "6. Explain the concept of skewness and its types. How does skewness affect the interpretation of data?\n",
        "\n",
        "The skewness in data determines the extent of symmetricity around its mean. if there is no skewness is the data means that the data is symmetric about mean and has mean=median=mode it is of following types\n",
        "\n",
        "Positive Skew (Right-Skewed): The tail is longer on the right; mean > median > mode (e.g., income distribution).\n",
        "\n",
        "Negative Skew (Left-Skewed): The tail is longer on the left; mean < median < mode (e.g., exam scores where many students score high).\n",
        "\n",
        "Zero Skew (Symmetric): The data is evenly distributed around the mean (e.g., normal distribution).\n",
        "\n",
        "Some of the machine learning algorithms requires symmetric data to build the the ml models if not symmetric so the transformation in the data is done.\n"
      ],
      "metadata": {
        "id": "eXnTIzD_7y1Y"
      }
    },
    {
      "cell_type": "markdown",
      "source": [
        "7. What is the interquartile range (IQR), and how is it used to detect outliers?\n",
        "\n",
        "Itis the difference of 3rd quatile(75%ile) and 2nd quatile(25%ile).\n",
        "\n",
        "Any data point outside the range [Q1 - 1.5 × IQR, Q3 + 1.5 × IQR] is considered an outlier.\n",
        "\n",
        "\n"
      ],
      "metadata": {
        "id": "Zrwpf_LW-lJq"
      }
    },
    {
      "cell_type": "markdown",
      "source": [
        "8. Discuss the conditions under which the binomial distribution is used.\n",
        "Fixed number of trials (n) – A predetermined number of independent experiments.\n",
        "Two possible outcomes (Success/Failure) – Each trial results in success (p) or failure (1-p).\n",
        "Constant probability of success (p) – The probability remains the same across all trials.\n",
        "\n"
      ],
      "metadata": {
        "id": "tw2JXsOCCl5R"
      }
    },
    {
      "cell_type": "markdown",
      "source": [
        "9. Explain the properties of the normal distribution and the empirical rule (68-95-99.7 rule).\n",
        "\n",
        "Properties:\n",
        "\n",
        "Bell-shaped and symmetric around the mean.\n",
        "Mean = Median = Mode.\n",
        "Defined by mean (μ) and standard deviation (σ).\n",
        "The total area under the curve is 1.\n",
        "\n",
        "Empirical Rule (68-95-99.7 Rule):\n",
        "68% of data lies within 1σ of the mean.\n",
        "95% lies within 2σ.\n",
        "99.7% lies within 3σ.\n",
        "Helps in probability estimation for normal distributions.\n"
      ],
      "metadata": {
        "id": "Fo1qtOfUFyVl"
      }
    },
    {
      "cell_type": "markdown",
      "source": [
        "10. Provide a real-life example of a Poisson process and calculate the probability for a specific event.\n",
        "\n",
        "A Poisson process models the occurrence of rare events in a fixed time or space, assuming:\n",
        "\n",
        "Events are independent.\n",
        "\n",
        "The rate (λ) is constant.\n",
        "\n",
        "Example: A call center receives an average of 5 calls per hour (λ = 5).\n",
        "\n",
        "What’s the probability of receiving exactly 3 calls in an hour?\n",
        "\n",
        "Interpretation: There is a 14.04% chance of receiving exactly 3 calls in an hour."
      ],
      "metadata": {
        "id": "LNcgnxHwGMig"
      }
    },
    {
      "cell_type": "markdown",
      "source": [
        "11. Explain what a random variable is and differentiate between discrete and continuous random variables.\n",
        "\n",
        "A random variable assigns numerical values to outcomes in a probabilistic experiment.\n",
        "\n",
        "Discrete random variable:\n",
        "Takes countable values (e.g., number of heads in coin flips).\n",
        "Example: X = {0,1,2,3,4} (where X is the number of defective products in a batch).\n",
        "\n",
        "Continuous Random Variable:\n",
        "Takes infinite values in a range (e.g., height, temperature).\n",
        "Example: Y = height of a randomly selected person (Y ∈ [140 cm, 200 cm])."
      ],
      "metadata": {
        "id": "F_8iZre0H0Xy"
      }
    },
    {
      "cell_type": "code",
      "source": [
        "#12. Provide an example dataset, calculate both covariance and correlation, and interpret the results.\n",
        "\n",
        "import numpy as np\n",
        "import pandas as pd\n",
        "X = np.array([1, 2, 3, 4, 5])\n",
        "Y = np.array([2, 3, 6, 8, 10])\n",
        "\n",
        "cov_matrix = np.cov(X, Y, bias=False)  # bias=False gives sample covariance\n",
        "covariance = cov_matrix[0, 1]\n",
        "\n",
        "correlation = np.corrcoef(X, Y)[0, 1]\n",
        "\n",
        "print(f\"Covariance: {covariance}\")\n",
        "print(f\"Correlation: {correlation}\")"
      ],
      "metadata": {
        "colab": {
          "base_uri": "https://localhost:8080/"
        },
        "id": "2sLbnyFgJY3D",
        "outputId": "edd4dbc7-4eb6-4d25-e9a5-cdc0ff16d8eb"
      },
      "execution_count": 8,
      "outputs": [
        {
          "output_type": "stream",
          "name": "stdout",
          "text": [
            "Covariance: 5.25\n",
            "Correlation: 0.9921567416492214\n"
          ]
        }
      ]
    },
    {
      "cell_type": "markdown",
      "source": [
        "Covariance (5.25) indicates a positive relationship but lacks scale interpretation.\n",
        "\n",
        "Correlation (0.97) suggests a strong positive linear relationship between X and Y."
      ],
      "metadata": {
        "id": "FoXNL-LoMKN1"
      }
    }
  ]
}