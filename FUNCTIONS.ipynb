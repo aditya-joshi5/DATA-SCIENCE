{
  "nbformat": 4,
  "nbformat_minor": 0,
  "metadata": {
    "colab": {
      "provenance": []
    },
    "kernelspec": {
      "name": "python3",
      "display_name": "Python 3"
    },
    "language_info": {
      "name": "python"
    }
  },
  "cells": [
    {
      "cell_type": "markdown",
      "source": [
        " 1. What is the difference between a function and a method in Python?\n",
        "\n",
        "Function: A block of reusable code defined using the def keyword, not tied to any object.\n",
        "\n",
        "Method: A function that is associated with an object and is called using the object.\n",
        "\n",
        "Example:"
      ],
      "metadata": {
        "id": "Ed3YrJcXnfKX"
      }
    },
    {
      "cell_type": "code",
      "source": [
        "# Function\n",
        "def greet(name):\n",
        "    return f\"Hello, {name}\"\n",
        "\n",
        "print(greet(\"Alice\"))  # Output: Hello, Alice\n",
        "\n",
        "# Method\n",
        "class Person:\n",
        "    def greet(self, name):\n",
        "        return f\"Hello, {name}\"\n",
        "\n",
        "person = Person()\n",
        "print(person.greet(\"Alice\"))  # Output: Hello, Alice\n"
      ],
      "metadata": {
        "id": "9oZq9Zk_ptQ6"
      },
      "execution_count": null,
      "outputs": []
    },
    {
      "cell_type": "markdown",
      "source": [
        "2. Explain the concept of function arguments and parameters in Python\n",
        "\n",
        "Parameters: Variables defined in the function signature.\n",
        "\n",
        "Arguments: Values passed to the function when it is called.\n",
        "\n",
        "Example:"
      ],
      "metadata": {
        "id": "qXfpb4jSn9Jj"
      }
    },
    {
      "cell_type": "code",
      "source": [
        "def add(a, b):  # a and b are parameters\n",
        "    return a + b\n",
        "\n",
        "result = add(3, 5)  # 3 and 5 are arguments\n",
        "print(result)  # Output: 8\n"
      ],
      "metadata": {
        "id": "VX1ar8_cqHKD"
      },
      "execution_count": null,
      "outputs": []
    },
    {
      "cell_type": "markdown",
      "source": [
        "3. What are the different ways to define and call a function in Python?\n",
        "\n",
        "Ways to Define:\n",
        "\n",
        "Using def keyword.\n",
        "\n",
        "Using lambda for small, anonymous functions.\n",
        "\n",
        "\n",
        "Ways to Call:\n",
        "\n",
        "With positional arguments.\n",
        "\n",
        "With keyword arguments.\n",
        "\n",
        "Using default arguments."
      ],
      "metadata": {
        "id": "zDhWJ5FXopsY"
      }
    },
    {
      "cell_type": "code",
      "source": [
        "def greet(name=\"Guest\"):\n",
        "    return f\"Hello, {name}\"\n",
        "\n",
        "print(greet())  # Output: Hello, Guest\n",
        "print(greet(\"Alice\"))  # Output: Hello, Alice\n"
      ],
      "metadata": {
        "id": "O5PHNxNMrkqH"
      },
      "execution_count": null,
      "outputs": []
    },
    {
      "cell_type": "markdown",
      "source": [
        "4. What is the purpose of the `return` statement in a Python function?\n",
        "\n",
        "Purpose: To send a value back to the caller of the function. It terminates the function execution.\n",
        "\n",
        "example"
      ],
      "metadata": {
        "id": "Anp6ygKHph2m"
      }
    },
    {
      "cell_type": "code",
      "source": [
        "def square(num):\n",
        "    return num ** 2\n",
        "\n",
        "result = square(4)\n",
        "print(result)  # Output: 16"
      ],
      "metadata": {
        "colab": {
          "base_uri": "https://localhost:8080/"
        },
        "id": "on60csRBr7ax",
        "outputId": "72d7131e-a701-4d43-f58e-daf523752bfa"
      },
      "execution_count": 37,
      "outputs": [
        {
          "output_type": "stream",
          "name": "stdout",
          "text": [
            "16\n"
          ]
        }
      ]
    },
    {
      "cell_type": "markdown",
      "source": [
        "5. What are iterators in Python and how do they differ from iterables?\n",
        "\n",
        "Iterable: An object that can return an iterator, e.g., lists, tuples, and strings.\n",
        "\n",
        "Iterator: An object with a __next__() method that produces values one at a time.\n",
        "\n",
        "Example:"
      ],
      "metadata": {
        "id": "lTiGem3Gpn5w"
      }
    },
    {
      "cell_type": "code",
      "source": [
        "my_list = [1, 2, 3]  # Iterable\n",
        "iterator = iter(my_list)  # Creating an iterator\n",
        "\n",
        "print(next(iterator))  # Output: 1\n",
        "print(next(iterator))  # Output: 2\n"
      ],
      "metadata": {
        "colab": {
          "base_uri": "https://localhost:8080/"
        },
        "id": "fwDiYTGDsLX0",
        "outputId": "6c42f10a-fa98-40b8-b023-ddaee8c26fc5"
      },
      "execution_count": 38,
      "outputs": [
        {
          "output_type": "stream",
          "name": "stdout",
          "text": [
            "1\n",
            "2\n"
          ]
        }
      ]
    },
    {
      "cell_type": "markdown",
      "source": [
        "6. Explain the concept of generators in Python and how they are defined.\n",
        "\n",
        "Definition: Generators are functions that produce values lazily using the yield keyword. They are more memory-efficient than returning a list.\n",
        "\n",
        "Example:"
      ],
      "metadata": {
        "id": "8iwwEr0npqzo"
      }
    },
    {
      "cell_type": "code",
      "source": [
        "def count_up_to(n):\n",
        "    count = 1\n",
        "    while count <= n:\n",
        "        yield count\n",
        "        count += 1\n",
        "\n",
        "for num in count_up_to(3):\n",
        "    print(num)  # Output: 1, 2, 3"
      ],
      "metadata": {
        "id": "7D2NefN0sfHs"
      },
      "execution_count": null,
      "outputs": []
    },
    {
      "cell_type": "markdown",
      "source": [
        "7. What are the advantages of using generators over regular functions?\n",
        "\n",
        "Advantages:\n",
        "Memory Efficiency: Values are generated lazily.\n",
        "Faster Execution: Useful for large datasets or infinite sequences."
      ],
      "metadata": {
        "id": "CT444rboptX4"
      }
    },
    {
      "cell_type": "markdown",
      "source": [
        "8. What is a lambda function in Python and when is it typically used?\n",
        "\n",
        "Definition: An anonymous, one-liner function defined using the lambda keyword.\n",
        "\n",
        "When to Use: For small, temporary operations where a full function is unnecessary.\n",
        "\n",
        "Example:"
      ],
      "metadata": {
        "id": "lnmr9llHpwkY"
      }
    },
    {
      "cell_type": "code",
      "source": [
        "double = lambda x: x * 2\n",
        "print(double(5))  # Output: 10\n"
      ],
      "metadata": {
        "id": "PEUayam1syxI"
      },
      "execution_count": null,
      "outputs": []
    },
    {
      "cell_type": "markdown",
      "source": [
        "9. Explain the purpose and usage of the `map()` function in Python.\n",
        "\n",
        " To apply a function to every item in an iterable.\n",
        "\n",
        "Example"
      ],
      "metadata": {
        "id": "P0kHToH-pzTZ"
      }
    },
    {
      "cell_type": "code",
      "source": [
        "nums = [1, 2, 3]\n",
        "squares = list(map(lambda x: x ** 2, nums))\n",
        "print(squares)  # Output: [1, 4, 9]\n"
      ],
      "metadata": {
        "colab": {
          "base_uri": "https://localhost:8080/"
        },
        "id": "EIKf7RiSs9Xg",
        "outputId": "f53f39c3-fae0-4393-ffdf-6c1bbe28ec62"
      },
      "execution_count": 39,
      "outputs": [
        {
          "output_type": "stream",
          "name": "stdout",
          "text": [
            "[1, 4, 9]\n"
          ]
        }
      ]
    },
    {
      "cell_type": "markdown",
      "source": [
        "10. What is the difference between `map()`, `reduce()`, and `filter()` functions in Python?\n",
        "\n",
        "map(): Transforms all items in an iterable using a function.\n",
        "\n",
        "filter(): Selects items based on a condition.\n",
        "\n",
        "reduce(): Reduces an iterable to a single value by applying a cumulative function.\n",
        "\n",
        "Example:"
      ],
      "metadata": {
        "id": "DKhu3QYSp1kA"
      }
    },
    {
      "cell_type": "code",
      "source": [
        "from functools import reduce\n",
        "\n",
        "nums = [1, 2, 3, 4]\n",
        "\n",
        "# map()\n",
        "squares = list(map(lambda x: x ** 2, nums))  # [1, 4, 9, 16]\n",
        "\n",
        "# filter()\n",
        "evens = list(filter(lambda x: x % 2 == 0, nums))  # [2, 4]\n",
        "\n",
        "# reduce()\n",
        "total = reduce(lambda x, y: x + y, nums)  # 10\n",
        "\n",
        "print(squares, evens, total)\n"
      ],
      "metadata": {
        "colab": {
          "base_uri": "https://localhost:8080/"
        },
        "id": "Ucobf57AtGqh",
        "outputId": "78d0d7b4-bdbc-4e9c-c26b-5ee9580ab9db"
      },
      "execution_count": 40,
      "outputs": [
        {
          "output_type": "stream",
          "name": "stdout",
          "text": [
            "[1, 4, 9, 16] [2, 4] 10\n"
          ]
        }
      ]
    },
    {
      "cell_type": "markdown",
      "source": [
        "11. Using pen & Paper write the internal mechanism for sum operation using  reduce function on this given\n",
        "list:[47,11,42,13];\n",
        "\n",
        "![WhatsApp Image 2025-01-17 at 20.19.51_19be441d.jpg](data:image/jpeg;base64,/9j/4AAQSkZJRgABAQAAAQABAAD/2wCEAAYGBgYHBgcICAcKCwoLCg8ODAwODxYQERAREBYiFRkVFRkVIh4kHhweJB42KiYmKjY+NDI0PkxERExfWl98fKcBBgYGBgcGBwgIBwoLCgsKDw4MDA4PFhAREBEQFiIVGRUVGRUiHiQeHB4kHjYqJiYqNj40MjQ+TERETF9aX3x8p//CABEIA1UFAAMBIgACEQEDEQH/xAAvAAEBAAMBAQAAAAAAAAAAAAAAAQMEBQIGAQEBAQEAAAAAAAAAAAAAAAAAAQID/9oADAMBAAIQAxAAAALvWeooCCoAAAAAAAAAAAAAAAAAAAAAACCgELAAAAAAAAAAAAAAAAAAAAAAAAAAPPoAAAAAAAAAAAgAAAEsAAAEo8z2TF5zLNHD0/Kc10MVz63MObPWgQAAAAAAAAAAAAAAAAAAAAAIolCKCCoCiAAAAAAAAAAAAAAAAFIsCiLAAA1slmUSvPoaWfNpWb0slLAAAAAAAAACALAACKIAAABAAQEsMnoKAQAAAAAAAAAAAAAAl5fUoSK8ewAAACV5PTx7EsCeTICUIsAACiLACxSFEACXldWwslMWrZvudvHsSjkV2BE86mGzp3HklASwA527qZ9TZkuaA0t3Ss3pZLQEAAAAAAAAgAAAAAgAAIAACWCWGYFAlEAAAAAIUg52/wA3c6pq5u0eY9EKwZipR59Yq5/V1dqx49+c3m9Tm9LUNLXOqY83I8eixiM2vsYa5Pc5e/qZY18rq3zt05dDDc98PtlEsxZtSrj3eFZ3biy5qWAppbvP3rNPc5vSr0M2UIc2zpvPqWefcOH1sutqbTx7zcOtvyz0iVp7OpqZNvV2oliXDmx5BKNfJkWefRKINK7dnuEoAAAAAAAAACAAAAAIAAAJYAICWGZYWXnV0HJ2a3pp7sR4wG0xZYePY1sW9ytNnB0NVN3UzasuXmdzX1NnQyZpWnkxJ0vHq5un78NRuamzHrx7S6m3pbtNfY8nP6WHxZh9T3TX2LHnxua5n0d33F84PZyOp59aY82XXj1o9H0e9HL4NXpzAbc8ZM2ywam3a0tjKGrs65syo8Y82lZj3tPfqjNAk9ACKIUiwAA0tjW8amfbw5YCUAAADzizgAAAAAAAAAAACAAAAAIAAAAIBLBLDMsL59DW87Us0t7XzrcWUYcxADFlUlRFGPIACUefQAAAYPeRUpAAEoAAAAARRFBKAAJRAFEWDn9Dn2e97ndGgzZQSiKAAIoiwAefQAAAAAAAAAAAAAAAAAAgAAAAEsAAAAAIBLBLDPLCgSwAAAAAAAAAAAAAAAAAAAAASiUAAAEUAAAAAAijz6QrRlm+JQAAACAUSiAAAAAAAAAAAAAAAAAAQAAAAAEsAAAABABLBKM0sKBLAAAAAAAAAAAYTM5iumIAAAAAAAAAAASwXU2SlCCglAA8Q9+MmIw7Dn2dOVLg19/Q1N9LmgAAARYUACURYAAAAAAAAAAAAAAAAAQAAAAAgAAAAlEAlgBmBZYJYAAAADVraEAAAAMOaVo7mrugR5ecFbPlqm9KjBhye7Ll09taIA8au3z7OkJdTYw569CBDl9XV82a/T5fVrzyutjjW3tPcAlAxa+5rWbQlae3irDuaG4nvV2sQy6m2BKAAAAAAAlgAAAAAAAAAAAAAAAAIWUQAAAACWAAACUQCWCWGcFlgBAAAAOd0eXudOmKABGHJXsQBo73P6FBE0t5Wp53NZNoStDfw2YdvBsAxS5QNLYw2bbx7lxS+q9VIrBnCDX2Crpbo1M+QCRjy8/fsvj2lAYc0MGcJq7Msw7UqhAAAACUEoABACkWAAAAAAAAAAAAACAKQBYAAJYAAAAAQCAlhnSllgIAAACHnQz+dTemPJmnn0PPoa3rNalIA53Rx6ep0GDLm+gPPoMWXl11BEoNXaAAEupkrOIY8g19iUAYM+Osexo7wEPPoefQAEolEoAAJYVKAASwAALBYAFSggAAAAAAAAAACAAqWAAFQAAJYCkWAACUQCWCWGaygCWAAAAAGBnVKQAAAAAAAA0N/Rs3lkoAAhUp5097k6nWYc2aBFCKShp7XK6mp7GaAAAAAlAACURQAAikWAAAAFQWAAAAACAAAAAAAIAAKBUAACUSwWWACykAlglglGWygCWAAAAAAAAAAAAAAADm9Lm6m3nw5pQgACAutsqlIAAAAk9adZ8vL6iBKAAAAAAlEUAAASwUEUQAAAAAAAAAIAAAAAAAAlEACrAAACQFBAAoAEBAZbKASyiAAAAAePJlASgAAAAABKEoAAABMeSHnBNTU67FlzQAAAGrs8yzcuXCbAlAAAAAAAASwAFIsKlBAAAAAAAAAAEAAAAAAAAQAAAAAAEsLKIAAAFgIDLZRLABL4NPfx5LAlwe5krxjzaQz5vSHn1LobGvsbmXHi8xumLNy+fXg8ZtXasMflcwjnN6anP6nL2jaYcmb6AAlEs8mDDqdjU85dXalCAAAHG7PmzV2ZkAlAAAAAAgKgoEsFgAWCgAAgAAAAAAAQAAAAAAABAAAAAAAAAgAAAIFgMtlEsAHj3oVvXz4MrQ9pt+fGE2NbawmHN4x1n18+rXjrc7YPOS68b/AC+jrG41NuXB52eVZuZvViwlAANfBW+w5I9AEMOLPls43R9Yaz5TNAAAAmlt8+zpiUAAAAAAABAAoIsAAFlCCgILAAAAABAAAAAAAAAEAAAAAAAACFIABLAFQMtlEsGPJDSm9dTH7nrNxMqsWSwvljMvnD5TP71PRtTVG341hm9anis25q7UBKAAAABgw7qtXZayXZ4fbqvPrNAAAEKlAGnuatm08e5QAAAAAAAEoiiVCpSKIAABYKgAAAAABAAAAAAAAEogAAAAAAAAEsAAEsAWLDKUSwAA15sWtVtE1bsjXyZBKSgAPHvQrPc+qmTN49qEAAAAAAJRq5vcrV3NHeAgAABAqC+PY005Gp9I5+9L6EAAAAAAAARYAVKACCyiWAAAAAAAIAAAAAAAAlEAAAAAAAAABAAIALAmWyqlgAAAAAAAAA5nT5NnW0trVN1ZKAAAAAAAA8eqc/oTn2dESgAARYE1ja1Lls+Tz/T8Xo7WTR1MOz5nIjtElrzz7OkwZ5QAAAAAEsAKlEoAEACwAAAAABAAAAAAAEAAAYjKlB4PbT3KCAADR3qCICLACAyhbLAAAAAAAAAB49jnbmVYEoAAAAAAGvqZvG5s5+Z0cuf629Kuk0d6UIAAa2yNXZogLiyUa+wqam5qp75nW0qb3jAed/DmgJQAAAAAAAEoihKIsAAAAAADDis2xAAAAApARYAANbZ8VrbnP6A8a2U0upyOvRzsJ1xkaiuf1dTPqbQxYsEogIDMFSwAAAAAAAAAAAAAAAAAAAx+M2GzFm87BzNzINT3tjWzeefXT9ayNlyOoe3n1KAlEWCwUAAAAAAAAAAAAAAhUFgAAACksAJo7Gh1tkMHn1zazbujnrN49c2Olg5vRrR6Wp0AMko5mpueek6et5mLgmzj1MW/5yy6Ghv568blZcPq3HUw745OxduzmdLjd9YMBAQAgMwVAAAAAAAAAAAAAAAAAAAAAAAAePYA0/W0s8eyUx5BKIeDJL5LQAAebrmyaFb6WBCgNHbs9mGXM5etqd1oSOhNHzXRmphjpeXOM25o71ecPrmnZebkwZ9Stm6GY1+nyt+soyamxyNNroc7MbVlyaO8rTbg8eyPPoNabSsWUgQAAlAAAAACa20rDmAIiwEAIsM0sUAAAAAAAAAAAAAAAAAAAAAAAAAABr7GGzBuau0USxYOT1ubZ0dfF5Ojy+pjNDpaG+USuT1ubqetzz4GpNytnxjyZutuaPpNvm7GWvTSyCbQxZvcjldL16NHYZTm5d0a2v0aczpoBF183PrD2Od0aSzJKGjvKl1NoogAAAABKIAAAAAAAAAAgAAgEDNLFAAAAAJQgoACQ9ePeAzgAAAAAAAAAPHkygNbBXQeMRsCAEupWp1tDYszjNAlQam34r3iyo5W5tLPNslePYx5QYcwlACLCoAAAAAAQADFh2ubp76PO6IhkAAAAAAAAABAAAAAAAAAAQACWACWGYLAAAAJRqbfj1U19ffTVxdLxWHYI0Zj96dFo72aEam1p2zcaG0e5yN6tzBn0Zdr1dY8edTqWYMujsGb3h8m5ys+6a2v0+abefjdmMPrJhXnXczanqYNrNCHP6CtXD0CBKAlgAWCwAFgBUoAAlgBUpAAAAAgADm9JXO6IBAAAAAAAAAAAEAAAAAAAAlgAAgAJRlCwAAAAEsGnj6GCxsaG+PPqS6W9o59TDu4c0BLpa3VanP3MqObsbXg8Zal09jIqUgAAAAAAAAAAACWCkKgqUAASiAKAAAIAAAAAEAAAAAAAAAAAAAAAAlBKIAAAAAAAgAAgCUSjKFgAAAAIsEtAAAAAAEUAAAAAAAAAAAAAAAAShLBr7GrWz6weTZcroGVh1k33P6BFSwAFQVAAAAAACAAAAAAAAAAAAAAACFQWAAAAAAAAgACABABmCwAAAAAAAAAAAAAAEUACFY9Szdx8zpmYktcv3qdEZo8Ht59E5uxi06Dxpyb+pt415/U0dw9CGts+TU2MOSzNgz4luruapucne1bMuxm546Gp6Nl59ZqURRAAAAAAAAgAAAAAAAAAAAAAACURRAAAAAAAJRAACAEABmCwAAAAAAAAAAAAAAAACWGHxs8jU7Dn+I6fjFsLzcnvQ1O01NvNxae/U4nc09ysen0EaE6GCs4zePuZ8lmtn9lePaPPoIcezo48mdeVsbxOTteNusXvMllIAiwAAKIsAAAAQAAAAAAAAAAAAAAAAgAAAAAAAAgAAEsIADMFgAAAAAAAAAAAAAAAEsAHjJiL753uzF1MeQ1MPRho74BLjySghQAAAASoVBYpPGQcPtelgSgJRFEABYAAAAIAAAAAAAAAAAAAAAAILBZYAAAAAAAQAACWEWAGYLAAAAAAAAAAAAAAAAJRAAAALBQCFBFhQAAAAAAMGa1obepqanaGKefQAAlEAAAAACAAAAAAAAAAAAAAAAAARYAAAAAASgQAEFSkAlgBmligAAAAAAAAAAAAAAAAAAAAAAAAAAAAAAAAAYsW0rnZtskpKAQWBZYAAAAAgAAAAAAAAAAA0a3hBq7VBAACUQpFgAAAABAAACFQAJYAZgsAAAAAAAAAAAAAAAAAAQUAAgsFQLKAAAAAAAJQABKAAEWAAABq7ZAAAgAApCFANGt4QNeti8m11GHNkA5nTVoXeHL6fJ6VZRkAAAQWAAAAAAIAAQAAEAlhnCwAAAAAAAAAAAAAAAAgKRQABFgUQCygAAAAAhUoAlEUEFAam2Jj5tnXmHPLFgBz+jwtzc6M1PeXv3yuvTT3OSb+fz6hrtGtXe2pXnxOhHN2/WI8TcpzPfQpobGZDz6RyesUEANbY5umLs83ogZAAARYAAAAAAJRAAJYACAAGaUsAAAAAAAAAAAAAAAAAAAAAlAEoAAAAAAJRLBUGPLzOnQQAlhyutpbtQRzsu7zNTpzFlzQNLV67U8z2jmbG1TUz5Bzs22MbINHeAIAAAAAAAAnJ6/H0zdLR3gMgAAIsABCgAAEKQASwAAgACDOFgAAAAAJ5x+a2RAAAADn9Dh6ncTzm+wE5VdZo7w8zkHaePcHjWrccraTbNRdt5sV59A8no063EsAHOtdBpDdEIDndHmambe4++bLz6zQEo1dqWoI08udVhAAIAAAAAAAAAAAAAAAAAAAABAAJQAAABFgBAAAJYARYbEsWAAAAAA09rU3bGnuaB43M3Grs6+zyT3u5NM3RmuR19XUxeehyK9bObPHG2NnAbGfT9y6+7o7Fm1MHiXBt6WfUxbnj3HO6mrunN2pDT6vjVPGfNrnvFsaZl3dDfgJcGaq5uXdGptWFlRKHO6Orj1N4ZqUSwWURYACkACAAAAAAAAAAAAAAAAAAAAARYAJYLKAAAJYAJRAJRAAIGxBUAAAAADU2/Nq8/oDUxbeWxo7yNDYzgJQAAAAGDOrHkIAAgAAAAAFgsAUlAAQqCkKkPTW2aNfOU0zccb1Z1lZsACAAAAAAAAAAAAAJYVKAAEFSgACUQAEsoBALBZYAIAAgABJRnCxYAAAAAAAAAAAAAAAAAEoABKAEWAAAAAC4NSuk1doSyBSLAC+aOZ1Ob0tTRzZNRd/FkZeOf01mHPoejcWSggAAAAAAAAAAAAAEUAIACyhBQAJYAAEpFgAABAAJYAARYZwsWAAAAAAAAAAAAAAAAAEWDFm4tdm+fUGj5roCDx7IsBSNHcs9Yc2JcG7q7RzeiHN6erq2dNr7ErDmwmru6mZNgSgaO7FetHewGxKiYsw5237We5ZAAAAAAAAAAAAAAAAEUQAAAFSgEAAAIWAAABAAJYAAQGcLAAAAAAAAAAAAAAAAACAF0d3RrdpHJ2sXnc2ct9Zcbbx3TqRcXzz+is5HXw51kqNfZigjX0uqrR3gCFgsADS0e3j1Ob729k5bqQ5l6Q5zoolIAAAAAAAAAAAAAAAELAAAAAWUSiAAASwAAllAIAQAAEAM4VLAAAAAAAAAAAAAAAAAAlJ4yDDmCKEo8YdmVUQAAAAAAAAAAAAACAAAAAAAAAAAAAACFBFhUAAApFg8e+RXXx5OSdYRyHWwabDndGAgACAAhD0CASwEAAAM4VKIAAAAAAAAAAAAAAAAgUAAJQAAiggAAAAAAAAAAAAABAAADDnqLIAaO9ydMGfZ2NM0OYABgyciuzePmrpNHegIhTHMXL07zXRnaXk3/nenNzPtcPuZs53R1zY5+xiN159QEeeZs6+m7nlgIAgAIogAIsEoSwSiWDYCpRAAAAAAAAAGHBZuiUAAAACKJYKAAAQqAUiwsAAAAAAAAAAeT0AEAAANTTqdjldbRLMAGHDj06GDLjj1pa3U0zNTLlmYssAczdmfTT9bPPOjh192HM6Y5XvpK0smyJ6iAgKGMmTlZa3vfPHQc+HR8aWQya21lObs7YSzIAAgAAgAEsAEozyxQGLLybOsxZVYvfEs293W3SjNAJrVtMGcCNLDn8dJvjnQAAAAAAAAAAEolBKIAAAABzuhyNzsWTFoB5PTV2q8aexy7O3eVDrOD2o1tzV5tdXm72lXW85OfGPaza9anX8eIzDJo72KsGLojDk9DX2A09jIAgAQWCoCqggAAAAAAQqUAAIAAAEsABAAQqUgAMwUDHrZPOps+mtLs4uX1rPevn5B17zsZ1XMGzpau3p79+9c6rnsvHve0a6DBsZsEAAAAADVraefUAAAAAAJYDDWW8nHZ2jxL7a2ymLhd3T0z7HtmxZDn5JqTf4nSPGb0lx+NrRs2cHvZhxe1Kmtto0smyNXaAIAAAAAAAAAgAAAAAAAAAEsKlCAAAABKIAKSwAggCyiAzBSalecGDs6mpsZmbgwbwaW6RzelzK6bHox0goQABqed1Z59Epr8+uwYzI1Ng9uLns6bz6zXG7PD3Ons+PeUvJ6wYquQRy93i9zcy87o8aXssWXJLBzujhs9cvbw6dHj9pGnu872eW9gNhZmgauzVae4AQAAAACAAAAAAAAACFQAAAABQQAAAAILBYAAAAAgAFJYAQQAWAGbBn8W6e9RzuhodCwM0AxadbXJ3/Wpj89LnnQY9bLdfNbWnb5HQ5h2hinmlB54nd81HO92ZcO/qm7zcgu7zPZs83flbelj3o5nW0vBM+bWNzWuzHH6+LWqetz0fPfQVLBDDm0LNrV3+fXQGaBYCyiAAAAAAAACAAAAAAAAAQAAAUEAAAAAAAIAAAUEACAUAIAAQQIUAGYKBob+ts0EAAY+L3vOpztbuD5/p7qtXW6aNDD1Ro5NpGPISgJRi8Z1CxAVBUolhUoAIAAAAMGdXOm1lsyQzQAKQAAAAAAAABAJQAIKAABAAAAAAAAAAAAEAAAoAAACAAASiAAgEIoCDOFAAAAAAAACggAABLAABYKgoCUSiWCwFgAAAAAAsBQSwAAAAAAlAAAEAIKAAgqAAAAAAAAQoAAEAAKAAAASiAAAAEABACLIqUgM4UAAAAAAAAAAAACKIABUKCLAAAAAUiwAAAAAFAAIoiwAAAAAAABAIsFgoIAAAAAABKAAAABCwAoAAAAgAAAASwAAAiwCIsAM6xQAAAAAAAAAAAAAAIoSwAqUAlgAAAWAAAAAACpQACLAAAAAAAEAASiAAAAlAAAAKASyFQpCoLCgAAAEsAAAAAAIAABLAIASwA2AoEAAAAAAAAAAAAAAAlCWAFSiWAAAAAAAAAAoAIVBYAAAAAAAIAAAgAAAJYLBUFSgAAgFAAAAAAACAAAAAAhYAACWAAQgAbEFUIAAAAAAAAAAAAABAoIAAAAAAAAAAAAABQAgAAAAAAAAAARAAAAAQAAKKAgAAAAAAAAAAIAAAAACAAAlIgpCAED//xAAC/9oADAMBAAIAAwAAACEaI477777777776IIIIIIIIIIII4IZ777777777777777777777777777777765IIIIL764Jb777KMkaSKp77777777746oIIIIIIIIILKLI47L7777777777777777rbLb77n7qNbb777744IIL7b67L76oJ745T6ob77rZ4pLL76IIIKgYIIIIKYJbYKLb77Lb5rp7p/a/v7YIsoJb69r6vYI777764IIb776IJ64J76pRR6pL76prKYaHzY4oISEZ80YJpQh3gU8KQ+pbqv0KLMJZv4s4kO5a536p97777776IIIJ776IIb74p4p4DYDhjyYJZ/oeyPLHNKgQkVdWu1Klem/pbhAxLtUIKILLrb75uX77777577777raIIIIL764II776oK5bTbp/oz77BKaIJIIIIJCIIKIIIIILLIoIJL7La8kKJLIILLb677777777777776oIIIL776IJb776IL5ZZapb76II476oIIIIIIIIIIIIJKIIIJoIIIIILIYkIIIII7pL77777777777776IIIJ776JaJb774ob5ZBapb64oLLaqIIIY4IIIIIIIIIIIJaro4KIIKZdLUIIIILYIJLb777777777774qIIIL7744Ib776pL5YoJZb77oITa4IIIDoKBhLeQIL8KQIY9F8MIJMJgVEkIIIIIIIJb7777777777764IIIZL777oJb76pL5bYJYL77oJF74LQIJ4KD8JEkIIsqyYI4wCAa1IJb7UgIIIIJIoIL7rb777777765IIIJ7r7b4Jb7774LppQpYb74449LZryIKU4JJAqIIIIAJIoICAIIIIpKIIJYoIK776574ob777777774IMMJb7476pbrbr7qoZSqpb77775z7Y4IJb6oJeYIIYoEoLJqKkIIIIIJIIJLIIJrb7774577777/AP8A/wD/ADDDf/8AvjvrkrlrqrllkKglvvvvvvvvtihnvigkXAggvkIggggtIwggggggksgggrgsvvvvvvvvvv8A9P8A7jDDDT7+u++r/D/++iKqqCqe++++6++qS+e+iKO6CCCubKCCCCLTiCCCCCCCCW+62KG+++++++++/wDz/wC/cMMN+/f/AP8Aw10//wD8Kqqpb75f4QJOqU25rfC5F+YIJK5vAIIIJOkIIIIIIL44Ja764IIL7777777/AP8A/wD88MMN/wDf/jTrDD//APw6qqlvtEM7/wBfyme3wF16oJwY4bG8IIIIIcIIIIIIIIJ74Lb76o4I577777//AH//AP8AvcMN/wD77DD7DD7/AK16nolvnRuNBD60WwV6gkrggoH6Sggghiglyggggggggkspisvvvrjvvvvvv/8A+usPMONP/v8AzHLHDDX/AP1+sulugtCYYUoglE1KgggogtggPAgggnjgmxDggggggggtvighqlvvvvvvv/8A/wD/AKxww0/4ww09wwww/wCNsK+pb77oIIIIIJPNb4IIIIIIILM4IILb7cFXcYUI4IIIIJb4pIIb7b77777/AP8A/wC9+sN+MMMMN1OMMkMucP8A+W+++SCCCCCSH+6CCCCCCdLbECCCSC+KAhX9TCCCCCCCCCSyS2++++++3/8A/wD/AP7r3LDFhLQMrKFrnTL/AAlvvqgggvqggktrggggggtW34RSRygktrgggggggggggggghjnvvvurv0H7zbqho0zZhVIIQtI4Kx76/wAJ4LIIIILb4IILLbIIIIIIIIIIIJOIpLpKIIJYQoIIkIMtV8NXk+9+L+b7f1/9+2Mf+uMMMM8NHGPceudbqJYIIIJb4IIIJIIIIIIIIIIIIIJEcLavcXMIGHxCelHGVMd9uX8/5f8A9V//AP8A8MNP+sMMMPMMMM/8Ot9YoIIIIo4JLbooIIIIIIoII4oQwIJSkIKYy7vb6JKILY777777/wD/ACEX/wD/AP8A/wD/ALDDD/8A/wAMsMMMMP8A/XrXC+CCCSI/ddq8ibBZQwfnFtVLkN4CARCCW+2u+2+KCCW+K++++/8A/wD13/8A/wD/AP8A/vDDDD//AD6ww0w1/wDs+NMr4IIIK58NZmEK0OcJCJIIIIIIIIIIIK4Y4oIJL7IIIL77777/AP8A/wD/AP8A/wD/AP8A/wD+8MMONP8ATjDDDDP/AK+y08vqgggtuggggggmggggggggggggggggkluiAhScvvjjvvvvvv8A/wD/AP8A/wD/AP8A/wD/AP8A8sMc9/8AjDHXrDf7HrP/AAvrgggggggggggggsghiXwgQhghAVPghm7Hq5aSksvvvvvvvv8A/wD/AP8A/wD/AP8A/wD/AP8A/MNPP/8AvDDDvT/jHrvvC+iCKCCCCCCCCCCCCCWhPIhojhhhC3wSCvOjXwiC2++y2+++/wD/AP8A/wD/AP8A/wD78w1wwwz/AP8ADLDD3r7DDDv/AAvvsqhigggggggggglvom6wwQqhgggggpjmsgwgksvvnvvvv/8A/wD/AP8A/wD/AP7/AM8NeMMe9f8ALDDDzLrDDH3/AAvigggggggkggggggkvvvvrghgtgggggggmAiiggkvvvvvv/wD/AP8A/wD/AP8A/wD/AD/rDDDDD3//APzww4z6zy+191vuvqggggggggggggggggggggggggggggggkA4gjnlvvvvv/wD/AP8A/wD9f/8A/jV71DDDT73/AP8A+8P/APrHP7X7i+uO+eiCCCCCCCCCCCCOCCGuOqCCCCCCCSCCiCC2++66++//AP8Av/8A739M/LHPyLDDDPf/AP8AsMMf8P8A/j/XK+++2+OCKCCCCCCCCG6yCC2y+qCCCCCGKCSyOCKLS2qZVx91cshZtJ/z5DDcGDDDD37D/rDDT7DXrH7D6++++++m+OKCCCCCCCCCCCSCiCCCCCCSuKGCCWCuFeu9dHtPN9//AP8A/wDjDDDhlDDDD3rH3rDHHrX/AA/+z6vvusvolMsggguxgjCHghDxDghhCgiggnueygkgPrHvv/8A/wD/AP8A/wD/AP8A+sMMMNOMMMMP+NNcMMPev/8ADXj3C+++iCi/TVxpqBFR7itcBhB55dxDCAiESiFCSuS2+6+//wD/AP8A/wD/AM//APjDDDDDDDDDD37X7zDXXrTvT/DbKe+++qCcA5h7CCSCSiQCCC++++++ue6iCGOGOIAABy+//wD/AP8A/wD/AP8ADzDDDXLDDPLDLT/DLD/vXrf7H/L7q2+++++KCCCCCCCCCCCKCCiC2+++62qIW62+eBkOvL2//wD/AP8A/wDz/wD8NMMMPMN/+s/sNcsMvf8A/D/rX/D3q2++++qCCCCCCCCCCCC2yiCCC265oA8N04f2+SuSiPX/AP8A/wD3/wD/AP8A/PDDDDDz/wD9/wAsP/sMd/8ATD/LXjDri++++++uKCCCCCiCCCG+KWZ3HaPSuM+e8+ue+FRltv8A/wD/AP8A/wCsPf8ADDDDDDHf/wDx240/6w1/66w/x+wx6wlvvvvvvvigggggggggisooktDvvvvvvvvvvvvvv/8A/wD/AP8A/wD/AP7w8w4ww9z/AP8A73Prfax/DD/D/D7Tn77jCS++++y++uKCCCCCCCOiCCiCCyO+++++++++++++/wD/APfHf+Ux+8N9OUP+4Hd2GHAENbUMPuPP+PdNdO8JL77777LIILM4IIIILK4IIIY7rZ7777777677r7//AP8A92V/3a3BSwwSSzw1Tf2Vb5dTQTV8wz/w+w1601vp3Kb7gjBAvfgggggggggggkokvvvvvqbvutM5z63kcKfzfzba4wx7z8b3+/8A8PMcsMM/sMNf8escvuv7JFDnHHVbSUnioIIIIIQoIIIIIJbiXjXtDb8X4kf239HPMNP+sMMMP/8Az/8A/wD/ALDDXLP/AP8A8NP/ABVp/wC066hI2kg8z+Mokk4ggCDQlSQwAuUCluwea51vjPPvvvvqwwwww+4wwxz/AP8APT1//DDDHvf/AP4wx+wVYa19y+AtagliYY06bhgouz055WZzy+6QvrzVvnqnvvvvvvviwwwww4www/8A/wD9rDD7zDDDf/8A/awx/YRfQax946gqgggkY4Q064gknOvjilighvvvvvKXvvhvvvvvutmow4wzwww3/wD/APzbjDfDDDH/AP8A3kEEH2kFH0Gl8M/aoIIIIIIIAIIIJb7644IpK5677767756Jb7777677KIMM8MM8/wD/AP8A8MMMdMMN/wD99xhBR95hBF5Ft3L/APvviggggggggggsvvpgtvvvvutvvvvvuggstvvvvvrigw97w/09/wAMMNMMMMMd/wB5hBBN99JBV9BB1L3r2++OKWuCCCCCCCCCyW+KCu+++u++++++KCC2++q+++/DDT//AKw44wwwQV5xz3fbfQVffffaQffYVfw14wgvvvvvsgggggggggklvilvvvvvvvsvughjnvvvvvus4ww3/wDMNe88sMMf333332EEX332EEV30FX0N8N6L76L774IIIIIIIJ4L77777777774J76IL7776J74IJ4N/wDjDjf/APwQffffffYQQQQffYQQQfYQY4X/AN//xAAC/9oADAMBAAIAAwAAABAUk03/APrxhBDBBDf99994gAAAAAMCEc8840408wIAe88+sMMc+IAU6+y+++qCCSu+uCC+CSKW+IQKidkTtFd995BBDDBBzX+++yiOKCAAwgwMMw88s8U888kM888+++62y2+87+6ue2+OKCCy+qC+mOIyqAUIcoYKhVE9JFLh3vPBBf8A7ujjvjAAAoilvgotPNstPGOnKGthXfsCq6glvInrq3gjvsggkughvvGnKHEHHPNAiq10fy14x1iqqD8tvtNcgBaimkvxRE8woNolOofQIDiooNhTkobvvnWsj2vvviggnvqgmPAHLBPoJFNGFo/0mDHulAyonH5k5bplHWPOtx1sHvmDlGAGELYggsgsutvLML/PPDAMkglgghinukogqMEPKDPOlIKAHsl19CKg3X+rvvvrtroIgkogigggssCggEPMNOxQIEMAAstrrvvvLHKAggligglsogAvOAHPNusgniKPPA31iw3/APHEFT3xw4yIAAAIAAJKIAABgAAAAADCIOwAAAA7hL7zzjT74AQJK4oJ44gB64p6pxb6ADSSjToP9cFHX00lV37pLfgYIIIIAIIIQBSbogCAAKb1pAYIAADQABDb747777whb74LZ76oLwALDwT6IBDCgSAsN80EXvgRH+8hQ6ra7jt4AAeqAAQenGUABkpi9PEIIAAAAABb777zrLYIDr4JL77IZKzwAQxaIJRigRwYMP0kX8joG3i4KS6LPpNMIAUqyYIywKgI1IJb4mgAAAABAgIL7jTzjQ4z7aJK76555L7YDxT76ILgQz4sMSwHHclamPA4D3Y5p6yAKACwgKoBTYJIAAhCAABQgACzzyxzwoa777IKJYIL7+8Jb746pZbiYYZDxi66Zbz60lExwrP64gBS73DwwQhH4DBiDHqIAAABAABDAABjT77745zzz7qMMMcs/wD/AH/fPjvkGhjGimjJOovlPPPHDXP4CNOICNPLWvPAPHHrDCAMMfiAADIAEMAAALgsPvvPvvvvuAw7wx3/AOMNOdK74gf+G/boiSwKqpz336LLrxa6iABzjgbiICoCYBTABV1zwATgAAABTzjQob77z77z5rKcvMNMv+sN9F20EH1dP/8ADqc8C++m3qi6zecGe2RAYT6e8sQuyMoUIAB3888IEIA8MAUs+uCCC88++6+CBDT7Dz/PDdB1hdtV9D//AIY1PKlsjhP3Y2m5JjYOnXFPqusqgxHuMAAK/PPvPPLggHPANCMKjAjnvvnvKQSw4wxy/wAN2kUX38XMPutVVQgIJaHKRzSnnu3Llb65Dzx4lWwgDAQgBHbzy77iAABDCQjAz76477777wUsNdf8/wDf7NlBN53z/DXrDVkm6WG+KXfvKS2yJIW8y+eMIqqq8AAAcMS1ww8++++gAA08KCGqW++88+4HNrDDX7//AO4X897T/wD2MP8AJNoTqWqCG+++uOqHNUA8KC2884aHw+uC0OlQlN87+woAcoAW8IQCG+2+4+++/vDXTjX77fTTzzgvdHELj3LL+WKCCu++++uOhwG++CCQww/6Q+8sSi8aErhhlwwQ8sAACCSyS2+4Ec++8/8A3z1w14Yy1qkC8VyVX8y86wggglvrnglvupiEPvDHrgN5Sv8AXv3wBDTyBawBLzx7wIIIIIY57777q7+h+yztxD8MT922ZaZJADUcUOsIL4777r56L774wgz77644ABC4JCGIxDhSBDYITJaocIIdBMtzo+3KX/VJbL5/NI8eNf8A/wC08+wjA475+1pnqvussoovvvvrvvvvjrkoggAEKA4QNLx1/Qg9fYA5BrE6xPuBu1qV/wAJ2NMcv/8A7pX/AP7yz/8AMM+uNstbb776Io5a44bb775777b6JaI5g75B4ACQqaFT7YoILY777776sMNmx+v/ALDDDH//AC/ay/8Af/8A/DD/AK0706gvsukrEcQ5QHv/AP7qbK8nov3IgSoBOABbzSzzRzpIZb4j776LMMNb7/8A/vDDDT//APw7481f97697523U9qvrugrt/ZhV4rUx8gDpvogoggkAgAALBDiggkOMAkivvvvus4wwww9884www0/+6406739/wB8s/8AnNZROqW+qC2a2KCCCCaCSC2aiCCCCCCuOMCSWoKAfHw88MO+++++/DDDDDTDjDDDDD3vHPfDf7TrXLfnvvLrq6S++OCCCW6iCCGCyCGnDmd+GKsz4iqSV6+ItYCSy+++++uIR/HDX/D3/DDDDDPvTzrDTDTzTTzfnrx7qqe+2+uCCSCCCCCOCAUNzwSY9DjlubYCitojpCCC084y20suL/vDTLTTDDTP/r//ACz/AOv/AHPDfDvPPXb/AKqgjlutggjjggggoglvNpwZ4wihEtqggJDmoswgksnPnvvvPzXwwwwwww0w8/63+x71y9//AMMePdvdONOoLb777775a7644IIJL77764IYLQJY44IAJiGYoIJL777773+/+N888/8AjPDX/wD/AO8Pf+MPP++M9c8u9d/4IYJb777577LYJYIIIIIIIIIIIIpYILIIIILEIIxxb7777/8A/wDx+86yww34BzP/APdvvcMMNO/+9cc8dccr5rIKJ77774444oYIII4IIa46oIIIIIIJAIKIILb77rr76/tfv/8AAnMnL3IW/wB/24y04yx+8x6+/wAtuu2K5IIoLL7b777pLKIIbrIILbL6oIIIIIQoJLI4IpFLb4h+RL0fdpQxhC+bvPmn/wDvDzH+rX/DTvDXTHHLSqCCCCCaCy2++++OCCCCCCSCiCCCCCCSuKYCCWimfWa+Jr+uSjjDDDDf/vLuA/8A7y915y04xx1946+xyaughjgnjjjvvvhMvnqBChB7DiggDgljCnvyYgkgLvnug8wwwwwwwww1/wD/AP8A736//wAPt9MP7++ce8uMM+cY7qJ75pm/MFp7kCd+T9Jj+tcfedEIAJRKInJK5Lb7r7O8te8sMPMMN/8A/wD63/4//wCvcf8AnKzjfHT/AE6/z2nggglvjLhX1frqjgkgAggvvvvuvpnuoghjhigCBN8vv/7ywwwww/z/AP8A7Xj7jP8A/wDcuOPOO+vdNse+vNerb65IILb777656L4YIIoIKILb65qb6wBbrb54Fw6Ufb/+/MMdvMMP+/8AvPzjbvnPHvD3PL3DDrnXXjLju2+yCCW++++6S6++CCC2wKIKG26jOKu784Te+8YWuZX/APxwyw8www8//wD/ADDzvD7v/jrG/HbDHL/zXbj/ACvugoggktvvogimtjghvjHtZTejYvjPrnupngr89TX+8zzxy1/yw/8A/wDrDDHfvi6mb7+WrXrXrvrvHzDTiWqyCOCCC2++++qWqCCKiiiSWO++++u++uKCCCC3bTzDDH7DLTvP/f8Aw9z/AP8A/niu672K+LrqHjnnH/z7CSOKCCOCCS2+++6CCCOiKCiCCyO++++++6iCCGOC3/jb13jOBLT75sS77FOwxCIr8yHA+Lnfjbfn7P7vCS6yCOCOO++N6++CWKyuiCCGO62e++++++CSS2+vL3LPozD4gz3zDS+u68YgykscUUw6ozP/AD86r/8A99tbIsBHxL7zj4Sr74L6IIIIIIJKJL7L64J6a577W2dq8D1qOcf1kV8sc8PF8MYIL8PfqMM+/wCjXDn/AAyxw4jszn027w3ycqFvgvgggCggggggluL9L4rtrS/IZ4Z+Xzz/AO8df/8ADD/v/wBzygh+w1yz/wC8OtPMzlGtdN9b4rZj1kMQ5653rggIkoD+EgL9IoZH60mjb7674oIYJf8A3/8A/wAd/wDjHP7Dzr5rD/8Ayx73+436x7+QSX454wEE1uiCiGTE+sotlRX5YI8ySZ3arlT3vnqnvvovrggt/wD/ALT3f/rD/wD8wV78xz6ww3/+4V4x+Xdcafx+y1vnPvipf+dXRygkruvrilighvvvrkJ3vvhvrnvvtgpn74wz8963/wCtM+dveP8A7jHzzBF5xB918ZJpQL7PKW++++uCCACSKCW++uOCKSueu++uSC2eiWqW+iCaiOe/7PHLLH/DDD/TjXv/AI38wQTXQUcZXaRRbYZy+yggtvvvnrjnrggsvvpgtvvvvutvvrggsggstvigijktvw536667w/8A+NMMMOMd8EV2kE30HUlWn2kHPffb4rrapL777rL5oILJb4oK77767774IL4oILb6pYIIoO8NP/8AXrjX7zBJXnHPd5RB9V5hlAVt5pZVrvXTCCqKCCCO+++iC+CCCSW+KW++ue++6OG6CGOe+KCCCGPf/DfrP7XvPLDDH995BBBdpFtBBd9tdB9VpzPjei+ieCCC+++iCiCCeC++++++++e+C+++iC++++eiC+eiDfjf/ff/APwQfYfQYQHffAQfQXYfYPXfY3X44//EADQRAAIBAgUBBgQGAgMBAAAAAAECEQADEBIhMUFREyAiUGFxBDAyQCMzQlJgkYGhFGJygP/aAAgBAgEBPwD+GSaztQumhcWh5oUYIGjQ4yXUzuNfKnQpE8iflQYmPmCrlsJl8QMicFSROYAzTW2VQTycFtswYjgScFtFmA4PduGbFv8A3ja+v/B8jsIjJdzLwIpVLGAMYOA3FXnz3CaG4r4kzdI6ULLlM4GmME0n1r7ivifE+YLE70FJ2pVZfg3nbNSLmMTFXLYSCGkHY4KATrVhFusVIjTcURBIxuABtBpFOsW7ZjUzjbtPcJC4A1cu9qIOkbYLdYKyzoRGFmQVYsQsirn5j++BjAsSZnH6FPU/dIuYxMUbIADZxlOxplKmDQVjsKIjC0BczKQJAkGlf8NvApNIPqMcaVY+JKqyvqCI9qQ9m4aZApVX8QAgyNKG9AKbgJbwzVyS5JoaEU/1GlIBBNOe0ObSeRQaOzYNsINKVF8GfCTWcMXWQBxSsFkbgiDQygg5qu3g7BleAOKkMpA/dNLdAsm0eTJNW8gzAuIIp2R0CjTLt64hyAQOaLTuNaEQZwTOdAYFXCOztx64gkbHvqCVtRwdacy7H17wJH3nafhZI/VNNqiUInWjHAwDEGQcZPfmQB9naMhl5YVc0CKdwPlSRz/BpJoI5483AJMCuxuxOQx86DAPegxMUInWgqtME4WiTc1PHmKqzGFEnvKYYGrjNnYSYnDL4M3rFZfAW9YwUW5Xc04hmHQ4qAbTdQRgfpGJBZVjgVcUBbcRMa0jhQYEsdqufViD+ER6jBWKmRTAQGGk0hh1PrTCGYevmHw+gdug7hA643PqnqBgrQCIkGs02yI5GFs5XX3pyS7T1xWMjSRrhpG5wIjAmQB0pWytMUSDxgwAjrziCQZBoknc0pQamaY5mJ8wTKFdJ1PPcJXgYnxosbrRBGKrmJ9icQYM45fCG9YxJJMnBIzCdpq4AHYDzrM3X5Vr6iPQ962CyOB6GiIJHduqIVs0kj+CfD5O1XO0Cny5jl2nuqzKZUwe8qzzFOgXKQZBHnMGJjT54iRO1JbtsWAaZBiiI7qAZWY8UTNvXr5oInWrhQkZRAGByZB+6gs2yY1mmeVygQMHgWEECltKbLOSZnTARImrgQNCNIrKcs8YK4lABpzV5UJGQ6DSiI7v5RQD6v1U4hm9+6jASDsaYiIEx5pbXM4B25qBmidJo2mE+lBPAW9aUkWzB5ogkZuctAE2HzCWkRV2Wt2gOBB96n8DIDqGk1ZgNmbamEEiras8wVECi7EQT3AhIkVBxDZfp360XRiHJM8iiZJPdQKUed+PNBEidq7QBpVYHSjHFZ2mZ1oknmhNAXOJrK5M1lPUf3QWP1ilRSwzXOaufmP7nvi43Waguwhf6q9bFtoDT8i39UddPNpTTw1n6KtZ2ou/7jUnFFlqUzcX3ptWPv8AIBqZeeppxDt798GCDQt57LMBrmoqw3BHndrdhyVMVb0cenygYNHtLpLRPeCk7ChCkGQSOKX4mUfIuUheKyPcYeKZpLebNrEDBUZhIFEEGCPvwCTAwAkgUylSQdx3CrKASCJ+xBINNcZt/k25W2HAXfUmrgacxIM81bdYUExH9GmUg9wGOKLE7nAEjY0rMuxikMEn0q2YXSN9Z6USpGUGIJirhkj0H2nZvkzx4floYdT61cEO3vQVwVOU7iKvg9s/vQsvE6bTGAtvoSpirzFkM8PA+7XJyTTFcoVZImZNFrZgwZ5FFpaY06UqW3YAMR71l8REintsgBYb7fe3Tlt215Ik4W1DHU6ASadBlDqDG2tIqFSWaK7O2pVWYyelXuxACojBgdScVNsJBjKV09zSLDqG2mlMt+IoCjmIpypvZuCZrtCpZi4I4FF5g8imuZ93jTURSvbVhCTruae/dLQdieBV/wAPh5zEnyE3HP6vkwIJmlVmmB3GTKBJE9KAJMAV/wAW8VkAf3XZXP2muxbaQD05oWnNWkz3FX1q8EW6wQyopLWa2zcjb1wthM4z7VkAJlhFXlWVKiAVGFlCQXiYq74grM8nY4KxU0brbcdMJNZ25NTPyldl2NEkkk+RJ9a08ws742/1dY0rs4tljvNIwEyJ00p4yoYgnCyQGaSR4eKYKUzAEa0SF+HygSWOp6VEETTqWYkRBq2VRgxM+grKwaQdJ3ms47bPxNZiXzes09wtcz0XGfMvWaLpuE1rPrLa9OKdszTEYW1EM7DRavsWKH/qMJNK0SDqDRA4PkQidflwYmNMBbdtQprKdTG2+KglhV6Hhl227gbwkUDBBiaZlYzBnAEg0STuaBI2J+autlgODNXPptf+fISZNFQujzNB7U/l/wC6YqWkCBQzzGhQ8SKZSpIOGQlFIGsmaKMI0prOW2GO5pAGYA0qywFOqoo8IOsTRS0QsEgsJHpRW3tm1HO4pTbQGfFIpHYmNMv7TVxArQDSnxLJ0BprqZnUfQd6OXjXBWKzFdo326OUaad85mI6DyJWLaFc1OFBGU0NxVwBmJDLFMRCgGY5wS6FUKRImTTXJEKIEzRuBwuaZFe1FmO5/kFsKbihtpoKS+Udaa26brQXqYp0ZDB8+VGbYaUyIq/XJ6DDsTBJYTExz3AALRY8mBQRihYbA0hUMCwkVcCwGUQDxgIkSJptvoikMOtWz4z6zVrMM4M5YM0pDoFJgjY1cM5VUEhR58ozWiJAhqyA7OpNaqfUUiowLlspIOh5plKkg0hQQSGma+IcPdYhYoOQI0IrtCbbLoNtsGa2YgHSifTG2gcmWAgV4B1o3JERPuadoClVA010rO37j58IkTWReXEU7BjpsBFK65QrgmNopmzGcCZ+UDBq5de5Ex7D+HAgEEia7FGstdGkfp/iAdhEGi/RQPtgpKk9MGUqYPn5BG/ybdtrjBV3wCljAFGyJgXFJoggwcEcrPIO4oOimVT+9avr4yx5gjzogiJFIitu8GiCCQcbltSw8epA0iijAxzNXERAozS3PpXw6BrqhhK800ZjG00luUJO+4HUUz2ygYWgOCKLKkG2d6JtNrqD0oXcn5Yg9eaNxTqbYmjcYiNh0GDvnaYxtKPEx2UVeYuEbqI82uKEaB017l0ywHQDBSLhgrr1FEQTgt9gWMAk89Kk5ppmtkzlM+9Z240o3CdcqzWZs2adaZ2bc/KtEEOhMZuauEQqAzH3eUZM3rHesoGS7I2XSoOCoWngDcmmEGJBpEzakwKNBSxECmtXF3Q0FZtgT3FUsYGIt6SWAnaaNtgCTwcbEZ50kbTV9fxGJYa69xjJnDO8RPl50RB7mrceIkTAqEdTCwwHHNW1Qhy8wBxWW2yMVBBXCywW4CdqRrjktngDine2XOVBFShtgKus6iaKtOoph+GmXXeaCN0pp7FVTUTJNF2lBmg7E1dcZ/CdB0olD4zvyvrTMjwSYIEbUWQoFEjX+6RsplCAepq5lzeHCTIo3XLSf6okHYRi3iRW5Gh81JkL6UjZSZEg70HRZKgz60jlT6cii+hAUAHvgkbGiSdz9kwKkgjUVBABigCxAFdiYY510H8GW27CQNOtEEGCO6KvavPUA1M2fZqBIMikfKTIkHcUyKVzIdOnI87tqGcDDsny5o07pQhQ3BpPrX3p/rb3pmJgcCiFuGQwB6GiCDBFLOYRT5j9TDFmBVeopWGVgecBTOxEaAdB53a/MXAZibTLsBqaJXtZ4zUS7OVbVTMGMEcrsB/kVccuFkyYwJkk4K4G6Kadixnuo1gRnRj7Gme0D4LYj1rtTwif1XbXOoHsBXbXf3HzsEgyMJOAdgIDGPJkQMH12E1bQO0E8HBbls5EKKByaZGUwR50VIiRvjZW2S2Y7DQbTT3vwWQqgnaO4ioZLNFdgZkMMv7jtToUMHFLQZJ8U+gmsrbQaFq4f0mvhilpiLgQqwgg6mr6IlwhGkVaIDidjoatSt0A9aOFsgDxXBl5XemiTG33AtObbXI8IMeQLZuMuYDSr5HZ2B/1xFqLRdp3haQAsJ2NFLdtsjCSeZ2oowYiKODXAbSIOCSaUq65GMEfSaKqvIJpHZJiP8iv+Te/fFG9dO7tRJPOIBJAo2rgMkj+xXZnll/uuzXm4tRa/ef8Ch2A3DH/AFTPbjS3H+fnW0VsxYkKOlEQSKtWi4ZoMDpVzIFAygN6YhSxgCaIIMEQcAwHwDDk3B9r8NbRhcLiQBpiBJAplKkg0iFrTajfmhZ5dwo671ct5IIYMDyKFq08BGM8g1ZX4YFiwZgo2ikUNcjig8sWbQDarjh1XiNMFKgywmu2fWYIPBrMZmmYsSSdaNxyACxjyAfk+7igGYwBNNba2oOYa8A0lvMjkbgiuyX9NxT1nSuxPLp/dKgt21ykyRJI0/3TFXV4ILmP6HQmuzj62A/3QdHQ2gIG6k9aIIMEd8AsYAk/JAJIArsl1AeWHFAEkACmRkMMINWLip8PcJWTMCmYthbBWG/UfpFXV/V66+9FvwwPWlKFMrEjWZiaLKEKqSdd6s3OzaYnSldlaRXaGZUBfamdmOpJ8mVGbavw0srPiJY0bjEQNB0FBxkykcyKV2UMFMA70n5d32FKhaY4Enu9q8QTPuJwFslC44oCSBRRg2WNaNi4BrE9OcPhVMsRuIpzLsepp0yGJnSspy5o0wvW7aWkj6p1NWUDsZHFEQYwtsFbXpVrKCQOQdTVq6bbAwKeHYsbgM/3XaqUKbLxiXYmZouzbknywROtFiY6cCn/ACrfuTiqqRJcClNtbTEAtJA1pHds4J0yHQUqOxAVSab4O8GURMirCKHftBoFPctXCjeh3FC03agDbefSlcG65mJmDVvwXFLON+INOjM7MSBJ3mke2qugYjN+qh2aayGPTirkXGz5gAazIyZAYAMg0Cq+tO6XCGZiDG0UXWAAsKKuOHiFjC2oZxVsk3AfNXP0AcL3EulFIEamk+IdGBhfaBTfEuRCkgc60LoyhXBIBkaxQvRICjKdx1rOB9KAf7oknHO8Zcxjp81WKkEUWtgErMnjp/8AX/Hc/8QAKhEAAgEDAwMEAgMBAQAAAAAAAREAECExAiBBMFBgEkBRYQNCBDJxgIH/2gAIAQMBAT8A8MOjScgQ/g/Ef1E1fw9BwSJq/i/kGEe6sVwR4Dp1N2VCY9j2j+xrqx2PUcbwEKaMRhrYcTRhOhL1iEqAuptsEBuanUBmoCoqaoMDYhXJ929pqdNHTiDGwWnyJf0xJVAXE5iu4Xa0DB3lQZPSJzBjsSv2I8QcnxFjxAi3cWt6G2+zkbgcwwYrzQwQ4gwO4auN4rzQ4gxXkbzUbbweDjHgh3HI3DwQ4g2kbwX4SzuM57qHzXmo/tCbgVDV9gJ53ZcG091NHOa/sFBkz9nDBNRSi6Cl9xyO6oqiFbS1X9QYHQxzNJY6Bx3dfcUQ28dIeDHp2G50vzLCOjHZ2D7JdE3KghG5bDDmg9ow10zgwYEYvNOBPUKeofM0hEf57sviB8y8AjNAQfejJNCVATiEngR6sgTT6jkit39wm04sYH6YsWigC4hGog3g06V9zRe/12FDrA09elxj5nqEYhKEBKDhKNC1aOaSaE4EGSAKERVQ6ZAMFuxHEFTHeGChgmdVBCyIwoj6VQC1EfmKCwoZp5qR3XTuHseRBk9jv8wNUFHeODVdUMBcZjMuYoIYAbbF7gDsYoIKEQCLyYF9+JAq9rvt/wDaniYgGT37nbeDFFel9hKooB4A4IjxB1QF4ey14ivICQAzUH6qRFBjv7McBJhNqO85zVPMUW0wWY7sOiQPYfHYibjoMdQwd15hmIXLgihhQganNBk05oJeXERcTg78Q6LyN7xjwZ+FqCq80Jqj34uK+17Gq6wSLNwYhxDip/z3LuuwjayeghFvf1S8v89YmhKgbzbd+w9rqKW4mpcOIcQdm5o3CVAaHM5EcRsfaAgw3PQIfark1QMORCVtW101GDEFQWdhonBjEA7lydnxDHHCbbXacCGDEvLmC2896UIiii/7W//EAEIQAAIBAwEFBQUFBwMEAgMBAAECAwAEERIQEyExQSAiMlFhBRQwYHEjM0JSgUBDUGJwkaEkNHIVU4KxRFQlNZKg/9oACAEBAAE/AtIrA/ovitArdLRiprc1u2FY2B1Jxn5u1Dz/AIgUFGEUq+Fx5/NrHga3Hdz+KoJNa+o/iMP3a/NE8275DJqGTeJntL9nc4/N/EVGB8oZHZz8HNO4QZND4F4SjBv0qEYQdq67skLevymszvdFeg7AdSeB+GTgZpHVxkHsE4GaR1cZB/aDyoxSmdW49ibO7OK3TogdGOeoqa6XcZHOovu1+nYt7mT3p425Z296Kfj4Wr2hICgA86j4ov0+BdqZSEXpxqCUFcHgRWR2bri0Y9fka3uH3hDcs/EY4U1Zr3y3ntk8DfSrRfC+fr8O5+4f6VYs8TBT4W7Fz9y1WI05G0Orcj2ZZQgr/UHiMfSheKDpcYby7cEpeaQdBsvZGjVSPOl4qPhYwKFtvN839qt21RLteHWfGaSBYrjPntIB51dLGsLcKsyxhXsPMFYL1O1uANQo3Fm5mmiRjkigoHYJwM1D9rKZOnT5F1pyzSDvyDybhsnn3ToPPYCDt36VnhQIO2X7p/pVoo3KH02t4TXs8cH9G2XUzphUGWNW1zIrlJ+HlsMiqwBPOmdV5mgc7DL9oE2TjML/AEpSDDH6VvY/zDYZTqwi5q4llETao69ntrUnZclpHEKnHnTW72kyMr8Dz7Mw76NjhsvvtLju/h51C2qNT6dpcQ3LZ4autah51ePq0DHDNDwjtS3E4bu0vhHYCgDAFbmRGJjPA/hNKX/EMbSAdsjhELGgheJ3fqKs/uR2BGNRbr8EkCm1TnSvh6mlUKMD+KZ+E1NA3NZCDUdw2rduO/UyT6dSyYqD3jWGbYzFpNAqS1jYetLmO4GrkTsv1zFnqDUDh4lI8qgJF7Kux/A30qz0mH9ancJEatYyFDZ57XGUYelWR+wA8jjbcOVXh1q21QS6G5Nx2Sf76PP5auoVkH0FWTarcV7RH2av1BqFN9EDJ1FWvcaSPy5UzUcxXIkfkeFZp/CfpVsGlk09BUkEWg8P1pWb3UmrZdMQq6OIWqyzB3HGNXI7F4XbZ8qvC0mCvhU8aibUgOzPYgt9DOzfirRJAx0jUh6eVLJq6HYJX94KY4bWRXGGGaEEI/DV469xR50mrAz2tK+Xxbw8EHmak+5P0qz+5+Ic1utR7xoADl/FblXkmjjzhTUkUlp342yvUUsRmQPrYE+VQyOsm5k/Q7HbSM1vnJ7sZpGfOGXHZuMi6VqddaEeYqCXQN3JwIreDpWrdz5YcG61kYpollyCKQTx93xLWnVzpYpIWOjippkaOZZvPnWoHYIpIpGKcVNPA0qnJxULyKoR15UNsP2dxInRuI2kA1LEJFx16GlaccGXPrU8MkmlwOK0CZF06SPOok3LsvQ1cQ75MVGulFFPA291ofrSR4586ZVcYYZFe6geF2FbkdWJo2ihtUbaTQhkPjfIoopTT0qMTx93GpehrRq8VPGjrpYcKEMi+GXh609prOS/GliVU00kEsfBX7tBPM/BjjO8Zz+nYmmJlWFOZ51cxqojx50OQ/Y7+JnjBXmpzXvKvb6R4vKoE0RqPkMgGrpS0LVZ/cCrzgYX8n2yPoHAUsjH8PZeJXxnZgGsCiARgihGi8h2goHIfAmi14I8Q5UjEjiMH+DW6j3qUnnV34oh6/suhM50jPyMAByq5QvFgUvIfIV0kius0fTnSvv5lI6f0gCqOQ/pEb6LXoGWPpTXEqyIDHgH+jUkiRjLHFC9tz+OldWGVOdqW8aHIFXX3kX1+bppd0mo03tFMdxSagvZHfBix+13NysOPM0vFRn4buEUsaikWRdS7JI1fGa0J+QUyLHcpuuGeY7F7yU+RpfCPm2ddULj0qyAaAd2ggG0nAzSsGGRTHAJqORZF1LtaeJebCnuhjKqTUL7yNW8+0/gb6VYytJESfzbbx3SEledRnKKfTsyprv0zyA2XssqTQ6TzNdKY4Umod7duWJKoKg1xytGWyOnamQPE6nyqxGIceXYltyX3kbYeo7nvbuUaW23QzCahOYk+nzDLcrGwFDiPhmrLwOPJuxKMxuPSrI5tlqTwN9K9n/cfrtFrEH1Y41L90/0qxP+mXtMMqRXs8ad6vk226+5NLwUfTszxM2HTxChPIeG5bNTJIZ4i+Ppt7sanoKtwXd5eh5do8jVtw1r69gTLrKdavNDKBnvdKTOhc88bJhmNhVofsseXzCQHlY+VL4R8S14Szr/ADdkLJAzaU1If8Ud7IpGnTViMQY/m7F3DlHbWRw5VawIIUoADtWv3lx/y2yadPeNLNFyDg9u4XIDDpQOQNl1HK+NPEeVLMwGDC4pX1fhO15AmM7dI1auvYkhjk8S0ltChyF47CwHOnu4OI1ZNWqkJx6/MNsSzyr/AD9vdHUe9woIF7K92/YfmXt2n3X6nsTqWhcDyq2OYEyOW2SUIVz12yCTHcxSW78S0nPypVx1Ox4kfxCgiLyUDbvfttHxBmefV+FfhMitzFCOMckHzC7YU1YHLzZ557ROBXvKdONBpD+HHZu+5NDL64PbAA2b1d5ozx7UyFpYvIdnOOzISFOBxqCHRlj4jz7NxJu4i1W0u9iDdlhqGKVQowPmxVdm71TxsjrNGOI5j0qOZJBkHZq7GAOnakjWRCpqOWSD7ORSfJqWUvyU0M9qRce0Y29Ph3gO4OOlW0m8hRvT4UkaSKVYVZLoDJ5H50e2iY55HzFCAD8bGgAP2OYf6uA/DYalIqy7qunkfhx92dxQYE4/oRdcJbc/zfEjlCXkqnhmoSxTLfCuIJzcDvd00iBFwP6EXs0YAXV3g3Kopt4eHL4ctrFKwZhxoAAYHwwwPI1vU16c8f6D3dgJm1qe9UEe7jC/s5ikRyYsYbnUqCJ0fVx6/wBEZpN0hc9KilWVA60s595aL0+JLL9oIk59fSpYhuSKt21Rj5xdwgyaimjlGVO3P7WQGBBpbNV8MjCrhFt5EkViT60gY95v7fDse/LO555pvC30q2+7+aCa3s29z+HsTzbpc1FJrQGpSRG5HPFWsplgVjzppQzEac1DEE44xnbdBndEDYzVsSY+PThTsFGTUU8cvhPYZgoyainjl8J7TyPJcGEcAOdTW+6XeRs2R686W4D3kXqvxLm4EQ9TyFS24MJZuL86gbVEp+GJDZ3Dax3HPOpLhGXTGdRNRrpUD5oddQxSRKvYeIORnpQAHKn8LfSrOWMQcWHM0pQ8Vxs1Dz2O3+rH8qGrcYiHrV7/ALdqtFXp5bGlRHVSfFy2SIHQqetQ2wiPA7JCwQlRxqGbeDlg7d2mvVjjUvGJ/pUdmTAv5wcihJcdYa+2byWlGOvwGZVGSaiHvd2X/AtSfdv9Ksv9uvw2RXGGXNLFGnhQD5pdwgyaVgwyOwTgVG4dcipPu2+lWsCblcqDmtIhulCeFxyrxyFeg508MQRjp6V7PmkkQ6quNXvoA/EtAYAFXuPd3q0AECeo2e0CA9uf5trxuXyJMCvd8/vXr3VOrOf1pY0TkPjyTKnqfKtw0vGb/wDmopBa3To3BW5VcuBA2OvKoF0RIPT4R5Va3DMzo+Mg/NV2dWhPM0i6VAqVGZe62DUFwzKyN4gcUksiTaJOo4VKe6QOdWrYjC9etOMow9KtWzCo6jgamOLiEnlUUoW5lDfi5VLMMFV4k1aOIFKSDDVLHI7JOo4r0oXcR88+Vad54hwq3fckwv8A+JosMc63AkVy458qsnZoOPQ42/6iOY8yM/BuInkTuPpNLcTx8Jo8/wAwpLiF/C4oDjnPYNRxKnHmfPZLBFKO+uaSzjQjiTjkD8N11DGcVDbxx3B8/miR9C5pJZZeQwKnhKhZBxZTQlRhz2LEqsW86liWQcaSIL1ztCqDnFEA8xTRo4wyg0saJ4VrAPTZw8tjojjDLmlgiTktSSKikk1Y/cfUn4zW0D80Fe56fu5WWo/eg2HII86PAVBdRTZCniOn7DN3ZkPzRigANgRR+EdrWn5hRniH4xXvUP5q97Torf2r3l+kD1vZ+kBrVd9Il/vX+t/krTefnSt1d/8AeX+1NFN+K5P6CnsUMZLuxP1qzGLdP2F7lFzzP0qzhLHeBOOvnROBk0rBhkHh8e6Hcz5Uh1ID81G4QNp45rey/hiNf6s9FFbu5POUV7u3WZq91j6lj+tC1g/JQhiH7ta0qOg7bMFBJqEFvtG/SrjhBJ9KthiCP6fsOKsxiL/yNTDMTj0qw/2y/HddSEVreG3JK8RVncGeLUR804Hl8e5bVLFF5njsvDiB6i4RJ9P2IDFP4G+lWLjcAep/YL5sW78a9mXcUKEO2K/6nbk4XUf0pW1KD87Dve0f+K7L77n/AMhQ5D9jddaMvmKs7PcFsnPl8e8SSSBhGeNe63T8G1Z9a9nW6vOyydOlJFGnhUbdS5xnj86XhNvcR3A5cmpJEkUMpyKn78sUfrk/sYIPI7CwUZPKl9pQtIEAP1+GSBzNG6XlGpc+laLmTxNoHkOdRRLHyJ/WiDrz0xURX/qRwCMijFcxOXjbWv5TV1dN3WjbSw5oaibWikivtV9od4cDy2Zp2CKWPSor5pM4t2xUNwk2ccxzB/j80qwprblSnIB2yNpjdvIVYzmeHUeefgTX0ccoj69f4G6K6lWGRSWG6bMUxA8qjhCEnOWPX9huZWihZx0rc3E0QLScT0qCAQpjZ7Q1fZD8GrvVMIliQRgcTXT4MjyE6Y+fUmhbA8ZGLn/FAADAHYaFGcORxGw26ucyd6uVT8ZohVw7JExXnUlvMESdGJfrUsm9tVfp1qMqUXTyp0K3YYdef8fu11W0o9KsG1Wse2Qao3Hmpr2SMRSD+b4EMIlgupTzJOP0q2bVBGfT+K3+fdmqE3EyD8C/5p0uLY7xZC69QaRg6hh1pipOjGak9nLqDRSFKgM0cu6kfV5H9j0k3JJ8qlTeIVpWvFXd7n/yzUUelMNx8691ZDmGXT6dKSNxxdsn+ETzCFCxq1uGmzqXH7M/gcelezD/AKb/AMjslvoIm0k1v4zE0itkYr2UxxKpHXNEgDJqW7Z33Vvxbz8qhNzHdJG8mvVz9NrXkKvpzk0t1HKkujmFNWn/AOt/8Wqy/wBrF9P4q7oviNe8Qf8AcFXM6CMjOS3ACrdDHCimhMIruTe/i8JqS4jRc5q2R2czvzPIVdvOgUxLnjxpLuF/xYPkaeRUXUTwpWV1DKeB/jl0y6k1jhmoUwM47DuqLqY4FRX0EkmgbRLGTjWM0SF5mverf/uCpfaqh9Ma5qCUSxhh2bqSWSYW8Zxw4mlEltepGspfPizsu5jFAzDnyFCynKhveW1UJpoNST8cqdLV7KzuXB/NUzlIpGHQVY26e75Yai/E1dWumYJA3i5rUqbsxSj8PBvpRAYYPI1DZ6bmVRIVPT6VFbxQ5PXqTTXaZwgLn0qaS63TtpC8KtLNtwG18W40lput/ITlihoPo9k/UY/vVuuiCNf5f4rgHmKe3gfxRiktoUOQvHYyK3iGaCIOSja8EMniQVcWpjifdyEA9DVohS3jU+VTJcEjdOBU17KmI3XD550rLpBzQYHkf4xKVmvI156ezcfa3McR5c6u93HDq0jI5Vby72JXojINRez49Lax3s+Ko42973MrFgOIqa3jaJgIxnFWK25iA0LqHOsAdmQPDdNKELBlpbQum8buyniKW4Ze7MmD59KuU30Pc5g5FJdxleOQfKpIzdNHkYRTmkj0Svjk1MoZSp5Gt1eRru42GOhq3tRFlidTnrtlgWTB5EdRXuufHIxpURBhRimUMpU8jUTm3+yk5fhamZCjd4cqtQ1yIo8fZxnj6/x90D4z02pbZZ3m7xNCztx+H/NKiL4VA/YQQeX7M7BVJNWt4LjV3cY2O2lSfIVbXCzpqHYuJtzHqpDqRT5iiQoyagune7ZT4enZmkLHdJzrdLDLDjqeOzUD12zxyLKsyLqxzFKjzHMqYHlXuzI2qF8eanlSbz8YH6bNC6tWOOyS1ikOriG8xQtsfvnpYlXz+B+nxCARgintotLYXjireIRRKvyNvIycahnstnK42FlGMntnlVvBug3qdk16sMyo3LzrIIyNoIPI7SzTyFVbCikUquC2dk0ywrqapLm6/AAq9M0vtOdG+1jyPSlv4nGURz+lNeumC8DBfOjcSzHFuOH5jT++QjWXDjqKe7QBdHeY9KaW8j+0cLp6ilYMoI617TkkWNQo51Y27QpluZ2TTJEvH+1QM1u7M6aUc0CGGQds1uJz3vDSG8hG73WsdGzSwyPxmP8A4ipXWO9j4f2oK7cW4em2U6Y2PpUFzz3cTO5qVLqSPL4XHlUMUckasSW+tBVHIfM9yTu8DrUkKKiEKMihyHal1y3yr+FaPBTVtcb8Nwxg7HluJbloY20gdadrq2Kln3ik0OIz2JtwLk77GnFC8jVRpjcqOuKjkSVdS8qupBHCxNezUYKzZODsfwmrMdxvrt9oSLo0jjUWDEn0qQDQ3CrHIiI9a9oNi3I86tI93Ai+lOAUb6V7MhCh29akXWjL6VYt9kVJ5Gp4t7GVpbxoRomjbI6it/NL93Hj1NR2wU63OtqmupBlWtGIqyWQEnSyp5HszTaMAcWNIji+Uuc5HZAA5DYdVs5POI8/SlZWGVOfmecZj+lO2qOMeZocu0xMFwzmNiG6ijdO6Nogfl1r2cuIj552btdWrHGrk7yWOJfqaHAdi4gRrmNpPDUkiRp/6FWyFE5YzV3bynvs+pQfDUdxblBh1Fb9D4O99KGTzox3ETlosFT+Gt9c/wD1j/etNy/iIQenOhCirpxSi5tshU3idPMVvp5OAt2X1NRpoXFPGj41DltCheQ2CCINqC8fhE4GatMSySSGn4X0fwDaKG1RMUP+KGevyIzhef8AA7c6rpxq4LyHwDxBqz8LD12TmQRNuxlqgnjhHfjkDHmcULqJvDqP6UDkctrxo4wwpYo15DbuIM53a0AByH7RP9y/0qx0+7rj9auOFzCfX5KJA5mlZW8JB2Sx62j8gf2V3VFLMeFRSpKmpDw2z3UMPiPHyr37hncPjzpHV1DDlUM6yl8fhOO1cy40xr4mp7QKqtHwYf5qGdZBz49R8ARqGLD+CniKtJBHM8B8+FXf30I65+QoizTSt0HAbCcUbuAfjr3v8sLmmubv8Nt/ereWV/GmNiL7yS7+DkBRiFs6vH4D4h2buZ4UVl/NxrptZlUZY4FI6uupTkbJ5lhTUajfWgbGKZgoJPIVPdiPd6V1a+VE+0OYVPpUN4jq2vuMvMVDdQykhTxqe4EI5ZPlUMyTLqU7DcKt2WbOnTwoJvyHcd3otSQSWzb2Dl+JKguY5x3efUbGgiZw5XiKl+6f6VbzFohCniPP0FRKbOfQT3H6+tFlAyTSNqGcdiS2uDMXSQDNC2P45navdBFMHizx5/w69tXYiaLxr0q2jmkcTTDBHIfISqFzsgna5Z1Kd0GgiDko2OuoYoDGxDc2/wBkqBx0p5bgoVa1JzVtdIdMbZVvXsX/APtX9KW6j3afiOOQp7qde97udNLNGyBs8DVxcwyXAQtmMc8VZ+BsDC54bL4cIm6B+NAgjIq4KyKYgeLVkJDuJxxXwmoGLRITV9bh7iDC8zxq5gbKSRDvL086t0l7zyjvHpTWMRbKMyfSvcR+KaRqCqABgbJW9oxklArioFuXuVkMG7/N67Z0aSJlU86tbZLdMDn1NSRpIulxmks4UOeJ+p+epbVtRkhfS3+DXvVxH99Bw81qK6hl8LcfLaxwpNWOplaVubHZdhW0L+PPDsX+fdmAHOtRs44kVPFzajM8o0RoTnmxqOJY41TyqePczLMiZXkwr322I8dLMr+HNEAjBr3KPo7geWaSNIx3RXDy/oW1wo4L3j6UsEjyiRwF9B2FgniJ3TDSTnBoCfqwqOEIdROW8/g6E56B/RAADkP4pczblM0p1KD/AEfvVDW7Vb/cp9KupzDHkDLdBQ9oSqMzW5A8xUM0Uy6kbNSyBcDzprSTmly4NRTzJIIpxz5N8/M6oMsQKWeFzhXB+GeAq3nkuLlyPu17F3OYItQHGra+d30TR6SeR7NxcbkDuFs+VCa7blbgfU1GZCO+uDsufuTUP3S1ccZ4qIBGDW7FreDR4X6VfRFkDrzU5qCZZoww/Wp2DzpGOnz5JIka6mOBXvE8v3MXD8zVL7OllddcxbzqKCKEYRdhOBk0Z7udsQLpX85qIXMMyiSXWG7DuqDJ5UrKwypyNl6xW2evZ0O6tx5txqTOhqsJ2kVgxzg7JI1kGGFXoXdr554UvhHYJCjJNG8izhcufSleVj91geuyZdSUvhFXYYBZFHhpLqB11bwVvFuZxoHdX8WyS1lVy9uwUnmDyqKNIgS7LqPM015bL+8FKQwBHz1cJrhcelWTardPTh2HXWjL5ioZ9wBFKMY5GpJEa4gAYHbJKkYy5xUt7bMjDvH9K9mM2tlAbT/62SRrIhU0Ir6Pgjqy+tGO+cHMiL9BXs+IRq/HJzta4hkue++FTl6177CfBqf6Cg1y/wCAIPWlDAcTnY6K4wwyKVVUYUY7DXVuvOVa9+g6aj9BTbqU59xYn+1J70BhIEQfWpJLwSohkUavIV7pnxzO1C0tx+7/AL00ETDGkVyHz0eVW6XwVkXCjVzNe6TnndvRW+t+Ifer5daguY5x3efUbLyUJF4ck8BS+z5hLvEIUiraZn1JJ4157CqtzGawPKrM8Jf+fZjj0O3kdu5h/wC2tAAch8CaC6M5YRhl+tRwx4H2Sg9iXjcp6UkivnT8/SSLGhZjwFRyCRAw61nFRlZL7XF4QO8dl3BvY+HMcq/6gqKNaPn6Vah3lknK6Q3IdhUCliOv7LIutCM4qL2dPvftXJT0pVVRhRw+fpolljZG60La9UBVuRp+le5Fx9rOzVHGka6UGBtIB5j+nE7uiZRNRpLuQOqzR6dXI0JVL6Ov9H/aBG49elWIaKbEnNhtBB5f0ckhjkKlhyq4thMBg6WHI1/+THD7M+tLBK3GaXPoOVYA/qXZzvI0yt+FtsE+8klXHhP9HXiktpTNGCynxCvf0PKKTP0r/VTjlu1/zXs0aTOuckNzokD58NW90s7ONONPxyQOZ7F7cNDoC9TQ4gbZbmOP1PkKFvdSuZBJus9KaO/hGsT7zH4agmWaMMP1+BE7R3s8YHFuNJHji3E/O2R59u0TTcT47Es0cQy5pGDqGGy8uDDFledW7u8Sl+e1Jt9G5j5jzoX13vdEriM/8a319HxaJZF81qO9hkTIPH8pprTfAmRjnpVvc7vMM5wRyJ617xB/3V/vRvFPCIFzXuzS5M54noOlD3+3GkIJV6edC8n/APqPmt3dTeNtC+QqKCKLwj9djEhTgZPlVmJxcSHclEbtzzaOA5mhG0N7EzNnefOjXaLOIsHJ2SqXQgMRR9naF1rM+sVbyGSIE8+vaaPf3xAchQOOKks0jUssrqR61BcPJGDuyT500zoMmFqjjkvJd4/CMchWMDZfyoyqoye9xNIAEXHlslmx3F4sajzaXOGPdk6+tXMcDxnegYq04Qgf2qWyBuUmUD+bZJDFL40BoWdqP3K0AByHx4CZbyQ9Er2h3dw/k/zYZoxIEzx+Bo1+0M+Q2njWi6tyd3h0/L1qK+hc6WyjeR7MFsYXlfOdVbu8nJVhpXPOo0CIFFSAsjD0q3u4YU3cp0sK97VvukZ63U0n3rYH5RRhjKaMcKEN9DwidXT+atN4/jZVH8tRxJHy/vUsSSrpcUlhEp4u7fU/stjIgubhD4tVX/e3SebUOQ+aicAmrP7SWSYjrw+BbD7SVuzfS2/3eNT9MdKgVliUH4BVTzA/bbz2dI02/gbveVW8EpIkn8X8WYhVJPSkcOgYcj8SG4ZryaPPAcvhFlHMgft147Odwh4nnViuiPR5fAt+DSD17D2hds+8SY8qitoYvCvHz+Xbo4t5f+NWgxbRfT4kOBfBuPeJpmVebAUJI25Op/XsPJdXTMsB0IPxedW0VxCdMkusbHcIpY8hQtd/quJif5VpBpRR6bHkSNSzHAFTXLLEJIo94Ki9qB/3D8OeKjvbZzjXg+R4bHvIUPU+ZFAhgCOWzUurTnjtDKeR2XUpQx4OMns3d7u2EUS6pDS290Vyblg3l0qGdmjYN4xVncb0MD4h2njvEmd4kVs+dW7X28ddMamhHc/inH6ClGPxZ7WBnPzFfH/TsPMgUowqj02STSb8RR45ZNSXN3DxeFSvpUMyTJqU7GuYUYhm5U/tOFeSOf0qGZJk1L2PamUWJk4Nq4VFYxlQZcux55qa1sUHLSemOdW1xdnUgj1aTzajNeLztwfoaur590V3DrnrUUkugJDb6R5tUUTLlnfUx2X5yIk/M/GsZx5Db7T/ANuF82q2j3UCLU0O7uY5k6nDVLBDKMMgqDeNK9uH7i9aEaBNIHCoGME5hY8D4amm3eFAy55CtLQXKu7+LnXDzq8ugIysZyeuOlWywxxDSwp7qJeAOpvIU9sZ0zLwPQeVWsx+5k8Y/wA9gQ4mMnnRzg4q0tHR3kkPEngKmt5N4Jocauo86S4mPBrZge1cHc3CSdDw+arri9uv8/8A62w8b64PkAKwDwNRobW/0jwSctlrGjXFwzDJDVgeVW66Z58cs9i5t9/uuPhbNNnBxzqHf977ImU/iPIVBDul55Y+I7LiHfR4zg9KFzPGMSwMcdV40LwHlDL/AGrXcNyi0/8AKrqCUoH16mXjioruCRfGAeoNNdW6/vB+lb+ST7qI/wDJuFXNrJhZcl3U5xQvQ3KGTPlilWVyDIAoHJanV2iYIcN0qytmgQ6zl257LiATLzww5Gre3MeWdtbnrUkaSLpcZFD2fbj830zQjjC6QgxXuNrnO7ooUT7FVBop7UP76MfpUNpIH3k02tunxruEzQso59KsGfc6XBDL80z/AH1uemds2q3n32CUYd6hfWhGd6KDG5lRguEU8z12TQSJJvoPF+JfOhPeNwFtp9SagjKKdRyx5/Ge3gc5aJSaWKJfCij+hDKGGD2NzDnO7XP0/i5OATVvPvgfQ7J7hIMautAggEbLy693TOMk8qjHteTjvFQVAt171h7gsBz/AKMEZBFWAEckyeuy/TVbtVq2qBD6bJYY5Vw65pE0LgE1MJreYzINSHxCoLmKcZRv0/oQMHlsmnigXU5r3y5fjHaHHrVvciXIKlWHMfExovv+Q2SjUjD0qwP2RXyPZnsY376Hdv5irSaRtSScWXqPnaWaOIAucZrmM/HuBmB/pVgMW67JIWmugW8KV0q1dWmkYuNWeXZnSR00o+n1qP2bCvF2Zz6mkjVBheXZvBp0SeRoHIB2WvdklX17EryL4Ii1NFeT8HYRr5DnUMEcK6UHzt7YB0xcOtJ4F+mye7ZJRFHHqc1Hfd8JPGYyeXltEkZYqGGR07V7ciJcK/fzyqMkopI442T/AHL/AEqz+4XsTWkE3iTj5itzewfdS61/K1W9wJhyww5jbNJIi9yLWaV7+T92kf8AmhAf3kjN/wCqxjsOodSppF0qBs3OJt4D9R2dafnX+9a4/wA6/wB/nb2h/tj9aTwL9Nkyt/1GMjyq9gEsJ8xyqydntkLc+VTsUhdh5Vb+zUljErSvqbypFltXVd4XQ+fTa2rB08693vZPvLjA/lqW0hikhCjiTxJ2sMqRVsCFKkcj2J45m4xzaDTye1k/Aj1axT6jJNgMeg+FdXyWxGpGP0o+3IukJpL+6kHctR//AFRf2qeUUa1u/ap/fRj9K91vzzvf8V/0+U+O8kNf9Lh6ySH9a/6XaeTf3r/pVpkeL+9AAAAfOvtD7gf8hQ5DZdZinjn/AAjgae/3v2dsmonr0FQx7uMLmmUMpU9ahn91O5m4D8LVdzI263bg97z7LxapVby/ZTFE3ONf7Ulpbo2pY8H59kjWRCrVEjoMGTVtAA5DayI4wygiktLZDlYlz8mCRC5QHiNjSxq6qzcTy23El+1wYo+A863l7aYMx3kZ69R/Qo/sEQaP2pIDyYcNntBPt7VvXG3FXcLTQMinBqG+C4juFMbD+1AgjIOR89XF8sR0Iut6ltfaVx3mKgflzXs4Sozxv0+A9zbocNKoNKVYZUgj4DyInjbFCeA8pU/v2pheWs5fJIzwq2uo7iMMDg9RtvO7PbSfzY2e0R9nGfJxXTsPGkgw6gintZbXMlvJw6oatp9/EH04+cpJ0jdVPXttBcwzF41EgPTrW8vHGBCI/UnNRRCPrk9e2+dJxSey1kdnnzz5Vj3CUEH7Jv8AFPJcXBIgbSv5qt55BJuZ/F0Pn2rpbdo8TEY+tJH7JB8z9ajkhVAMhR6mjd2w/fLR9o2g/ET9BXvxb7u3kP8AitftF+UaJ9a93vH+8uRj0FWdonvDsMlR1O26h30DL15irWbewqeo4NXtBc2rehBpDlFPp2LiC4kYGK40elD2aWOZp2elVUUKo4D5yvj/AKmAetDl2knikZlVuI57J7hYQCRTSoke8J4V77JkEwHd+dcxnte0uMOnzNW6aIVHpV3BvEyvjXiKtLjfx/zjxDYJNbYXkOuySxmeXIuWCeVH2RCx4yuf1oeybIdG/vQ9nWf/AG/80tnaryhWgqjko+BuYxJvAMN1pgGUg8jUaCNAo5DsmWIc5F/vRu7Ufvlp/alspwMt9KHtIt4baSoZ7h271vpHn/DbiXdQu+OVWEzzQ5fnn+KK6uO6fh3V5HbLx4nyq3vbtnG8hwjcjV0mbuA+vavLlYYz1byr2en2W86tTNgVKuqIg1Z5nyj8ozU6aoitWUuqPQT3l4U0wB0r3mpVbmx49h7dJGBbptmtJBJvrdtL9R0NRx3bkGZwP5VoADl8aRmVCVXJ8qa59pfhtKFxfn/4g/vWv2keUMY/WtHtI/vI1/Svd7487z+wr3GQ+K7kr/psH4mdv1oWFmP3VC2tl5Qr/agiLyQD9uknijIDuATXPbLMkK6mNby+kOoKI4/XnUMm8TVj4d//ALV69lfcN/y/hT3xFxu1Th5/Bk8DfSrAERn69n3+03mgyYNDBGQae5t0OGlUGrr2kAyCF8+dRtrRWqWQRoWNW9vvpN/N/wCIqUhmxngKnZ95HNjuA0DkA9i6uXUiOEZc/wCKhtAuWkOpzzNCG8hYiFkKH83So4mHedtTU4ypFW9uIFIznOyaxhlbUcg+lRRRxLhR8gW8EdxJNLIue9wqHguPXYxwpPlUF1C0jSznLZ7q45V9tc8wY4/8mgAoAHLtXF3Db41nj5Cre4juE1JnsXy5tXr2auLVfX+EnlUY1Nq9aHKsjz7DtoUt5VavLICz8umy5kWOFiTVq/tIp3IUC+bVJdX0AzJChHmK9xefvyztx6CnhubEiRJCydRUciyIrDrTWVszFjGMnnVwklmyiGbCueR6VFZ26rxQMTzJqG2tvfJFMS+lcqvv3erw541vIkXxrigu9/DhP/dNGjIUI4VDG0Q068r07AijDl9Pe+R5W0xOfJTVgMWqUnh2iNVbIUbIJxKZMDwtisjOM8exdTmIAIMyN4RS+7W+Wmk3kp5jnVuoiMk7LuoyPDVk5mMkvQnhtmke7zDB4fxPXs5/szC3iQ/wMkDmQKBB5EHszfdt9KtpryR9EYXh5jlS28h4zTM3oOApUReQx2J9VyWiRsAczVm+nMD+Jf8AOy9UNCRUP3SfSrpdUDirI/YL3s1M8SxtrYYqxUrF6Z4bL4M1xEunOTSjCgVc2u9KujaZF5GkPtDkwi+tG2Rx9r36jsbWM5WP+/H5OvDi2l+lRHRaRf8AEUKlu4I+GrLflHE1cyXjxFiN3H/k1H92n0ogHmKspUiSXJ4mTgKNgr5dnYSHr5UF9pLwSaOQDzrX7W/7UVY9qv8AijSprd0mVrqR2XzWoXhH+2tWJ/Ma903veuDqP5egoe82jMqxbyMnhjpXvN4/gtMerGvdJpeNxNkfkXgKVVQaVGBVzDIsguIfEPEPOoLmKYd08eo+PcXcNvjWeJ6UpDKCOv7DPMIYyx/QUlk1z9pcs3HkvlW6WynTdu+G6bJJBGhY1DciU40kbJiBE5PlXs2PERb8x7NxPx3SHvn/ABTsLO3yBxp5LecLIbpVkHKrWUyxAmpE1rikUqoB2P7NtGbOkj6Go7O2j8Mf9+O3AznHyn7RbTaP60t0Du1jjaTSv6Zrc3M33smhfyrUcEMXgQD1q6TeQSD0q1uVdI1GS2OPpsgsYopGfmenpssmzPdD+b4c1lDIdXFW81pbacf/AC2x9KAwMfFkjjmvJSwyESrT/bpsyM4z2r32iLdgirqaoJDLErkc9kl1Kl2sekaD2rjvXcIJ4U8saDiw+lSCX3qKSQDHQUc/hq+gvANSzEp1FWUMSRalbUW5nZKPetSDwDr61ZlI4mUt4TQOR2IoGWZ3bHGmVWGGGRS+z7NW1CEVy5fLJOOJo3Dvwgj1fzHlV5C+6Mk0hY54AcqiULGoA6fA9nZLXJ/npxnxHC9aN2Huo0ifI6+Xxbr/AG8v0r2VdbxSjtk9NkuoRtp54q2nZ4wXH608iRqWY4FSX15LwtoDj8xqGa8jIFyowetKyuMqcjbG/dn/ADSSYpF0qq+Q2WgzfXDZ2TSbqMtjNRPvEDY57SitvmJGpnwPOoU0RqvkNl08skweMZSI8ahlWWMMvZmt4ZxiRc0sNvAdMUeX/vV4pBhZmz3q6VwPOvcnjYm3m0Z6cxQt7pvvbnh5KMUqhRgDhRtLcybzR3vmCedYU1Hieg86ihlm79x+idKwMYr2jwt1A/OKHIduW5gi8cgHpVlLcskm4jHF862oWRc5uJS/pyFBES/RUUAbvtTXkqX6xg93y7ZAYEHkalsBa/bxMeDcqRw6Kw6in8DfSrDPuwz5mpQJr1Y28CjOPOunCrxPsmaabI6LyqwTRbL68dk08UI75/TrXs5Q0srMCDngp2SzlyYoOLdW6CvZq7tp0JydXPZdM84aKHp4jVmwMC+nCmIUZJwKMsknCFf/ADNW8awXLCbix5MaOAMk087T5jg5dXppBaoEW3kcelC5Ky6oIJVye8pHCgcgHHYnl3aep4CoY9C8fEeZr2h4I/8AlQ5D5laNX05HLltvu81unm//AK7UqyMmEfSfOvc5n+9u3P04UbW2gidljGQp4njVh/tU/XY3D2iuf+3RmhHORP71J7QtEB+0BPkK9+jM6TM7E58PQCpvaWtRu1lXj5VbzrOmpc/rWje+1T/Lz2s6rzPZZQykHrVvJ7sxglOB+E1eT+GGI5Z6RdCKvkKuIJC6yxY1jz60G9on93EvrmnshIp3ja3/AMClupolCG1kJHlWb6bkohX14mobSKI6uLP+Y1NaiRtauUfzFe5zvwlumK+QGKjjSNdKDAqWCUSb2DTnqp61ovpuErLGvkvM1HGka6VHCjZ94mOZ0zzApbaMcTlz5tx2TQRTLh1zS+zrVTyY/U0AFGAMDt3gy8Hlq2X3Ewr/ADUOQ+aJO9fwj8qk/AlGqJx5qatLG43YZLrT6V7ldnxXzfoKn9m4G8MkkmOdbq0bCw2jsf5sgCoLGCIZKKWq5txJEQoGelL7SVBpmjdW+lb+ecYhiKD87V7q9s+9hBf8/rQu5m4C0kz68K0XMnjcIPJef96SNE5D9e1JDFKMSIDUNtBD92mP2q4i3kZHXpVpeq32UpCutD/UXmR4I+vzSIm95aTppwPgqqryGP4bNbRTcxx86jjSJdKDA/8A9Av/xAAtEAEAAgECBQMEAwADAQEAAAABABEhMUEQIFFhcTCBkUBQYKFwscHR4fDxoP/aAAgBAQABPyHzQL+FqiOkV24AJrNaR1hLcEAF/l2etX214IRe020u3D+W6mi13cruaz0H7ifj/KHoWm0YK1yJfDJ2j7jQH2Kz7ck1ZyLUAxa9ADLI1FYPoDfePLuZeyfuJ9iIzxXErWT0zdaEyHHIbLSZ0j6jUqPDC4acdbZiiwFpvGBKW0su68S1NVDweKqUv6mKfeMdvs9DUggD2Ek70OTvus2PwR0YzXFD1LB0JcnVLxwfumnK1fTBwx2dTk/RmGOHgoax5BXlBdXQhV8lLZDagyDzW14Hl3xWep6KWUyjm1TedDcivoVx1AToTfAGHvxBoWSnwNYiu6Vya1+IrRDOqJqA9Zp5yCycEC6YfcR6ty+N8LqN1iMo3dvBYWjqbXFEHTgtE+C6uUy2miPH93AD34hY9SNmdQ4dIgEydHVNS4UwdE0AIAsccAN88KD3zNpalVCD5llXFq5NZg+KnaHHDJbZUsGNUDYPIxng57QbgTraYE55iI7XZEy6Q69t2GvDyrhhABV9I1R1ri5lGASrfc/wjNH3XxpL247CE1B0o6E/Y5Doyt/REtY8kID54PuJxQbwRMPolaLjh2c6RSrj9wCAzaoL7Y9NOHTrrN1d0ptsC2bSrBqiK9CicJjhfBrabFbe5UvTETmhfHvwpbuGXGhjOBAzRaPfgjorROpqZme6mJUBqIBV7Uaq4cCY3h0k8ukA5GVrvdGK1Zk50gV3NYg9S5WedYlvCZbHBC12SnN5aB2aKEC8dpiIqgkdV01gjgvJwYnT141QjvHbDDVc9EHhebtPVrjRUeh5fU6Ecx3ttAKFH3I44yVb37QPUmaM3NC0X5Wr65w0RGsR30i/c3LVxoHAcp9pi6MX6oN2hVA1hGaMXWZEdJ3gsjjpKGW7rpK2YVSaB4ABZuukP36CMjsUJoxLnjkPEqSzSZ2oZ6EJ07ZvKqrrCWUjqlQ9cnvO52NIw1FKE1KvqjkiQ0adLhIFSU16TAeIjCuRUyswF9rpMgEP14EV/tkxThMxtC7RMk7tAD0Pa+OREOo6EJhnfP0Po8hUBujMrqli61+AHGss0hkF1n4ja+jMf1o9ngg6xNZlTny3Y5IYI6gGAaBK0E6M2ylciCUlk2I9CmusqmfY6n2cBukg0PpA/flfgrmC0KjAM2J7RX4vwI3m9HtA0Lq/iCxoL/iIq7JE79xv8NYQU/6KyrEduCWRvnv5fxUVhrNUbxByh1+rBOrYI1IpTkvnbnBBaYeA9N0zHX6ZYLNj0eQs4rXt+XcgNFmJtRfEmW0I6TBc0C4BSziglrpBOn9ph2uY0Q1FEZtEcd1sRFtUvLgXYcDSsAYZEFnYuW11gMXAseu1ObeQjyVyY8Droyg/0F5M3D8hM0yxAPU9MWJMeqTkYzVc1zm25p++Gvf4oMy6yoZjODlesEdOXuASn13ibDuQ0eg5XP8AmcpqXdpH/peBNollMBzAZiA1OaLDqTFuHISxodZiRno1ngBfDw5Lz1K/Ez1mXnRBQ9ua4I8r9/ct3Cbxqo7UCb6zxRciUe1Q1JalzQCuYVxtqADvEUg7c66kcJXU4Yep1tVw1TOhZOmfJXHvw8dMO7kpsib6M9xwt8A7QQwO0oipFWv8TPWcxo8896LttNKvld0YBOZ0ZqclrrLqPgCKTxxDN2jikXt3gcCq2R3nngkNkI+IONaHLWe3LpzLRD1Dx3fS3Kmkn2/FD1bp2ggwyVzHcyzf4E6Wd4XWeTR2P2oNg81pRrwF6LdcaDjh/Iq8qNTypV2yUcnXcuWs7cwVrbWHzwfj56jpOnIzGEa60F/KNyXUotHIaAHNppsxCDSziXFI6sG55kGdco+k9deU6iavSvZDK+0wfkjD18LvjZrnkMEwfRmdbiPpGjuTzH9NnU8xAH+CPiL1NNcsuXUtV+PSXSqamsPfN/BFYlRgE2jL39PFgbkJBg9O7oaiA9p+R7Q+x4xt/eDXZ3+n6PgO0t8W1A2D/CAiMaolmGOYFZD6iqmeroi9Uhd94lvbH5is0I6tVrxQavrmZZdXn0zCsdSaHfQ0iOK021lGlY9I6MT0CzfQa8n8ooFhRFLdOQMO+0xbT0mlSSTyTopVR0qXB7TjrzhfaDR2rLxF7UEvdjkQtQasts9cy8usdYm52mQJsCfv9Qfu1Q0WzLpPB3pkeuAwuHodj8pdt7VAQ15HPRsglCp+0hIBX9kJzO5FqC6DgWbdTOOplMsBk4rwrnPA0VhL3h6VwPEjQhZ+pOP9jwoQyuNd1cOkMU69RxO0PyynVnu+grEBqy6+zK+9n7D6dUA7z9UB+RvNsUgHc5Lh6TZ1HS98CiAzcCpSL2XF6e/tDBRE2doB504ZV0alWbE1qKZ1OHRJOxwHdgRat9pmb5SCKr9eoNXQasGDY2OnvNzvdMUENK90VXUy9LUieaB4/JHmOi54YFSTrTWg8YL1c51eGJehitI3XFC2Zo8TuYF94i1FFs0JaqIpy6/M7zp7kN2drMxutNGaEwVbRIe1I5ZD7ICHlvjxrWpj0qDYehRK1wyhbTwzcx0mRkvkFjFHU6rgCCpo7x6rahg9NFCtuQJRdi/lAI5o31JjJFfEIJqhmGbVXBxrHCbTJ2XVlHTgoAFmjjDgAmnBHVB4Va6XwpyHePXIIRiVy6r1v6jYm490WyEfTfrFY9CL0OstfoUdS/IzWPIhwlzQAOCVgPLZ1iGvyTU/njt28Ev1Pulmt9ql/wDaYu4XmctjL9v2nVkxtW4IFKwtsHQNfoFqVyn6C4hUBezpBdMGsD3lv695Orud8j8iI87qi6Qiv9rEvT89hoJ4Jbr/ABiWQANj5mhfBDQF7c+kUTqs6ehHY75Q/odAaAiLZmHcJwIbsv8Afr94ydiplag3t+QnoZ7pfr0j1vAlUUTyLEFHt+iDQT9hMkF/QR4y6me0ZSh44Ikaev4+fTm3gaB1gKLsfR50rBFZ6+Y4XpF+gbNghyGoXtx2N2fjp9PqUYEySY9t7Y+j0YeDV6GrK+daxx6YNgHeIfBjHzNg+Z+UFRl6quJs0RqtARxLiJrre01qva3FpRTSC+413Cl1ZcWmgS2pLhIVlO4j7+p0DBN0SzihG6/E260PoZftsukMnpn04401IqI8svdF9CQIvVFpALBglcKrq8LjIKGLvaqGjx6NFz2Ijx34/wAShAOhydCxPDHZGmNIAAIvlIxFUxBbUs3rMZORWMVccVNg99/Y46/ieBFceyI/UTonPuhek3J8Qi+59M+1WGF5JTYEBe6p/wCinqmiYJcosZO0UwDbUlc1y9z6MIGDBmdtdJhy7Awj45Psi6surzDFPtFfaPZoIbkzJ4+is68hvrH/AFLKdOBd2u9ZqVIA2Yylr8MQJQawBQhnaIPIBw4mlwa1tAxOUGCl3X1PPtQGIO8MAfLC6MYd5qjBmC1g8Cpdt+gZWC7QV0idCoe0qhO/giXG7y8BoP3wJWbHiEmK9PHI+GEFK26Ozxojsrh1kHeJTCdxYOSdnlzX9pEsDhwazP5WVc0DW0s+DuCYoyf3ms0qSmPkD3l9H6sojoJEoWGfeEEbZupUuX3UtvjBMOQfmH/7PypTkxppCB3Qe6dkh6Z9qdAPmC0mHsNovAuh8uRRrG77ykMs5iaqBDeLWRJlVtHSusRQpWtxLC+PvBCwssqiuQbQ5HWBwDo94PXjMqR0lBbUA5lgVsszDJWJSSxlMwBQBLOSpKjGyR1mVnSZoFsyo2+EXWphE+qJvgg3ZcxiH3JoCFMMTPV1CdZNP/I0lPC7F02tNEB6SsMTSVKZTaHwVNHBe/aYdXL6vUPufRtXXHDjADoRLX4tUFrwH0NtYa+m0UgjYFZwwfeSpRiupyGm7aeUSOXoIGSUhxyXVy1ek143HWKGqENEHjcKYbtQNVnDi/nYCpgPBs/v4X0dU0xd2eZvye7z0EQdR6leCd5YNcqC07vl9Q+9FT7a+XPLfJwqQF6c5VB0hZitnAqM9YAEsdOOgDxXfrU6wgyu7wz0qKbWFo6yqB1hPCTkXSt9kpAw7UxRGxUppsTCzL8GpNIYXFTt6jmnh3F5dOqL1wnaHBI78VQ+wlIEPad4nVrbQnblQQjotoquChakKWWMqYJlV5VqiQru3mn59WfhmTKVUOkQzvHfi5qkWi2K4GhDVko4FRLbIm6RxSRADfkdjCwudIruEMvaiwVeJlKeL4Wx9IQ27nxQAuOa2jWwlIoKadIOhHU3ScSWMU6oQOkat29MNTeHzNcgP+3mENNALGAs4e3LKOq7eJ+/tjCM3ptvLhvZEtSMHbls6i+k11gMim+7BZQ9Pye+90MB0IKHNoemC4Ud2wlzSk74KjQ7k1oU+GCg5K9nSHeOgrSgjm8i6gFmww2iiJWl1UuVZfCD/LN9FHiDbT4VNP0LlD0atV1ZqKOBCg3Ddhn85rotZwc4hVEHbgtqt15bZfITrYjz8jRH5A87kp0mc1ZDV7TAWt/BC7dH2JLEheg6Li6kw3RwvnRCODWLtc0x4HGBsdnjkcJW/K54rWXdagFAHb6i+CCU/wDtwmfwG/QEsAg9iduGXbh+loQCErnFSmdoNYkvHtRCciC5xkcyWe34Os6yLf8AU0ur6ABFLrxuePsIsOpFdrVORn8CGZr1cAFriYvJ6GYt/ppu4OqgrXXpFouWwaL1PdhsUldHvBsvkIQcDwg2HqcXZA1YGtm/BT16DrMhLGjE7oLWedg2h82d2ZSXcERpTZxCmbbIF8o6RaLYunvFsdWN/wD2xLa/+lSyqhq6nACbpMrk0vGMuy0rinShXiE2ANuQDvuq0lX/ADCeEx1+3f6GAlSGV+BAFN1X3joyjlWZo79pcyxa3gAAoiWI7kQbaV3nPWVupswAYSqNchLOxgqbQ4LgdutbzAGQLIiwNncyuXXG9OCYmMwWUTtLDhU1tF9OrXrNapIzveSdCOP39lIxGNHoIwYut8QRxnS6gwqNMcLoNwb1O4mOKkI7pqofuTDilVjbZPzrIh6kNye6mC8ph49ihZZS8HsEuYsyPecmqhoQyobO6jLQQNBK4CCMO0UD9wExO2804+9RGFjqSt8S4SuU992ItQ+fSv8AgC6mCFNoFlGmt78aEpgrfnQ3KLm7URpY9V/no59T1r+D0GaOH3QQ753xP4fNE8S2SMgc1AtDzC0/qXOousT5ZmSDy6PR/PqoTqy807emhF0J0yTkrmbbw57CHKzx60jNARwj7TfEivDCh2GIAsdoaV63dLfcZGh8OjMiF7e02PxXf7Mrpm8vVStNKKX6ieIdCd9+AIlAZiIcT+laXkQvQ1YbImicGA3xLkm4mhNNay14cvhlsLuAvqhi+XpyVxAbsT7GbmcPvOCUBvDR9ooBtaHSU0PUWkmT6udnDutxyayVXTUPazNEp0/Ogod1RbWv9HJ33iKznDZZqOhw8cHqUlvNnC2pzng0A2Y2zTfCoyupNUzm8b2OnO6YAUloXuhmsN4rh4LCUojtxUNUJ/oCP+nYavqTC8j2L+wl/wAtV/U2s/KYDjsQAA2/Oha8Qur7rSvrO00jOqi6qjq6nCrIbQxWEMPVleAX3cNI/KFNA+Ij2FytX6nFZts8QGiPHoXRFowR2qyVADQCXwB2y1haVg1+fV5t6FGhouICrR3jYNGOi8Gz9+KQY6kKCACa1yb/ABtPpXDaTWMZrjLWG6g/PtBoSiBFG6o0HYtCDg8TQB/Mz8FXdoToJxcRKH+HxKO75S+zoF4NBbM6v4csBXsjSq7OBrz644fA0AKCj+SmdAkOL9JV/wALXzq0XvzGHdE3QLm7Fs6g6pqj+eKhekAasr19GDzyCajNHb6hxwV9PMxRnuJXBuI1J7ebo818LyeA9Jqj82RGgX0vmcwDaFupXHDzNGF04Vay0hHZmeC0L0milkrqhsuMXhE/ygTBH7y4NzWxqpZ8L0IiRe1FmPmBsQYgxRuq9EXj5mI/7O/mAbu6y8GjGY6ojNUD156B2qXIAR/NG31jg5xdyCuuVrrO2/5iavQqzAhlrnNqyOgY5YDojKR2PNAABg4VYFKDE2gaOBewBtD1iOyLy2x39oW2aHV0genR14EV5mP2fBA6IO3G+W+dydCZN3++DYP5Wgcu3oF3jwBHeX+7btogk/BeR0lEiVk6zMW5NDAIJdWLBGbkcRTxR+5rf/S5jGsZVRHpAaiBa3cZMExzutWJ7g/qEmh0MUKCj6RjKb94sHUYKDoflRuaBCXRdF29AHeLyZiCxfRqhD8h6GoLyQxoV9Zgw3dx0inWTB0+gPs2iELZpblnpkRnSPHpUOc0tr64XWK32hva3X6FNBTkJUC2uJn/ADuX7ufZrd3SpepoPRZ+whqfqIHHzLkbpk1spjrwS3BbG1jl214N4smWHnWuksb94VBw96uFQdbAsI9drR4bQwuuNjS1rXAN0Sw0ORf6wE3bjSK5cpjeZDi5Hm6zKrJFI3G43SdpqaV3PNsGev5FimpHuwjdgcKu2M2ef1cP43TpwMKboth+sHHx03OS31GQ7yisrTmc9+x3iAU13gFx+6X4ql/AnS/UQQ3Wx44NZ4L2QFAVpcWO5ICXjsaRcFwHW5aE71mWGb27xKFStVN4Zt/qCoVW14OToMul0rrLMHhZUmCo5Vd4l2Vnl+HVKM3Dors5BATDOJ3pWJa3xDQlwQdTQRTuJZUFTJXLaXXQRBNH8pPS27yEIgosn/fCcD9Y29p2HxCCNCuTpmlRBjdME1V7b/Ww3uxvqvDbIyu8vXuyM1efGGlx1X+EsaTQFECPXBSM1J3pl/UNkPA+IhBb0K7EGLvixOhWGX3l34Mog2C1wMVaX051B129ouskb0R1OpWg6an/AHnEYG3bMT+tMXcBswHrVEyoseG/ym516PucbE1ATUTefERvE3229wUGFamkauXhTLiLXpXyd2AVP1qH8EUQsgUVx/dz7u7WEN4bHAZlpViabDwEw8KMrQ2ol8UcDT7WfSH4yTG5PKecMQ1JczwYFkImA0tue79gSii93qffj6B+8qBagRBaE7cMZfQ3ZStOt1AdTZ5vfmPD4AqR5pnKhhPa+Zc48GfzanGVEEANjp69R4vCwbR1ZdeBA9cG15U9ux5h2FHK8uWwZsMMzc4H3ZyClj5CG9XcqnvMO79tPwlaCoyYAM0rwq0C8tE65SbuKNWtbMrkqDwiwGWUQlkcew5PL/FmObVeaP8APEfZ4lluhdTYB1co6lX4+BACgxyb5kzbpwvgdnEpmmsR1D2S7/ifmx+FMD7eGD6miM1b6mjCy9priDqE4WOUciuuri2J0XpLyG+xqJNbuU4hpw7lEZichTqDarGaD3xKDelIEWMf6Ky3Mj9qTc3Pi2nTXiP6JS79/HfvfMgAqNNgPvp94Nwv0+BqthhlkRrGQ1fJqzScFQnsv7Er69dI2OTIen6RB1BhyMgebtfgp940BmWhDazhVzQA8HHtPJLgEob1+GdXDHCtJwRKr9c7ZZJZTAIgmifnpToj6ir6DchfB2q3cUKNZIGHVL7TR8K3VAQk3Pzq2hNiMdHMEvU91nodh4LBfWob9AcQPVmsr2cqXCjfraldGHA6rkePy19+J0aPHIn71ExLHK8PiZHX1PzK2e3jn3g9cCeWJ+iqAOo1c/c1YjPXcAzOPeGAaH84oqqds8oMafGU+HBaFAjQGal88cx5sz+4pSf2OXE1A3E/bhhnjUWn5SBcYqOiS6SDO3PI8A1mCNa20JWACg/MsGnQ8c19LTcEZIteJt1bgYUmRAGjzV64K4Fn07IwcmMPc4JQ5M/8IxIydbiXTzUbpQPr8pj9/EuaGPBL4gGhXIIWTUb+YMdhSSyfQL40xo1Qmgj2TVPl4SXe3vaAxuufttEWRg7xY1n19fZFAtjRsp9O4i3SEPpYhc3N1AxBWZntma32J1WmZp04pBPMVAr19ie1AP8AZezujY5Lor0ca69wgFE+SA0KPWql+kW8Ad2FZJl/fG0/x606Yju74xD+xp2Q+czTLH6qiXL+s0MAG8EFjZx9qo3XtA88z1CMeDKfHptPY+14fu2zBp6AuS828+NcElUWsmIgAR0Sdn8QueWRkndAmz9Hov8AOD6zXiepaABol8r14Ci+TbxHIhdQQ/xh4imNKawpXK14B+93Vz5Rt/qbly/sub5rfoQW7BBw7NljfMI7RXs5f/YQ66GhykyztoFsWaBpHXk8Vpl361+0qk9ppvVwYeJnqt9L5BW2RzsnDtwqFYnVEDchlYav0iXsTQJegefpNJsXP38AmKMjm9kAOjSu53LgT+oAACgjLKqmE1SB1l+zut4yFJVTRpbzJyDXJq/g/eMfqZNvbNDvni9zO9S5oIZHWbY7LzyaJw/6TGrRn6EKTiFr5maZULwUBVolxf0PBE0xxXb7GXZnVah9mdRvlSOQwr1rB/7CltAaPkH95kx9A0+zghCFC7IDheJdi0hhdFU7xRhP0eGNtbcZ7YifI8PMTh/N/qKx2ddj2lGN93+vw65ePzKBugeWCgIrboohHSTEiBHTBqBi+FonasF1YtcIOqf/AGZvPHLlUNaenaYvpBr9ssqe0MSujsN2DCSQIIgDow2ITmx0UsY9TqevmJsDWKFgWfQ58n5GeDY4inoWl5IZLhZqGxrM8WrprgzFBBddXl/+DaV2PU9ZmInTBNXvSzRgK4xVpMaRFdOtgR8Qvr/ycdgX1/Ex8AHzLiwDGPIx/wDePqzX8+UQUtyPaUBiuOKcLMrt24E2Iv8AMui2Dfo04eHMxavTS/mHmL3W31f7+jQpb0x44DoCzUvPMffdvQhgBG3Brhota82C1S89ZrpbWyyho3wRs0X1Yi+KqGHAy8HSXPfVBgAqzABNHkQJ7KiMqajMkHvkgAAAGx+MgFKDePPxF/3mPVzEMBQFeQA0A5LH3kNAG7eUfraeqtgUzyR2wc26cEmqNiUff0hFx3inhpNj1zWPNSmHqHHR80J2gGdCEUCxo+eGyNtBwSmnHSJlYDtxw+QbBiZY/rlMYLRumV8p10eVl8xS+kNHiICCx1IqdvMhib+gW94XrCWF/h+QVMUaPdNic4dHmaAUdCEFanMPAc1Qdtu62BGVaA+Jfv8ATEKqWArjjFvHYuRp15zqsKZmRbuwmk1ZECOloe5IeJ+9NyaUwNoAiHSNcex4ug8LTldDle0M6LbS9+CckJwsuXVwc66XsnaULst5JTF1GbMPZ9jeIAZ5v6ioAOqxm1s2zxATgym5coayKMpRTTkyZre7NfXk70/Qz9b8laVy77Hjfu/zH3h65WonpOwQDWfuGu/Z+eGT0RpK9sdulZIkRNAgzntXWSmmLTSszSXAv2caIAXQ3g2acgDYFMPKJm0ztFaHVVmiGPsEdsY60CO094TEt0MLjwEL+tWcNT5xIbb90sIfL15n7TQQMEJrcTYEeYLl9yB6/wDaHmmycR+3rTgwLNnRJeHsXSHBBsc65dDObEdFqyK8H5RpLHynodkxEpSrpsJZf0SVyHQXNQRubfcEvBOuMHiB/HOG5AxTju8TNCajXwSnQpgufCf0jiH7Uv5J1e6svzzVMPeLqKd9X98t/S0ZozFygqpxcbTYK7n8pK5Ln0QBCC3jjfNf2SmTOiZh36Qlwb/iAK/DD/8AIJ//xAArEAEAAgAFBAIDAQEBAQEBAQABABEQITFBUSAwYXFAUGCBkaGxwdHx4fD/2gAIAQEAAT8Q/wD9mOWX+NhgGL9VWD2WIYvZNixTmVgiwrE2NW1RERjFB1MHofkX9mfMZsbw+ge8SK1BgecoFc1Csr6uoNsT8rQzWsoT79NmJTrqY91+exJUqW2EVn+TjpGsEdrbkj0BkZWVRujXz3H5z23oSOAk6BN/oc6r+uAol0L6AFs0hgC1g2dAjigg6QaELRBM0SzsC5ZWHA1Yt6qb8/pjofWvQ3+II9x0iNhqfLigLGREag9tt6C1hsT7nQ2NAtY9MDWXZvsXg9NuVTUcFD9SWpfGIY0U1gV0IZDeXv2HIY220FcRDbMzTHixZeOS6QLehWmCLv2IJRcU3m28kSPAivopqtoN5sePrHFhN/h/5pmNO8D3CT3GVUxYkDUYl9jz84LBvsMHWuHy6vAeg35otMJXXnA1VRCpzUHpuQt65mWLDKzc8XE9pp7+SIE0S+pfZmgjFp1BDo6i9NHEvE2CxgfaVlFyFqAoWQmaivZiiPiaR6xzH1xPSpsk1C+prZAXrQ6CcKNDYhoYKAtDI8zUdjKIPFkwCuiKUBax5Q9X3+mew4ODebdtBAOFkAtDgnUwRXMgUFhM0EbkuDYSklxrEDRLh6V1GBIxAVWlgzBgoLmLuaBuLRDb/nDqpxSZ0UmqwPxAyDAZlioIAbGNHeiusJsjlhcytEwLpYr6MGA1YWWFXPwwY6KAQLBgHKOs1LacUsRuV8UPAkBmjqEcaUK5rPMgPQ7mSUL9oAEjqVuiX9Mg9JClBm0lLIr9kERQyRDY9NTcEA1dabLNX0bxAETJjBB1Als9r0l8qF5p4xMpbtZjoiDI5YeKqPsRWdVSMWBxa1bdlsICUyG5m8qcB8k6GHQ91jNGG01gEvwJ4bl9hEEDvCQ0sLaZsVOmh5IFubtYqBR7/UGOksRWRZsRCpxWmRsDkQSlNlQWhC5LJlgfZLYNwcRgfgiFIjIbHQ1VARxymh84+D9/SWbop6cRil6vLDEDhKWBBUqIb4a0vZKqh1KmXKdMEBVuGCt0LoTIzfCbNibHAgCOiRtwLg9WdleKljcJEYs0UqhseQrKzVooe4hLbc1QSDrLo2ZYAQFe5mqMQoxdVG0W/F/ksvgak8EMPMFFYCYBYx+AGCZr45VgACDRCnyNMuqxtZlB3LzcjGAc0JVvz3J1y5xQIjYcoBlDY+qvrdZow2l0DCm4gu4QeW1DchmgEbgtaaTAdpPEQldnkjtPANmKDqQIs+lFmeNWF+yVtbgVDtTMgVvEGesLQSDhiZI3CPBtw8kpxA5LRIhkaUqGt25tLYm1l7WhhQkjNSBAtm9xzw5lzC+axZBG7FGNsvp/944ZCm1kLJNpaqBQpUPkIgEvBzTcgrQKqpXh/lu5GXgAO9QqCqxhjblbwzcbVTVqgMyv3SCFT1SxT33uUXKNsKuKquRG0RoRyWkOEjYkq3NCO1yepck7StJZtTcVcSkrDyuNdzcoRpV/wglB13NBN/odFWDOOFnmi1rNQ8Phh4hUISyeayhTFCz964LNGG03UKx3Jc+ApyQxQlgQJ/JNjdlwShZDCviQlV3DToWzFySCg4IRXvC5oC9ESKeoWR7R8C1ABR0NjJqJZMnAcHYYKf8A/EwiEFNzydVxB1Pni9KviLdqB/M+GKRQBWpF/XPaelxYaYbYACJkyowcEt1H3yjuSmlmFD+ALyIB7yKinbSq/EnFhpht+EMJfVRV/cvzTTF/CFoWBwVrMQKqdbH7Ku899xZtDX8GoK5GNAA9hASdurwBB0SoGoZVZYbiDMPujpfh7Q1+UvSoKRVtnDDJy1R0+EN43XUpMqDlNUVJfQOqsBrMs+YQoYsBgGg1VVmdCVzgRxMdqiUXuX8McHBw2hNsH44VVq0PJAo2UoTPzzKx0QBbEcuGu0l6IelWrwYeMNbWwXoLUQTbWOXVqpARB9t4sXQk3tqH2dI0ZvYUUCgjUuqTSUdV4iYKx9oYx8076jToSV+1ToCGJobm+Tr/APm4lc2mfl5D8JrpcWMJtHuIeYmPQE7djbiT9Ubo0bRP5Lq2A/1BfO/4wXDSbhd8hXUWxHJ/8cr42MCZh6Sa3CNs+OJ4uygj6A6SDLbB28RsN8cl/cNwN9gkKAEJAsSkmp8lLkygHg36vLoSqAmbHo4nHyX6jE0DKSd6ZjnDzQ4jDa34SewrHvHRgQgNZ48J1IN5oD03E8Z76EsR3gszSPMQuJucna91b6ACC0NIh8vNBqMdSZKhi8HuMDApgAzXBEHpthTLf/UJOgODgvNhYop9FVETSHGazXUVBsHkwDdFFI3PPQ2i0BaP2TOP554MAhusCwog1bi/cuH7Y7T2Xpvoe8dGNgaPoM0A6hBiZRr39m+mnwWvJHpv+phoqpzugALqELUvZziC92TnGoBfPbG0KVFWwPLyXeGSx7W1Kl64MLi4+ors6QBQVjbLcARWgIOzFDtAGhPDFbb5DcPtWHU/CehxPbEnUUOi2ta09TDTJTaNdUkRy8ySQIvoSXk2PEAZolnUyyLW+8GtVf1MTQAY5jHaEJ0lCQeenIxWTzL6j74fB01EQGqZuip0mugFKSrx+Ch2jtPQxwEY4PWVVaxkWGZcywBQMgb3Wa5nDEjNJvDiglJZP8qAOojcnXh2YFo7Ch8p4pwKIbPpiUK8ociTV2mzpj+Yz2oHsdoDpoS5vlvxU6TqSOCYNENI9wjYvapdj9+DhUu5X12Jzt2wTMmI/Tb09tHNDpLYCa19OfTnQ4HSY1K6mGkNOi/knVoHQ29se2rwLnILCQ0RW3aVenvJBL5WtVqv4g9B0mL1MZtDTpOyd07AAMXuhOLFwq2O2h3+5KTgUHaygCsFNN0ykq5f4Me29TDoYxweho+WdgJwI6CDoALZu/HeK9aUtyQehbrk3CE3B/Cr6nuOFRwZtDT5Z8JLDnUlzI4EcTulj0nVuxPYgWzIDzabxS1C34mR7Di4bx0hp3HBi6Ez3ZQSkx0IO9cRoRhp7w7Y0x0m5LUZq3kamUysBZxCHa+XtNGNhZcQhmMG0CgWGip+PPQ6Q06ScYTJeO4g3niaSSgcmXW21hIa9shBYpCQK6oraVkPUMUdVIIso+uUA61SzWs6jCsAlDtNAiRPqg4rY5MU0M9IDURimWoPBLrFl9ggfkNylgHgjfy7EVNtar5O0licxd43ZJVgMrPZuwjtj8KfgOD0ODNul7TbchszG70N9aXwYTCILPn/AJRBrYtqLMG60wcyxOlvF4C2H9GM9Zr+sY51S0KAMuWMAG6vNiVLMcoxvb25EWFIa1auDVAy42VGZyrJU3lgw8pELnzbjQhg1yT2gDn7CdOn76j2BGPaNRrkvIAOh/wlr3f/AK9vwfc3L275A+hPrj4TDXrOnoTTWizEE9BcF32U/kbgv+EvzNQu7l5SB6BFvkJk3dkrTsIjYuNO6ugXdGsPJAAR0HsJELGlMY+tTt4JYoOSWYNmrzJGfqwCC28YtSoLA9Nx6mA0Kaz6TWIbVk/9zOHdmyIpMubtgTsh+z2rCjTTUudvldfmD5h8Y6H4J0rizNOKVDI2JSwGwQtL0xrW8IM3D5NmIqC0EBeDKKpuCLUx+yKHLmAYp82OIRdmuSho0jM9UeQg56zZp8TijGpHMPObowT6VBrNxluliTtM3LimWokFtSaJLiV+5MKbTV9pZantGUlNQesIq+iGNZErXllaK5GmZYq0Gx0IIaUmYtd5p9GHq6gEvyy7Dtml1DqVNcxGQ+bf0N/RsHOPQAjQR9FOj1gDvmnvhj2g1vnG5oGuqS54ta5Ry0dDbBfNYatck3hgAjZZdM0oIWaS7sedWOC8aKCzTTKf7CovD0gZDtVNLVCExRS+nX+691pESx2ZnFrnMjY7AIOV9+5NRvnY/wAiXEVk/glzRpv8EfkvUHPgcS6Q4YNRnAVgtcNwrpTzQTIAfpNOkB/65lqm+CWtFveFvJeTJTg+YV/7NY/89bBMz+nDBA1DCwmxzQRu0D2DsAFhQ1KXYRTxZqt0EEAtcQ7xbB36XZGBD2fwN+S9Wqao9Kyqpbhhdo4WQ/8AYBAofV/QUj/uZxMbhulmiT9ZUHrAS6lvPS7FCrEEdlZ+MpehPwEshb8R0Kgqwnf2xzNRxHLQ/wA77yVhHKcEGzKsiivvzi9J1X3HG8HHVHXrLPvqL79mMoBQAoCietCPGP8Az7x0BIQLbCIrRLSuBV+fgH4LdCyoGtClhas7vUOMGwFP3J1vYMTvMeo6/GW7oqEYx3oCeOy/h8Pfur8XL6209e+10zqVLEIq6oFaGmbgcecCLh/2Iz++ewYnccGPQ4HWPxSaU6ziGXGymHWdHjg6/BUC1CWOQNNN4EJKqbBFMa9Ut23plqqiNyb/APSoiz7roHmF4e4DF+ZlDdYlKdLqJq+S3/SZ6izNBKYnrA2IeFw/x5eczdSMWWwbsgTfqBX39fZQGvMT0RIcOJG2nnkXMhvW2RuigFpeUBGxLJWD0PSdfjF2ekjkMtWZGj/ozg+CzYjLyYUoWR4wtn2bdwtVBDOIinXZFhQXUHZXHiqDTOAh1X6QQE9Ao6OLbuTM6y1mZlLuAgwKAoIwOpANMk3ZhU1P0Zlz2DNK1jzXHhgegZMj93WOrpGDzmjLVtP5cUH1A/aI3t0jDpoxoFf1CbtbhHcZi20x6Kji4t/qSg25BDs3DLAbEOWZz6d40ewkEqbnzCGQ5YFBi8O9eh2aDFxvAwQrkdqDkpGbhlhPCoZeWXfuaBuiBMsc+O3tY+oIoU/YwJrwHK+CENgONMFg0f8AYIeMwoke3SE65CMsEMJ3iSAFp0CZq/mgTBIc+SOBnL6dkX2WGp0YLeUmboD2G/1ObyQ5EroUIfuLW1Ydn/OWGk4FNmE4mm/EUXOuv6uQLZOyQGYXCumqcyGYNYd06L+rDQ+R7sVZI0OOhqeAWZjaXFYChEbwaybjki3VS/GwlPCMxxDqFI4uFyNR9QhDgWNLjllNbeIDCT3YWNKpFuDSMPhDXgDAI/vECytMtqBXqspyBMp8Bm7yF9MtWCDkjTqOjEJQ5q1Kka1kv+oE6Mbbg0GjMlwhnSRoBBof6vFFCm6dL1iPQfSV36MM8WIhTD+oVmKwHhjSl1K6kmjVuFsBRN4VDtWhf8oFNFuFx+orYVSAL590A5wOREgka2v7diduTWlsAA0Dovl+nUhcPtAEEBgCVOGMgpUEbZFoiC2NQtnmbfooG6mhrlKpAA3gKIg5p0EmGd8x9v8Aw7GPaCgnyRIpF52G2EgXB8bJchYFkvEpnC1bBSQsbX6GD1bjVCNrl8TxAUAjqMCqqI6jUqKUF6toYTLOCBRa/UxkTfW84sELCVpoxdVtKi2Esj2NsNEO+fR0SzRbF84XAvk8OdoF4SRUAeHwVSoqafjWPKmo8oYwzH3KNWopUxpdToSFbAx3SqIGQK1YjtZbEWuCOZjl4aPA0dkHbUkz/wB41Gq9c3in8qRpKZy5s1fuERLsVuLpyxWYZbJisudYP2rVjQ2vCIiFnNMwoMTKLcdKQTzDQAeotaPYdBiPQxEp7C4HMICLVsL8INO+Y9pw0Q+5uBcIvpAaUUwFUh1bfrRylRcChgSt4Ug1rghCBWjccT1AGlG8FAtiSno2bCYDRrVgl9IQuXaxYXBrm4SG1PJgNOBaX5JAF3C6WUK+Krg8QTQ5vT3HYqtnsRKyCVEBScsOk0KGCQzkaypafWjRsII1gbHFJYAPMby4gUChwgLTG9F9u8z36xtWXbzbHjzAAAywGtsJUYaQVkBKZFzzUWYjPPoQWvRlfTnpcDSHwDB+mAlh3NhmR0AlKMx1RfRWAyWkDM8RdD1LIUmYHa9SthJZXytEQCdAznB8/EBjajIAn8zYR4YiUDMREOpOFjfXqGOlFsVqCoFwK7HmJq93sjNyDQp5oKKYgKTWJK42S801CaJrEylHb1qP1S5vgQVoRaWUD1dvIRjsTorwjKnasoE1r7+3wdJkBNcflh31qSvQaLVbSrYgEzDEDJALW39Q8FWKvvvcO+4s2+5WmZoP6lzJI/qVHg6SDvQ0JM6iWUEmfmw4Vfngl9x8zR4CQx9iugndYd/OGVsnr4Ajjefx3HZRs7EDkAXCh16dZLHthygBI1T8ba/DMteRShzb2q3fuWWguuR3YpYtk1DY2qACAJt1XLDz/vCFABoQAUWOsaNTdCsCUWCF1wW6sGK4AbxT0aYiMuIud0ItnQhHqAgCikdEgLP1n/bBBBRm/PvtOLNvjnyoge2ah9CDGiUzN9ybt+sUh5OkBvaslxAVGRFQpaaXsg2Z8QMmycCYsh3wnNJotj9uKltttM8CWAHWr8FBdQoMILeTeLeaHxj018dxZt3AXV9B0NiLVWiPSppXcYRG2i5r4ll1ZcOsW1ZbAlPJKwsQdJ24OvQtRYEtDNctHN6klLcxrvwgVG93lAUCy9wTsNkHVdHAUjYpzghkA9dN/MNPRCWbiuNGIzGaY6H1zi9DpHtMbxAbBTVwWCBqsdaD2VRYLnRyka+URBqu5WLCRaBbBSBTaK5ME7cZLaQADRLOgIwhPKeOxxN6NpoQ/GiGBILkDqmX4y51iEVQVsEEoCpfWaGo4XVKjgKKfBStvsnJFFVZDbW6wSCabi4YTJQFqwR80qI8QQoSz3nhgnLb2U5hv46Dxmpu5jp0ga4urojqzJRRfaHQIXaxaqV1ap0D7UFVRsRosNwT/KFfNqdpXPwh+YrxfcRa0f8A0y/jPxjBjHBxdCPbMD/uoaIbEIzdV5qQgKzgy0CrmjRpagdgMghaeQf3KdJJUCuoyKENVEAJfUEcULLsf6ZcfO9K6js85sanqBdOjHV5BWICLlLSYLyt4NItEmTomQPAzU5YcvrIlNKSGyhdYuBx8pvK43cHDMtemqTYbd5ZPqHK266mAnGAo1HOXS6Q0wSmhQNGIjBgtOW9fVRmC2zZGBQpsMT5V/MtwPkvxHBl9DtHuqynVy0OSK0SPBi1A3DRjljf+YQItI/wJYlDFYQaDawsAdaxSftEPLLBBCiEo8zlDMI1V2l2zKew+y4cLjvEEaKV5Qh7x0m5L9btqyaxravP2Mrcq4D2bSKfxN+ex7qAq0RgTlB3/WZ4KyZvbFQCxKSKsANzGv3OARD3orxwOhBKQSIJSCcJNCgDH/hNuGRQAcH2Z9fXcO64GLtGPcARLGEUT4K+0VVZkzhjbT009d/Hr6d7tZ4GLqR+Bf2V5hKVFm2YYjrlymb/ANmcEEC3Tf2JkwiuoveCeIbkFTXJl4v4Idtl4b4usfp0PPaEOcPq+iutYwBV4CMfQU8vQ+XqBplYg3pLpoDkJAidplMR+CVMHk8oSu+M2MVqB1FSixI1JPW2QXCMBuEsdtVuBqMF0YPrBkHB969Z2HFxOg/SlG1UVTjXkqchD2i3bLxCUhsp1rAtCynYIdQtU6+SUlElVoRx/gXhAenaLMFRpEOtDTss7tDUiYxh6pgTCQF8kUQB+cXIU6Hms7ICek4cf2HvMhv+GDFjkajtGhiyERLUSqhDWhwjBvdpik+MNC4g/ZGR3yALhef8WhYbMV4fuHtncYwwqb/OYHWvgt1uSK6sFe4plYGg1mvFkykysy4/INIdSOD4PKypgXKRWdmhQwaSvruML08VUCLPiHMS4LDhqAq0GsKKqtVyxEgdBEmf7OX/AJkpHLuArGjmoWB9gEvA+zOVCJIJNi0NkPaIsZHQAwaVaH/kQ15qXJ/ZovhsuFBt8pcIo5spIY1AA/BBldpxIw1j9LQeUQSaWu1bsRBfWwIJV0PoERI4ufAWHY9gu8NiBbMQg1SSmQOcDgCNhcFQytAQA0Ah0rOrpgglMRtLdMrh+AHYeABS6r1E7nQWmf4eAS2D3QFx0COoTTspx+EbdZE6TA3j9NuT5BKaummoTYDNVBM10TKw5xQevlIFnVEquan8bw3cSZIJ7B8WmsoOpAH1Q/xsD6SgPwW+txI4OJgb4v0i4JrjUYCMK3KEpm9yyJqtjfy4rjRO5fUfjbiMeo7Gh/BUpmyHk0z5rsxISC/FfiJ0McTT8GaUXPnFkssqRIQA1WDNg5/DjsGkfuDu2qZ5u84UogYwUnTKYgZGh1wgYNA+gvP6c7biTY/Kq7VqUiOWr6cFoWPqpS5/JCPacRzmx+XAVBzNcK6EsiyFI6b3IXA2thUVAkc23FQlRNYqwxdoNg947JHrHB6N46HVX4GdwXdAscPXl0e5WFShz/S1dAm5UXBPOqxze35fGqenXTzFJjPUwR6ly3d46RTSCNiDKNd40Ir6ar9Kypsfh6RkagL1ACOjEmQcrY0GmWmV3Ypwb2GpQ+xcoVgT+gWIDpkNsR5Rs85u/MeqRUXTUowncVlRJXF6ZUdoavSNr7pcH3Bfclppz3HkVMUNf0QgItvW/cIK78h9rFlRyWZVuIyMbUIS9RX9egR2lqdk0I699+C9LKj+GNaHYdDAQgZPSQHEHPhEKSgfsOrUdUV4ur6GipyMQwWQqhvCFnayALL7dcLMBQRQFUA1WVNDNIFwI22BPNyxmU5ZcIu2aQbBRb6HyjcVgtfGKCxrQjxAp80raQ9a+bQ0XZAAwuW6bdS0LEUEqnmIGyAX4gOUB758N6X8EymvYOxxn/s46JQplclSyPTEIbKvoC0ckCC6PESayqrYZq9K+YwuaCWhXEemUjLojP2wJo7D0ftE8yIQhup6GXzbQKftjYVfIhzmduuRhjxXaCAAAGgYHwUyfUDixB2Rlmn69SzNQO+PyHB/ACJnSlguLHjo9TNXtG44hsg570C25sjIne5vTeLIvmiCygoBwFfLJUNlrtXuKAPrj0i/oDg9L3lGpieCPpYu4LZx+jqVcpMWAoqoW9X8anrJennijaBW4pddWJzLmNkji0/sxkMpF65v+2L9LbLXE76/hMrF7wI7B/Y7WqX+9saziPQqWatsDsvkv+oxTnDGJgoCqgLWEFsdqjiCKum3RwqeLSBIC6TQG0dJVIVwJ+C0jbM7bSRRRuhRwCZmqmG12VzL/CUT99hgS2GH/oU1i4W1Vl04VeRwYoN5dCRNGVZIR5LAJeIvqVUVY3CPc4mprpIaW4qGvLme36CUbyAT/WWVfgvqCQNynd94a/AcXpY91D/aShosGfowU4tfSDpL4xaW2Ev3LXcuGVG9MD5wiwiY1arJOHotJaNiwWxFC0szSJpYb4CaB0CnrQhoU4zf9iE4GeAMfSRi190moiTQfBwC6CfQxmlYDmsXg+0EQFSK8LmmFS6CHy/bKHkSJqLXbnFjZ4VBEbZ3nIeZkC/6+IgKh/W0audlliowRBkZOUgKvJ7apmD2WZ35SJ7As6JDnMiSuhs1qA2f7EKV308wrSSqwgiJVk5i2naGki2ty7rpMnSCGzE6sBH7E+FefSwwrpcXF6WPdfbn6hcYRCxmEx+N9RLIjuDUbEmsyfVchCsvikp5NAaDv0NkDPLcIHkH5naMJ6RuW0nLc7Hwsi1eOIZMFBw623DLXjG9YPEXyIjsQxFlDbwZzLduJf8AkZEB/wD8XUyg5IZEbSP0WtgH2wugEMw0VBl0cBO1KwF8ghqomjkEKrhBHNQMOqNopCd2KSKYAgLXS0bdTKv8TRTMzOSkDsC3qyaQu3MU+DKv1p0HQ9B3RZeBi9T2LzjHuh7dfHNRHCstJN6JFbnyhIQXohSeCDnEocpVDCkz5UUeaJT22cot2Oq3oES3nHy/QblHkm4y3C34B8epT9FfZOy9ocLxeyxm8eiu1QHYPpIBDYw2pBJ/xNXCgAADQMbfszQ3GHcFHXjBz3MNkRKzEwQiNBpbNy1iZCEtCsgl+nOhY79modeiOD3GPUYH4CNFiDBC6MPDGJWFNkS2GguFUhtmyM54hIEoykD0DcgdTeKkn0R1ncroek4PQ9D06vuVwxqrRBDVurMMgA5HmvAQN1pCpI6U66XSzI1H9idNw3UDBOsVFsPSC9WYMs+kCW4FrH6thNvgGvW9l+pJzckOUAUbj39OtespOGQOTvQzSGpQRsjYbQHuI9BitVW2o7YeqAjZfEp/7BE6Nf418M0DiSJYnJC03QOgQV8FPdy/Rauh5YPcG62nK/W6PjPZY/Uvv5W0JUJQT+YAeZpIUQtSZpHDTK1CkUdAnaG+oUni4iHyYWydbwgR0MKOMMuhsT/cg/8Amz4GW2n3LEdLnSKQarLfZl7my5BWsNDoEgQzVEGjAoUKmNcKZ4I5LQHlqf6sBB1CvB36/nDni91m3eY/Us+KY8F/xwKzYb5ZR+UKpqJLsG9HeVAS8cMS+SsK5emtI4a8Nfe8zy9lUsPspeBQPGHlHIjhTXoF3sQ9oiNB7HDDuLOgPOIvXXtOsaRr4yBDrpYlL72IL+tOLtp4z/sIVEBTE3vJYtxx3V0YCVCA+s379xmjpcL6WOD8B+SwtmyGvVwtHbMWg7zSwl8FjNAlgUKzXQKgX5jU3GWe1mpoh/gdFv5KA+Jk3tAYYDdREGBdFoS/rK62Ghg9869usX6kmsvU1HZJR/sqogeTBApBNxh6X+tBi4WNkInRLBo/BHrIdlK98MByaY6OK+BhomQx6jKVjvWBPTHoOwOZ0uL0Xg/iih3cjVD3EdkcjfYehyITU7YYksWbXgaxgqADxglQ6DEBBNkuxlMpFfT3GBEDJhHtMYjLwexeFx+oPrHqrqIvKjTGF9erlIRRXO9YaPBYY0EOwmWNC0SpuHQLp6eigl1ZFWRL1+PNNFXGINTtZ8SwndPGK15HQ5ZGZdLytQ4iAvxlXZPjVhf41oCtXrWTaqDHhZT2LIZHkRmEza7vXeBbqFOHNAVKvFqcqpR9FEMVxLw5QNnQraC0WsGy4KpuatIRutaBLPS60WUB/iJol3RnJMid3cRq2YkG6kVqCxwzBgWfvI3RU3MX/wCBixBrEj+o4gdlKLGIoNlXhHTAfCcX5lfAPsXWi2bZvDpUBVoJcUtUJWBRepNLTKhpG63sSkd4bnTvUSWwEcGjG4yEssTIKkELPcp5NkK8zNQRyFWgiBGQcyfECyo1k7STADlZKsv3HN1xQKxN2BFF8AS2DD6AcB0V+jSUPVLVqu3GKEhzVocYU8Q4os33iE/2Lh/wVeFLJ2FwKx7XLLeNwsey9l+SiJ7mWRLhcC1XfQlMCvmvUgSgLZWkUPYMbxtBQHyKKlR4OiYFAcHSCBo3K6bzwstay5GEGGJM+nVSnAmBGFklOdEop/DPaanwyOWJUI5IJvISbBxg1TJ0Y/10PZhkgbGNy5fXeFFaXbVxh9UmHOSKSZN5doQl+7R/yQYtv3snX++5W583bD1rc0j1pciQppRFOD8p5uUrmh0yFiYvaxoefGEzlCDPO5VYHnRfbrB3kU/Mv1NFzo0Qh5L7BDWrUu+TgVLBhm6xXgYKprRYx2R6phJaqIQngTWMjkcjlluqraaDlIwkIvyQ/nLcovdiHpx3hef5ByzkidTwEypJ03bio2tu4V4xMveBwjIm3AZsc4ne+v8A3gqubpte17bjUrs3B8y0tLl4X0X33E7dH0x6Sezvp0cAYFKQ3ohsRflRwRomRVyvCwACWg0DoZas4XY5uSMrDFIgOiqXTByr9Spt7JgMxdZ9NRw60EvrXcAvQ1ICMD7by9MA9yoJSXq2wwWnVmCeZn4866OAm5ELUIGJYSeGltCujcr23gj9WA0+4LRgnAxgUAUBM6hsOkIQyqLDd1l2yeAzb6HDekVHwu/QJQOrXDL5j1nx1hg9hC9f40OnVffbDTcn+m8Qnt4AxOqgEFQHEN5N5kP11/jCsA6s/wDevBHVK1nNu1M7LG0t7ESq1YtQ3jABAWq0BDqgWOTmzg15Ltfo/C4kP9ngMKH+dJ+22gKi7yA5WKiT1P6ikO8HQBAmTnfGEM0VsvKYH+baLjPbQpQMZ4J1+TUsCFArTjm8QPWUhEwnXLDhNVARn6qyPCAsjZVVfMJCJqsPQl1gtilPUeDsHzr+G9TiwuXKldaHNL/oCAQNH7sac0AIBYzQbGa6djlLkM00Cv8AkVAE0YJMENVoiitjT8CFpxbQU2YCUp5HDTd7sWrnSahXvfH+2YHzh7X/AFhoDbVTVfFWBFZXX/1WaDnzolj0IsMcTMU8R71PYtFuLdxE8PwT42y12yFZzmVURvunpJUU1ITibptRfp8VNfrAwKCrA8i9MgG+NNZ8jGgFroO5YYGNSTww4hLbadyLpV6PDCYBqyIhQIlIy0dLE0gQdHViXCQ6UzO8fbPUYMYR6DV1f8yUnPkpUpUiFimr5pxExsGtLftZbUanLmgdC80aHNcFKl0Sr8QbYeyjj2mIRKDVYAEbJcvAUluJA4k2NJcLt040K+qkxrtapuR0JLuT+mWCAekhHs6SMKWdyHL7CK0YBmCryqGg9JCwojoYULdqVuAi9WsrbcymizTQJrS4rSfBAdIVW4AEgC/kR2xcyJHYWPQs5yMIhwwRHUOxjeyt1YHwMKq1AUHwb6T4ZL+ay+0YPQwOIrU0EyDBpWv1vAyHpq/4hXlkBWpiMt801orEmQu5UjmHYB7LtEV2w/8AZHXuIMqNZSRZp262GHPQWr0iG25UzSQao2uA7FpduPSJS83iGffqFsw5ZYreVxGiQH8E1RLBlnFsM595la1glRBs3gNWxk4ataeIBSgMGt3Qa7tS2ejM3XD08NhEH7IUz1ClecCMhIGR9EdryIZUVJok1hpHmIM3/wB9QPomQQkdDd2ieU+0v6Jx3hgxxdjFrC6EevRmdQ+JrAqwSjIAlNgAIKPBf51CdpVtRaf4SNUiT03xAzVq9H9ETjhSCxwUIAXQXWVgVW+UM2Wuq98IcjCKZGgqLy2YfuaChn+SxjIzwmWHoVtiZRhFAMiFsJqw7RS1iGaUm17AwZFCrOHgEaI3VDrjlYsUlDmP/rLJDFimAuHCtcM2+YCO0/DkMXn2q0QFOPJFD51oY/ZSB8QuH80ATMbtEh7j3ZeKeIFZTzWxiTUQq1Oi4raA7uILZbm6hLeIK/T/ACAekq9zsM93AAnQfqHpAOyVXIYW7YGKflNVDmFVqtXlcpmfQJAsQR3yMrxw5mzGh+sdvKi94tWRU3JVbDW3QiWEnb0COCPkwV6JVNi9nJ6CzLQ8MHbbcuiAqkU2R6aH80gKYs6cRlI1v/gSIqyZ4eOE/qbhbrJVp1qxNCy9Xz/EHoSv+IRq7lmfszbfsavlZa7ILvkWQdyXXwLQQR7b+SwoJsEuw/zJ1+hyJoEAGBsFR4SCK22QAC8UGAS2W9OVmygADwS42XalC4B3Dpfgncv65wcBxY9Ac5LfdzsKWWge0lB2AugyxVdiV2AjKVvCL/ur81ZhLNQqvjLGK8VgGAK5EFx8wbfPCpzBXvRT+aGAbTnP7sKv3cjzAx1+qr+11FCLSmZ6SasXmv8AbpW5l/EqNvHkhGdsuSTMeqNkXu38M6DsPcPpHuKHAG4nZVuBArNly2Wxu6sGW4W5+jGVBN0Qzi4IUNjd5fiIIGjv3D558V7N/hJ2Umw+CP2bi4J0Ej99faPjHVfwj6dMH8mH7tj9+fLMGHYH6twe0/jxidim4dk7b9I/iJ8g+4e5X47f1VdL154X+NP2F/AfwQ6D5r9cGL2DB6lqf//Z)"
      ],
      "metadata": {
        "id": "7HAaCleVp5UJ"
      }
    },
    {
      "cell_type": "code",
      "source": [
        "# 1. Write a Python function that takes a list of numbers as input and returns the sum of all even numbers in\n",
        "#the list\n",
        "def sum1(n):\n",
        "  l= sum(n)\n",
        "  return l\n",
        "def func(list1):\n",
        "    n=[]\n",
        "    for i in list1:\n",
        "      if i%2 == 0:\n",
        "        n.append(i)\n",
        "    return n\n",
        "list1 =[1,2,3,4,5,6,7]\n",
        "sum1(func(list1))"
      ],
      "metadata": {
        "colab": {
          "base_uri": "https://localhost:8080/"
        },
        "id": "y4PA69hxp8pJ",
        "outputId": "66ca75f7-0ed1-4b1c-90d9-6af04f98c2ff"
      },
      "execution_count": null,
      "outputs": [
        {
          "output_type": "execute_result",
          "data": {
            "text/plain": [
              "12"
            ]
          },
          "metadata": {},
          "execution_count": 4
        }
      ]
    },
    {
      "cell_type": "code",
      "source": [
        "#2. Create a Python function that accepts a string and returns the reverse of that string.\n",
        "\n",
        "def reverse_string(k):\n",
        "    s = k[::-1]\n",
        "    return s\n",
        "reverse_string(\"margorp nohtyp ym si siht\")"
      ],
      "metadata": {
        "colab": {
          "base_uri": "https://localhost:8080/",
          "height": 35
        },
        "id": "FAGYfKqRVNk6",
        "outputId": "4b771c46-5d69-4439-bd3f-d0f90f21a3cf"
      },
      "execution_count": null,
      "outputs": [
        {
          "output_type": "execute_result",
          "data": {
            "text/plain": [
              "'this is my python program'"
            ],
            "application/vnd.google.colaboratory.intrinsic+json": {
              "type": "string"
            }
          },
          "metadata": {},
          "execution_count": 47
        }
      ]
    },
    {
      "cell_type": "code",
      "source": [
        "#3. Implement a Python function that takes a list of integers and returns a new list containing the squares of\n",
        "#each number.\n",
        "def square_numbers(numbers):\n",
        "    return [num ** 2 for num in numbers]\n",
        "\n",
        "input_list = [1, 2, 3, 4, 5]\n",
        "output_list = square_numbers(input_list)\n",
        "print(f\"Input List: {input_list}\")\n",
        "print(f\"Squared List: {output_list}\")\n"
      ],
      "metadata": {
        "colab": {
          "base_uri": "https://localhost:8080/"
        },
        "id": "akMdavXMVPaZ",
        "outputId": "dc48b261-24e6-4045-8f93-507b5fd42afe"
      },
      "execution_count": null,
      "outputs": [
        {
          "output_type": "stream",
          "name": "stdout",
          "text": [
            "Input List: [1, 2, 3, 4, 5]\n",
            "Squared List: [1, 4, 9, 16, 25]\n"
          ]
        }
      ]
    },
    {
      "cell_type": "code",
      "source": [
        "#4. Write a Python function that checks if a given number is prime or not from 1 to 200.\n",
        "def is_prime(num):\n",
        "    for i in range(2, int(num ** 0.5) + 1):  # Check divisors up to the square root\n",
        "        if num % i == 0:\n",
        "            return f\"{num} is a NOT prime number.\"\n",
        "    return f\"{num} is a prime number.\"\n",
        "\n",
        "is_prime(19)"
      ],
      "metadata": {
        "colab": {
          "base_uri": "https://localhost:8080/",
          "height": 35
        },
        "id": "IDso_YC1Vp-l",
        "outputId": "3ca37b35-8c62-4a2b-a1dc-88cec5a51b91"
      },
      "execution_count": null,
      "outputs": [
        {
          "output_type": "execute_result",
          "data": {
            "text/plain": [
              "'19 is a prime number.'"
            ],
            "application/vnd.google.colaboratory.intrinsic+json": {
              "type": "string"
            }
          },
          "metadata": {},
          "execution_count": 55
        }
      ]
    },
    {
      "cell_type": "code",
      "source": [
        "#5. Create an iterator class in Python that generates the Fibonacci sequence up to a specified number of\n",
        "#   terms\n",
        "def fib(n):\n",
        "  if n<=1:\n",
        "   return n\n",
        "  else:\n",
        "    return fib(n-1)+fib(n-2)\n",
        "\n",
        "[fib(i) for i in range(10)]"
      ],
      "metadata": {
        "colab": {
          "base_uri": "https://localhost:8080/"
        },
        "id": "GCXjhMq_WOvS",
        "outputId": "cb7474ce-cf80-4c38-a67b-c53c9e5a0731"
      },
      "execution_count": null,
      "outputs": [
        {
          "output_type": "execute_result",
          "data": {
            "text/plain": [
              "[0, 1, 1, 2, 3, 5, 8, 13, 21, 34]"
            ]
          },
          "metadata": {},
          "execution_count": 77
        }
      ]
    },
    {
      "cell_type": "code",
      "source": [
        "#6. Write a generator function in Python that yields the powers of 2 up to a given exponent.\n",
        "def power_of_two(k):\n",
        "  for i in range(k+1):\n",
        "   n=2**i\n",
        "   yield n\n",
        "for power in power_of_two(9):\n",
        "  print(power)"
      ],
      "metadata": {
        "id": "MwuX_H7pal1h",
        "colab": {
          "base_uri": "https://localhost:8080/"
        },
        "outputId": "5d39f1af-36a6-4993-e424-38cb1b1579c5"
      },
      "execution_count": 17,
      "outputs": [
        {
          "output_type": "stream",
          "name": "stdout",
          "text": [
            "1\n",
            "2\n",
            "4\n",
            "8\n",
            "16\n",
            "32\n",
            "64\n",
            "128\n",
            "256\n",
            "512\n"
          ]
        }
      ]
    },
    {
      "cell_type": "code",
      "source": [
        "#7. Implement a generator function that reads a file line by line and yields each line as a string.\n",
        "def read_file_by_line(file_path):\n",
        "    \"\"\"Generator that reads a file line by line and yields each line as a string.\"\"\"\n",
        "    try:\n",
        "        with open(file_path, 'r') as file:\n",
        "            for line in file:\n",
        "                yield line.rstrip('\\n')\n",
        "    except FileNotFoundError:\n",
        "        print(f\"Error: The file at '{file_path}' was not found.\")\n",
        "    except Exception as e:\n",
        "        print(f\"An error occurred: {e}\")"
      ],
      "metadata": {
        "id": "ZhzJUlH8E4Lg"
      },
      "execution_count": 26,
      "outputs": []
    },
    {
      "cell_type": "code",
      "source": [
        "#8. Use a lambda function in Python to sort a list of tuples based on the second element of each tuple.\n",
        "\n",
        "tuples_list = [(1, 3), (4, 1), (2, 5), (3, 2)]\n",
        "\n",
        "sorted_list = sorted(tuples_list, key=lambda x: x[1])\n",
        "\n",
        "print(\"Sorted list:\", sorted_list)"
      ],
      "metadata": {
        "colab": {
          "base_uri": "https://localhost:8080/"
        },
        "id": "dsXam3aPH6R8",
        "outputId": "efb8c565-d774-476c-f5d4-2958994a12a5"
      },
      "execution_count": 29,
      "outputs": [
        {
          "output_type": "stream",
          "name": "stdout",
          "text": [
            "Sorted list: [(4, 1), (3, 2), (1, 3), (2, 5)]\n"
          ]
        }
      ]
    },
    {
      "cell_type": "code",
      "source": [
        "#9. Write a Python program that uses `map()` to convert a list of temperatures from Celsius to Fahrenheit.\n",
        "\n",
        "list1=[24,30,32,45]\n",
        "\n",
        "list(map(lambda x: (x*(9/5))+32,list1 ))"
      ],
      "metadata": {
        "colab": {
          "base_uri": "https://localhost:8080/"
        },
        "id": "6_Q2vFsbKRjN",
        "outputId": "2c1e49d6-e29c-4e62-a504-b88a1eedc176"
      },
      "execution_count": 19,
      "outputs": [
        {
          "output_type": "execute_result",
          "data": {
            "text/plain": [
              "[75.2, 86.0, 89.6, 113.0]"
            ]
          },
          "metadata": {},
          "execution_count": 19
        }
      ]
    },
    {
      "cell_type": "code",
      "source": [
        "#10. Create a Python program that uses `filter()` to remove all the vowels from a given string.\n",
        "def remove_vowels(input_string):\n",
        "    vowels = 'aeiouAEIOU'\n",
        "    result = []\n",
        "    for char in filter(lambda c: c not in vowels, input_string):\n",
        "        result.append(char)\n",
        "    return ''.join(result)\n",
        "\n",
        "input_=input(\"enter the string: \")\n",
        "res = remove_vowels(input_)\n",
        "print(\"string without vowels: \", res)"
      ],
      "metadata": {
        "colab": {
          "base_uri": "https://localhost:8080/"
        },
        "id": "L4ydrIVlLMy8",
        "outputId": "27ad605e-40c0-46ce-d64c-6cd72cbc33fd"
      },
      "execution_count": 25,
      "outputs": [
        {
          "output_type": "stream",
          "name": "stdout",
          "text": [
            "enter the string: dextromia\n",
            "string without vowels:  dxtrm\n"
          ]
        }
      ]
    },
    {
      "cell_type": "code",
      "source": [
        "#11) Imagine an accounting routine used in a book shop. It works on a list with sublists, which look like this:\n",
        "#Write a Python program, which returns a list with 2-tuples. Each tuple consists of the order number and the\n",
        "#product of the price per item and the quantity. The product should be increased by 10,- € if the value of the\n",
        "#order is smaller than 100,00 €mWrite a Python program using lambda and map.\n",
        "\n",
        "orders = [\n",
        "    [34587, \"Learning Python, Mark Lutz\", 4, 40.95],\n",
        "    [98762, \"Programming Python, Mark Lutz\", 5, 56.80],\n",
        "    [77226, \"Head First Python, Paul Barry\", 3, 32.95],\n",
        "    [88112, \"Einfurung in Python3, Bernd Klein\", 3, 24.99],\n",
        "]\n",
        "\n",
        "result = list(map(lambda x: (x[0], round(x[2] * x[3] + (10 if x[2] * x[3] < 100 else 0), 2)), orders))\n",
        "\n",
        "print(result)\n"
      ],
      "metadata": {
        "colab": {
          "base_uri": "https://localhost:8080/"
        },
        "id": "kBIHBQsmMgsO",
        "outputId": "f1fa4667-87cf-46a2-c227-07e29e1c1fb5"
      },
      "execution_count": 36,
      "outputs": [
        {
          "output_type": "stream",
          "name": "stdout",
          "text": [
            "[(34587, 163.8), (98762, 284.0), (77226, 108.85), (88112, 84.97)]\n"
          ]
        }
      ]
    },
    {
      "cell_type": "code",
      "source": [],
      "metadata": {
        "id": "etvy9d-7jwwn"
      },
      "execution_count": null,
      "outputs": []
    }
  ]
}