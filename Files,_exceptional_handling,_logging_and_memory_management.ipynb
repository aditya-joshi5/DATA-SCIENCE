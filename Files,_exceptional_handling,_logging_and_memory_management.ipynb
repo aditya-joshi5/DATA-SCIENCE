{
  "nbformat": 4,
  "nbformat_minor": 0,
  "metadata": {
    "colab": {
      "provenance": []
    },
    "kernelspec": {
      "name": "python3",
      "display_name": "Python 3"
    },
    "language_info": {
      "name": "python"
    }
  },
  "cells": [
    {
      "cell_type": "markdown",
      "source": [
        "\n",
        "1. What is the difference between interpreted and compiled languages?\n",
        "\n",
        "Interpreted Languages:\n",
        "The source code is executed line by line by an interpreter.\n",
        "Slower execution since each line is processed in real-time.\n",
        "Example: Python, JavaScript, Ruby.\n",
        "\n",
        "Compiled Languages:\n",
        "The entire code is converted into machine code before execution.\n",
        "Faster execution but requires a separate compilation step.\n",
        "Example: C, C++.\n",
        "\n",
        "  Python is an interpreted language, meaning code runs directly without needing compilation.\n",
        "\n",
        "2. What is exception handling in Python?\n",
        "\n",
        "Exception handling is used to handle runtime errors and prevent program crashes.\n",
        "\n",
        "Example:\n",
        "\n",
        "try:\n",
        "    x = 10 / 0  # Division by zero\n",
        "\n",
        "except ZeroDivisionError:\n",
        "\n",
        "    print(\"Cannot divide by zero!\")\n",
        "\n",
        "This prevents the program from crashing by catching the error.\n",
        "\n",
        "3. What is the purpose of the finally block in exception handling?\n",
        "\n",
        "Example:\n",
        "\n",
        "try:\n",
        "    f = open(\"file.txt\", \"r\")\n",
        "\n",
        "    data = f.read()\n",
        "\n",
        "except FileNotFoundError:\n",
        "\n",
        "    print(\"File not found\")\n",
        "\n",
        "finally:\n",
        "\n",
        "    f.close()  # Ensures file is closed\n",
        "\n",
        " Used for cleanup operations, like closing files or releasing resources.\n",
        "\n",
        "4. What is logging in Python?\n",
        "\n",
        "Python’s logging module helps track events, debug programs, and store error messages.\n",
        "\n",
        "Example:\n",
        "\n",
        "import logging\n",
        "logging.basicConfig(level=logging.INFO)\n",
        "\n",
        "\n",
        "logging.info(\"This is an info message\")\n",
        "\n",
        "\n",
        " Used in large applications to record events, errors, and debugging messages.\n",
        "\n",
        "5. What is the significance of the __del__ method in Python?\n",
        "\n",
        "\n",
        "The __del__ method is a destructor, automatically called when an object is deleted.\n",
        "\n",
        "Example:\n",
        "\n",
        "class MyClass:\n",
        "    def __del__(self):\n",
        "\n",
        "        print(\"Object deleted\")\n",
        "        \n",
        "obj = MyClass()\n",
        "\n",
        "del obj  # Triggers __del__\n",
        "\n",
        " Helps in resource management but is not commonly used due to Python’s garbage collection.\n",
        "\n",
        "6. What is the difference between import and from ... import in Python?\n",
        "\n",
        "import math\n",
        "\n",
        "print(math.sqrt(16))\n",
        "\n",
        "from module import function: Imports only specific functions.\n",
        "\n",
        "\n",
        "from math import sqrt\n",
        "\n",
        "print(sqrt(16))  # No need to use math.sqrt()\n",
        "\n",
        " Using from ... import improves readability but may cause naming conflicts.\n",
        "\n",
        "7.How can you handle multiple exceptions in Python?\n",
        "\n",
        "You can handle multiple exceptions using multiple except blocks or a tuple of exceptions.\n",
        "\n",
        "Example:\n",
        "\n",
        "try:\n",
        "    x = int(\"hello\")  # Raises ValueError\n",
        "\n",
        "except (ValueError, TypeError) as e:\n",
        "\n",
        "    print(\"Error:\", e)\n",
        "\n",
        " Useful when dealing with multiple error types in one try block.\n",
        "\n",
        "8. What is the purpose of the with statement when handling files in Python?\n",
        "The with statement automatically closes the file after execution.\n",
        "\n",
        "Example:\n",
        "\n",
        "with open(\"file.txt\", \"r\") as f:\n",
        "    content = f.read()\n",
        "\n",
        "File is automatically closed after execution\n",
        "\n",
        " Prevents resource leaks and improves code safety.\n",
        "\n",
        "9.  What is the difference between multithreading and multiprocessing?\n",
        "\n",
        "Multithreading: Multiple threads within the same process (shared memory).\n",
        "Good for I/O-bound tasks (e.g., web scraping, file I/O).\n",
        "\n",
        "\n",
        "Multiprocessing: Multiple processes, each with its own memory space.\n",
        "Good for CPU-bound tasks (e.g., parallel computation).\n",
        "Example:\n",
        "\n",
        "from threading import Thread\n",
        "\n",
        "def print_numbers():\n",
        "\n",
        "    for i in range(5):\n",
        "\n",
        "        print(i)\n",
        "\n",
        "t = Thread(target=print_numbers)\n",
        "\n",
        "t.start()\n",
        "\n",
        "Use multithreading for tasks like web scraping and multiprocessing for CPU-heavy tasks.\n",
        "\n",
        "10. What are the advantages of using logging in a program?\n",
        "\n",
        "Tracks program execution.\n",
        "Helps in debugging.\n",
        "Stores logs in files for later analysis.\n",
        "Example:\n",
        "\n",
        "import logging\n",
        "\n",
        "logging.basicConfig(filename=\"app.log\", level=logging.ERROR)\n",
        "\n",
        "logging.error(\"This is an error message\")\n",
        "\n",
        " Logs are stored in a file, making debugging easier.\n",
        "\n",
        "11. What is memory management in Python?\n",
        "\n",
        "Reference counting: Tracks object references and deletes unused ones.\n",
        "\n",
        "Garbage collection: Removes cyclic references (objects referencing each other).\n",
        "Example:\n",
        "\n",
        "import gc\n",
        "\n",
        "gc.collect()  # Triggers garbage collection manually\n",
        "\n",
        " Helps prevent memory leaks.\n",
        "\n",
        "12. What are the basic steps involved in exception handling in Python?\n",
        "\n",
        "Use try block to wrap risky code.\n",
        "\n",
        "Catch exceptions using except.\n",
        "\n",
        "Use finally for cleanup.\n",
        "\n",
        "Optionally, use else if no exceptions occur.\n",
        "\n",
        "13. Why is memory management important in Python?\n",
        "\n",
        "Prevents memory leaks.\n",
        "\n",
        "Optimizes performance.\n",
        "\n",
        "Ensures efficient resource utilization.\n",
        "14. What is the role of try and except in exception handling?\n",
        "\n",
        "try: Contains code that might raise an error.\n",
        "\n",
        "except: Catches and handles errors.\n",
        "\n",
        "Example:\n",
        "\n",
        "try:\n",
        "    print(10 / 0)\n",
        "except ZeroDivisionError:\n",
        "    print(\"Cannot divide by zero!\")\n",
        " Prevents program crashes.\n",
        "\n",
        "15.  How does Python's garbage collection system work?\n",
        "\n",
        "Reference counting deletes objects when they’re no longer used.\n",
        "Cycle detection removes objects with circular references.\n",
        "\n",
        "Example:\n",
        "\n",
        "import gc\n",
        "\n",
        "gc.collect()  # Manually runs garbage collection\n",
        "Prevents memory leaks.\n",
        "\n",
        "16.  What is the purpose of the else block in exception handling?\n",
        "\n",
        "Runs only if no exception occurs.\n",
        "\n",
        "Example:\n",
        "\n",
        "try:\n",
        "    print(\"No error\")\n",
        "\n",
        "except:\n",
        "\n",
        "    print(\"Error\")\n",
        "\n",
        "else:\n",
        "\n",
        "    print(\"Success!\")\n",
        "Used for optional execution when try succeeds.\n",
        "\n",
        "17. What are the common logging levels in Python?\n",
        "\n",
        "DEBUG (Detailed information).\n",
        "INFO (General events).\n",
        "WARNING (Potential issues).\n",
        "ERROR (Serious issues).\n",
        "CRITICAL (System failure).\n",
        "18. What is the difference between os.fork() and multiprocessing in Python?\n",
        "\n",
        "os.fork() (Unix only) creates a child process.\n",
        "multiprocessing works on Windows and Unix.\n",
        "19. What is the importance of closing a file in Python?\n",
        "\n",
        "Prevents data loss. Frees system resources\n",
        "\n",
        "20. What is the difference between file.read() and file.readline() in Python?\n",
        "\n",
        "read(): Reads the whole file. readline(): Reads one line at a time.\n",
        "21. What is the logging module in Python used for?\n",
        "\n",
        "Used to store logs and track events.\n",
        "\n",
        "22. What is the os module in Python used for in file handling?\n",
        "\n",
        "Works with file paths (os.path). Creates directories (os.mkdir).\n",
        "\n",
        "23. What are the challenges associated with memory management in Python?\n",
        "\n",
        "Garbage collection overhead. Memory fragmentation. Circular references.\n",
        "24. How do you raise an exception manually in Python?\n",
        "\n",
        "raise ValueError(\"Custom error message\")\n",
        "\n",
        " Used for custom error messages.\n",
        "\n",
        "25. Why is it important to use multithreading in certain applications?\n",
        "\n",
        "Improves performance for I/O-bound tasks.\n",
        "Used in networking, web scraping, and GUIs.\n"
      ],
      "metadata": {
        "id": "3Q2vJweVScmT"
      }
    },
    {
      "cell_type": "code",
      "source": [
        "#1. How can you open a file for writing in Python and write a string to it\n",
        "with open ('example.txt','w') as f:\n",
        "  f.write(\"hello world. this is my first file program\")"
      ],
      "metadata": {
        "id": "LBraFatkSe9C"
      },
      "execution_count": null,
      "outputs": []
    },
    {
      "cell_type": "code",
      "source": [
        "#2. Write a Python program to read the contents of a file and print each lineF\n",
        "with open('example.txt','r')as f:\n",
        "  k=f.readlines()\n",
        "  print(k)\n"
      ],
      "metadata": {
        "colab": {
          "base_uri": "https://localhost:8080/"
        },
        "id": "9sLl1oJGTk4x",
        "outputId": "3104c0ba-b38d-44ee-ccd4-f2fd24365976"
      },
      "execution_count": null,
      "outputs": [
        {
          "output_type": "stream",
          "name": "stdout",
          "text": [
            "['hello world. this is my first file program']\n"
          ]
        }
      ]
    },
    {
      "cell_type": "code",
      "source": [
        "#3. How would you handle a case where the file doesn't exist while trying to open it for reading\n",
        "try:\n",
        "  with open('example1.txt','r') as f:\n",
        "    k=f.readlines()\n",
        "    print(k)\n",
        "except FileNotFoundError:\n",
        "    print(\"File not found.\")"
      ],
      "metadata": {
        "colab": {
          "base_uri": "https://localhost:8080/"
        },
        "id": "9oGlv3gDT5sd",
        "outputId": "49b2c8df-2fba-40c9-c185-d6e253693f93"
      },
      "execution_count": null,
      "outputs": [
        {
          "output_type": "stream",
          "name": "stdout",
          "text": [
            "File not found.\n"
          ]
        }
      ]
    },
    {
      "cell_type": "code",
      "source": [
        "#4. Write a Python script that reads from one file and writes its content to another file\n",
        "with open('example.txt', 'r') as source_file:\n",
        "    content = source_file.read()  # Read the whole source file\n",
        "with open('destination_file.txt', 'w') as destination_file:\n",
        "    destination_file.write(content)  # Write to the destination file\n"
      ],
      "metadata": {
        "id": "QqRYlZqeWEeM"
      },
      "execution_count": null,
      "outputs": []
    },
    {
      "cell_type": "code",
      "source": [
        "#5.How would you catch and handle division by zero error in Python\n",
        "for i in range(-4,4):\n",
        " try:\n",
        "   k=4/i\n",
        "   print(f\"division of 4 by {i} results: {k}\")\n",
        " except ZeroDivisionError:\n",
        "   print(\"division by zero\")"
      ],
      "metadata": {
        "colab": {
          "base_uri": "https://localhost:8080/"
        },
        "id": "nn-VNideXgwm",
        "outputId": "339f74cf-a99a-4b48-eb46-d6e7068f59f1"
      },
      "execution_count": null,
      "outputs": [
        {
          "output_type": "stream",
          "name": "stdout",
          "text": [
            "division of 4 by -4 results: -1.0\n",
            "division of 4 by -3 results: -1.3333333333333333\n",
            "division of 4 by -2 results: -2.0\n",
            "division of 4 by -1 results: -4.0\n",
            "division by zero\n",
            "division of 4 by 1 results: 4.0\n",
            "division of 4 by 2 results: 2.0\n",
            "division of 4 by 3 results: 1.3333333333333333\n"
          ]
        }
      ]
    },
    {
      "cell_type": "code",
      "source": [
        "#6. Write a Python program that logs an error message to a log file when a division by zero exception occurs\n",
        "import logging\n",
        "\n",
        "logging.basicConfig(filename=\"error.log\", level=logging.ERROR)\n",
        "\n",
        "def divide_numbers(a, b):\n",
        "    try:\n",
        "        result = a / b\n",
        "        print(\"Result:\", result)\n",
        "    except ZeroDivisionError:\n",
        "        logging.error(\"Division by zero attempted: %d / %d\", a, b)\n",
        "        print(\"Error: Cannot divide by zero! Check the log file for details.\")\n",
        "\n",
        "divide_numbers(10, 0)"
      ],
      "metadata": {
        "colab": {
          "base_uri": "https://localhost:8080/"
        },
        "id": "PlDB5AZaYYHl",
        "outputId": "c131d3cf-eb3b-4d8f-a1b4-f089acfdcfe2"
      },
      "execution_count": null,
      "outputs": [
        {
          "output_type": "stream",
          "name": "stderr",
          "text": [
            "ERROR:root:Division by zero attempted: 10 / 0\n"
          ]
        },
        {
          "output_type": "stream",
          "name": "stdout",
          "text": [
            "Error: Cannot divide by zero! Check the log file for details.\n"
          ]
        }
      ]
    },
    {
      "cell_type": "code",
      "source": [
        "#7. How do you log information at different levels (INFO, ERROR, WARNING) in Python using the logging module\n",
        "import logging\n",
        "logging.basicConfig(filename = \"test_new1.log\", level = logging.DEBUG, format = '%(asctime)s %(levelname)s %(message)s')\n",
        "\n",
        "logging.info(\"This is my info msg\")\n",
        "logging.error(\"This is a error msg\")\n",
        "logging.warning(\"This is my warning msg\")\n",
        "logging.shutdown()"
      ],
      "metadata": {
        "colab": {
          "base_uri": "https://localhost:8080/"
        },
        "id": "eVLnM30Zd8k5",
        "outputId": "0e777b31-a913-4c64-e26a-3be19f5fe88f"
      },
      "execution_count": null,
      "outputs": [
        {
          "output_type": "stream",
          "name": "stderr",
          "text": [
            "ERROR:root:This is a error msg\n",
            "WARNING:root:This is my warning msg\n"
          ]
        }
      ]
    },
    {
      "cell_type": "code",
      "source": [
        "#8. Write a program to handle a file opening error using exception handling\n",
        "try:\n",
        "  with open('example1.txt','r') as f:\n",
        "    k=f.readlines()\n",
        "    print(k)\n",
        "except FileNotFoundError:\n",
        "    print(\"File not found.\")"
      ],
      "metadata": {
        "colab": {
          "base_uri": "https://localhost:8080/"
        },
        "id": "SgVj0QUALeMY",
        "outputId": "d8e31ba1-729a-4a1f-808f-296fd3f7740c"
      },
      "execution_count": null,
      "outputs": [
        {
          "output_type": "stream",
          "name": "stdout",
          "text": [
            "File not found.\n"
          ]
        }
      ]
    },
    {
      "cell_type": "code",
      "source": [
        "#9. How can you read a file line by line and store its content in a list in Python\n",
        "with open ('write_list.txt','w') as f:\n",
        "  contents='3,5,6,78,43,34'\n",
        "  f.write(contents)\n",
        "lines = []\n",
        "with open(\"write_list.txt\", \"r\") as file:\n",
        "    line = file.readline()\n",
        "    while line:\n",
        "        lines.append(line.strip())  # Store line without newline\n",
        "        line = file.readline()\n",
        "\n",
        "print(lines)"
      ],
      "metadata": {
        "colab": {
          "base_uri": "https://localhost:8080/"
        },
        "id": "TQ8LcXtwMeDp",
        "outputId": "85d7777f-263d-4937-fe8d-202f6e724e2a"
      },
      "execution_count": null,
      "outputs": [
        {
          "output_type": "stream",
          "name": "stdout",
          "text": [
            "['3,5,6,78,43,34']\n"
          ]
        }
      ]
    },
    {
      "cell_type": "code",
      "source": [
        "#10.How can you append data to an existing file in Python\n",
        "with open(\"example.txt\", \"a\") as file:\n",
        "  file.write('\\nwriting this to you')\n",
        "\n"
      ],
      "metadata": {
        "id": "d-WRNdCZUGCD"
      },
      "execution_count": null,
      "outputs": []
    },
    {
      "cell_type": "code",
      "source": [
        "# #11. Write a Python program that uses a try-except block to handle an error when attempting to access a\n",
        "# dictionary key that doesn't exist\n",
        "my_dict = {\"apple\": 1, \"banana\": 2, \"cherry\": 3}\n",
        "\n",
        "try:\n",
        "    value = my_dict[\"grape\"]  # Try to access a key that doesn't exist\n",
        "    print(value)\n",
        "except KeyError:\n",
        "    print(\"The key 'grape' does not exist in the dictionary.\")"
      ],
      "metadata": {
        "colab": {
          "base_uri": "https://localhost:8080/"
        },
        "id": "k8d81AaLU6VI",
        "outputId": "88210610-d5b0-48af-cc80-3a20fd910325"
      },
      "execution_count": null,
      "outputs": [
        {
          "output_type": "stream",
          "name": "stdout",
          "text": [
            "The key 'grape' does not exist in the dictionary.\n"
          ]
        }
      ]
    },
    {
      "cell_type": "code",
      "source": [
        "#12. Write a program that demonstrates using multiple except blocks to handle different types of exceptions\n",
        "try:\n",
        " num=int(input(\"enter a integer: \"))\n",
        " a=[6,3,9,67,7]\n",
        " print(a[num]) #program prints the value of the entered index\n",
        "except ValueError:\n",
        "  print('entered no. is not integer')\n",
        "except IndexError:\n",
        "  print('index error')\n"
      ],
      "metadata": {
        "colab": {
          "base_uri": "https://localhost:8080/"
        },
        "id": "f2uup4GdV7AJ",
        "outputId": "27cf9434-15be-4b37-e778-c2278a5928df"
      },
      "execution_count": null,
      "outputs": [
        {
          "output_type": "stream",
          "name": "stdout",
          "text": [
            "enter a integer: 6\n",
            "index error\n"
          ]
        }
      ]
    },
    {
      "cell_type": "code",
      "source": [
        "#13.How would you check if a file exists before attempting to read it in Python\n",
        "import os\n",
        "\n",
        "file_path = \"my_file.txt\"  # Replace with your file path\n",
        "\n",
        "if os.path.exists(file_path):\n",
        "    print(f\"The file '{file_path}' exists.\")\n",
        "    # Proceed with reading the file\n",
        "    with open(file_path, \"r\") as file:\n",
        "      file.readlines()\n",
        "\n",
        "else:\n",
        "    print(f\"The file '{file_path}' does not exist.\")\n",
        "    # Handle the case where the file doesn't exist\n"
      ],
      "metadata": {
        "colab": {
          "base_uri": "https://localhost:8080/"
        },
        "id": "bKtrUfxhcJeg",
        "outputId": "ef16f49e-8d41-4bfb-9217-e03012e25048"
      },
      "execution_count": null,
      "outputs": [
        {
          "output_type": "stream",
          "name": "stdout",
          "text": [
            "The file 'my_file.txt' does not exist.\n"
          ]
        }
      ]
    },
    {
      "cell_type": "code",
      "source": [
        "#14. Write a program that uses the logging module to log both informational and error messagesF\n",
        "import logging\n",
        "import os\n",
        "\n",
        "# Configure logging settings\n",
        "logging.basicConfig(filename=\"app.log\", level=logging.DEBUG,\n",
        "                    format=\"%(asctime)s - %(levelname)s - %(message)s\")\n",
        "\n",
        "def divide_numbers(a, b):\n",
        "    logging.info(\"Attempting to divide %d by %d\", a, b)\n",
        "\n",
        "    try:\n",
        "        result = a / b\n",
        "        logging.info(\"Division successful: %d / %d = %f\", a, b, result)\n",
        "        return result\n",
        "    except ZeroDivisionError:\n",
        "        logging.error(\"Division by zero attempted: %d / %d\", a, b)\n",
        "        return None\n",
        "\n",
        "# Example usage\n",
        "divide_numbers(10, 2)\n",
        "divide_numbers(5, 0)\n",
        "\n",
        "print(\"Logs saved to app.log\")\n",
        "\n",
        "if not os.path.exists(\"app.log\"):\n",
        "  with open(\"app.log\", \"w\") as f:\n",
        "    pass  # Create an empty file\n",
        "\n",
        "from google.colab import files\n",
        "files.download('app.log')"
      ],
      "metadata": {
        "colab": {
          "base_uri": "https://localhost:8080/",
          "height": 52
        },
        "id": "hkq1f90ddg_j",
        "outputId": "c5ccf330-cca7-4226-afb3-f8892508ecf4"
      },
      "execution_count": null,
      "outputs": [
        {
          "output_type": "stream",
          "name": "stderr",
          "text": [
            "ERROR:root:Division by zero attempted: 5 / 0\n"
          ]
        },
        {
          "output_type": "stream",
          "name": "stdout",
          "text": [
            "Logs saved to app.log\n"
          ]
        },
        {
          "output_type": "display_data",
          "data": {
            "text/plain": [
              "<IPython.core.display.Javascript object>"
            ],
            "application/javascript": [
              "\n",
              "    async function download(id, filename, size) {\n",
              "      if (!google.colab.kernel.accessAllowed) {\n",
              "        return;\n",
              "      }\n",
              "      const div = document.createElement('div');\n",
              "      const label = document.createElement('label');\n",
              "      label.textContent = `Downloading \"${filename}\": `;\n",
              "      div.appendChild(label);\n",
              "      const progress = document.createElement('progress');\n",
              "      progress.max = size;\n",
              "      div.appendChild(progress);\n",
              "      document.body.appendChild(div);\n",
              "\n",
              "      const buffers = [];\n",
              "      let downloaded = 0;\n",
              "\n",
              "      const channel = await google.colab.kernel.comms.open(id);\n",
              "      // Send a message to notify the kernel that we're ready.\n",
              "      channel.send({})\n",
              "\n",
              "      for await (const message of channel.messages) {\n",
              "        // Send a message to notify the kernel that we're ready.\n",
              "        channel.send({})\n",
              "        if (message.buffers) {\n",
              "          for (const buffer of message.buffers) {\n",
              "            buffers.push(buffer);\n",
              "            downloaded += buffer.byteLength;\n",
              "            progress.value = downloaded;\n",
              "          }\n",
              "        }\n",
              "      }\n",
              "      const blob = new Blob(buffers, {type: 'application/binary'});\n",
              "      const a = document.createElement('a');\n",
              "      a.href = window.URL.createObjectURL(blob);\n",
              "      a.download = filename;\n",
              "      div.appendChild(a);\n",
              "      a.click();\n",
              "      div.remove();\n",
              "    }\n",
              "  "
            ]
          },
          "metadata": {}
        },
        {
          "output_type": "display_data",
          "data": {
            "text/plain": [
              "<IPython.core.display.Javascript object>"
            ],
            "application/javascript": [
              "download(\"download_0cc471b5-ebcd-4824-a6bd-92fccdaa614f\", \"app.log\", 0)"
            ]
          },
          "metadata": {}
        }
      ]
    },
    {
      "cell_type": "code",
      "source": [
        "#15. Write a Python program that prints the content of a file and handles the case when the file is empty\n",
        "def print_file_content(file_path):\n",
        "    try:\n",
        "        with open(file_path, 'r') as file:\n",
        "            content = file.read()\n",
        "            if content:\n",
        "                print(content)\n",
        "            else:\n",
        "                print(f\"The file '{file_path}' is empty.\")\n",
        "    except FileNotFoundError:\n",
        "        print(f\"The file '{file_path}' was not found.\")\n",
        "\n",
        "# Example usage\n",
        "file_path = \"my_file.txt\"  # Replace with your file path\n",
        "print_file_content(file_path)\n"
      ],
      "metadata": {
        "colab": {
          "base_uri": "https://localhost:8080/"
        },
        "id": "AaiS_CaiifnN",
        "outputId": "cd5ecbab-f597-472b-b9e9-e7afec03a4e7"
      },
      "execution_count": null,
      "outputs": [
        {
          "output_type": "stream",
          "name": "stdout",
          "text": [
            "The file 'my_file.txt' was not found.\n"
          ]
        }
      ]
    },
    {
      "cell_type": "code",
      "source": [
        "#16.Demonstrate how to use memory profiling to check the memory usage of a small program\n",
        "from memory_profiler import memory_usage\n",
        "import time\n",
        "\n",
        "def my_function():\n",
        "    a = [1] * (10 ** 6)  # Create a list with 1 million elements\n",
        "    b = [2] * (2 * 10 ** 7)  # Create a list with 20 million elements\n",
        "    del b  # Delete list b to free memory\n",
        "    return a  # Return a\n",
        "\n",
        "# Measure memory usage\n",
        "mem_usage = memory_usage(my_function)\n",
        "\n",
        "print(f\"Memory usage (in MiB): {mem_usage}\")\n"
      ],
      "metadata": {
        "id": "owKfF_Errojq",
        "colab": {
          "base_uri": "https://localhost:8080/"
        },
        "outputId": "c4f36af1-47e7-43a3-cb53-84f12d4e523a"
      },
      "execution_count": 3,
      "outputs": [
        {
          "output_type": "stream",
          "name": "stdout",
          "text": [
            "Memory usage (in MiB): [125.17578125, 125.33984375, 193.140625, 261.203125, 133.7734375, 132.76171875]\n"
          ]
        }
      ]
    },
    {
      "cell_type": "code",
      "source": [
        "#17.Write a Python program to create and write a list of numbers to a file, one number per line\n",
        "with open('write_file.txt','w') as file:\n",
        "  file.writelines(f\"{i}\\n\" for i in range(100))\n",
        "\n"
      ],
      "metadata": {
        "id": "yJ0JGC7GtYx8"
      },
      "execution_count": 7,
      "outputs": []
    },
    {
      "cell_type": "code",
      "source": [
        "#18. How would you implement a basic logging setup that logs to a file with rotation after 1MB\n",
        "import logging\n",
        "import os\n",
        "from logging.handlers import RotatingFileHandler\n",
        "\n",
        "logger = logging.getLogger(\"MyRotatingLogger\")\n",
        "logger.setLevel(logging.DEBUG)\n",
        "\n",
        "\n",
        "log_file = \"applog.log\"\n",
        "handler = RotatingFileHandler(log_file, maxBytes=1 * 10 * 10, backupCount=3)\n",
        "\n",
        "formatter = logging.Formatter(\"%(asctime)s - %(levelname)s - %(message)s\")\n",
        "handler.setFormatter(formatter)  # Apply formatting to the handler\n",
        "\n",
        "logger.addHandler(handler)\n",
        "\n",
        "for i in range(100):  # Generate a lot of logs to trigger rotation\n",
        "    logger.info(f\"This is log message number {i}\")\n"
      ],
      "metadata": {
        "colab": {
          "base_uri": "https://localhost:8080/"
        },
        "collapsed": true,
        "id": "2n3hzI9Vuk9j",
        "outputId": "462cfad1-d3c6-4b75-a379-c58c5a38031a"
      },
      "execution_count": 24,
      "outputs": [
        {
          "output_type": "stream",
          "name": "stderr",
          "text": [
            "INFO:MyRotatingLogger:This is log message number 0\n",
            "INFO:MyRotatingLogger:This is log message number 1\n",
            "INFO:MyRotatingLogger:This is log message number 2\n",
            "INFO:MyRotatingLogger:This is log message number 3\n",
            "INFO:MyRotatingLogger:This is log message number 4\n",
            "INFO:MyRotatingLogger:This is log message number 5\n",
            "INFO:MyRotatingLogger:This is log message number 6\n",
            "INFO:MyRotatingLogger:This is log message number 7\n",
            "INFO:MyRotatingLogger:This is log message number 8\n",
            "INFO:MyRotatingLogger:This is log message number 9\n",
            "INFO:MyRotatingLogger:This is log message number 10\n",
            "INFO:MyRotatingLogger:This is log message number 11\n",
            "INFO:MyRotatingLogger:This is log message number 12\n",
            "INFO:MyRotatingLogger:This is log message number 13\n",
            "INFO:MyRotatingLogger:This is log message number 14\n",
            "INFO:MyRotatingLogger:This is log message number 15\n",
            "INFO:MyRotatingLogger:This is log message number 16\n",
            "INFO:MyRotatingLogger:This is log message number 17\n",
            "INFO:MyRotatingLogger:This is log message number 18\n",
            "INFO:MyRotatingLogger:This is log message number 19\n",
            "INFO:MyRotatingLogger:This is log message number 20\n",
            "INFO:MyRotatingLogger:This is log message number 21\n",
            "INFO:MyRotatingLogger:This is log message number 22\n",
            "INFO:MyRotatingLogger:This is log message number 23\n",
            "INFO:MyRotatingLogger:This is log message number 24\n",
            "INFO:MyRotatingLogger:This is log message number 25\n",
            "INFO:MyRotatingLogger:This is log message number 26\n",
            "INFO:MyRotatingLogger:This is log message number 27\n",
            "INFO:MyRotatingLogger:This is log message number 28\n",
            "INFO:MyRotatingLogger:This is log message number 29\n",
            "INFO:MyRotatingLogger:This is log message number 30\n",
            "INFO:MyRotatingLogger:This is log message number 31\n",
            "INFO:MyRotatingLogger:This is log message number 32\n",
            "INFO:MyRotatingLogger:This is log message number 33\n",
            "INFO:MyRotatingLogger:This is log message number 34\n",
            "INFO:MyRotatingLogger:This is log message number 35\n",
            "INFO:MyRotatingLogger:This is log message number 36\n",
            "INFO:MyRotatingLogger:This is log message number 37\n",
            "INFO:MyRotatingLogger:This is log message number 38\n",
            "INFO:MyRotatingLogger:This is log message number 39\n",
            "INFO:MyRotatingLogger:This is log message number 40\n",
            "INFO:MyRotatingLogger:This is log message number 41\n",
            "INFO:MyRotatingLogger:This is log message number 42\n",
            "INFO:MyRotatingLogger:This is log message number 43\n",
            "INFO:MyRotatingLogger:This is log message number 44\n",
            "INFO:MyRotatingLogger:This is log message number 45\n",
            "INFO:MyRotatingLogger:This is log message number 46\n",
            "INFO:MyRotatingLogger:This is log message number 47\n",
            "INFO:MyRotatingLogger:This is log message number 48\n",
            "INFO:MyRotatingLogger:This is log message number 49\n",
            "INFO:MyRotatingLogger:This is log message number 50\n",
            "INFO:MyRotatingLogger:This is log message number 51\n",
            "INFO:MyRotatingLogger:This is log message number 52\n",
            "INFO:MyRotatingLogger:This is log message number 53\n",
            "INFO:MyRotatingLogger:This is log message number 54\n",
            "INFO:MyRotatingLogger:This is log message number 55\n",
            "INFO:MyRotatingLogger:This is log message number 56\n",
            "INFO:MyRotatingLogger:This is log message number 57\n",
            "INFO:MyRotatingLogger:This is log message number 58\n",
            "INFO:MyRotatingLogger:This is log message number 59\n",
            "INFO:MyRotatingLogger:This is log message number 60\n",
            "INFO:MyRotatingLogger:This is log message number 61\n",
            "INFO:MyRotatingLogger:This is log message number 62\n",
            "INFO:MyRotatingLogger:This is log message number 63\n",
            "INFO:MyRotatingLogger:This is log message number 64\n",
            "INFO:MyRotatingLogger:This is log message number 65\n",
            "INFO:MyRotatingLogger:This is log message number 66\n",
            "INFO:MyRotatingLogger:This is log message number 67\n",
            "INFO:MyRotatingLogger:This is log message number 68\n",
            "INFO:MyRotatingLogger:This is log message number 69\n",
            "INFO:MyRotatingLogger:This is log message number 70\n",
            "INFO:MyRotatingLogger:This is log message number 71\n",
            "INFO:MyRotatingLogger:This is log message number 72\n",
            "INFO:MyRotatingLogger:This is log message number 73\n",
            "INFO:MyRotatingLogger:This is log message number 74\n",
            "INFO:MyRotatingLogger:This is log message number 75\n",
            "INFO:MyRotatingLogger:This is log message number 76\n",
            "INFO:MyRotatingLogger:This is log message number 77\n",
            "INFO:MyRotatingLogger:This is log message number 78\n",
            "INFO:MyRotatingLogger:This is log message number 79\n",
            "INFO:MyRotatingLogger:This is log message number 80\n",
            "INFO:MyRotatingLogger:This is log message number 81\n",
            "INFO:MyRotatingLogger:This is log message number 82\n",
            "INFO:MyRotatingLogger:This is log message number 83\n",
            "INFO:MyRotatingLogger:This is log message number 84\n",
            "INFO:MyRotatingLogger:This is log message number 85\n",
            "INFO:MyRotatingLogger:This is log message number 86\n",
            "INFO:MyRotatingLogger:This is log message number 87\n",
            "INFO:MyRotatingLogger:This is log message number 88\n",
            "INFO:MyRotatingLogger:This is log message number 89\n",
            "INFO:MyRotatingLogger:This is log message number 90\n",
            "INFO:MyRotatingLogger:This is log message number 91\n",
            "INFO:MyRotatingLogger:This is log message number 92\n",
            "INFO:MyRotatingLogger:This is log message number 93\n",
            "INFO:MyRotatingLogger:This is log message number 94\n",
            "INFO:MyRotatingLogger:This is log message number 95\n",
            "INFO:MyRotatingLogger:This is log message number 96\n",
            "INFO:MyRotatingLogger:This is log message number 97\n",
            "INFO:MyRotatingLogger:This is log message number 98\n",
            "INFO:MyRotatingLogger:This is log message number 99\n"
          ]
        }
      ]
    },
    {
      "cell_type": "code",
      "source": [
        "#19.  Write a program that handles both IndexError and KeyError using a try-except block\n",
        "try:\n",
        "    num_index=int(input(\"enter a index value(0-5): \"))\n",
        "    num_key=int(input(\"enter the key value(1-3): \"))\n",
        "    my_list = [1,2,3,4,5,6]\n",
        "    print(f\"the index value is:{my_list[num_index]}\")  # Trying to access an out-of-range index\n",
        "except IndexError:\n",
        "    print(\"Error: List index out of range!\")\n",
        "try:\n",
        "    my_dict = {1: \"Aditya\", 2: \"plays\",3: \"football\"}\n",
        "    print(f\"the key value is:{my_dict[num_key]}\")  # Accessing a non-existent key\n",
        "\n",
        "except KeyError:\n",
        "    print(\"Error: Key not found in dictionary!\")  # Handles KeyError\n",
        "\n",
        "except Exception as e:\n",
        "    print(f\"An unexpected error occurred: {e}\")  # Handles any other exception"
      ],
      "metadata": {
        "colab": {
          "base_uri": "https://localhost:8080/"
        },
        "id": "WcWeRAcM1CEr",
        "outputId": "636fce24-503b-42f3-ca5e-c4faf199e0d5"
      },
      "execution_count": 30,
      "outputs": [
        {
          "output_type": "stream",
          "name": "stdout",
          "text": [
            "enter a index value(0-5): 7\n",
            "enter the key value(1-3): 8\n",
            "Error: List index out of range!\n",
            "Error: Key not found in dictionary!\n"
          ]
        }
      ]
    },
    {
      "cell_type": "code",
      "source": [
        "#20.How would you open a file and read its contents using a context manager in Python\n",
        "file_name = \"example.txt\"\n",
        "\n",
        "try:\n",
        "    with open(file_name, 'r') as file:\n",
        "        content = file.read()  # Read the entire content of the file\n",
        "        print(content)  # Print the content of the file\n",
        "except FileNotFoundError:\n",
        "    print(f\"Error: The file '{file_name}' was not found!\")\n",
        "except Exception as e:\n",
        "    print(f\"An unexpected error occurred: {e}\")\n"
      ],
      "metadata": {
        "colab": {
          "base_uri": "https://localhost:8080/"
        },
        "id": "m93APdw21DWd",
        "outputId": "17e3b21f-2238-403f-d91f-1e620c1d88d4"
      },
      "execution_count": 31,
      "outputs": [
        {
          "output_type": "stream",
          "name": "stdout",
          "text": [
            "Error: The file 'example.txt' was not found!\n"
          ]
        }
      ]
    },
    {
      "cell_type": "code",
      "source": [
        "#21. Write a Python program that reads a file and prints the number of occurrences of a specific word\n",
        "contents=\"\"\"\n",
        "India, officially the Republic of India, is a country in South Asia\n",
        "It is the seventh-largest country by area; the most populous country from\n",
        "June 2023 onwards; and since its independence in 1947, the world's\n",
        "most populous democracy. Bounded by the Indian Ocean on the south,\n",
        "Modern humans arrived on the Indian subcontinent from Africa no later than\n",
        "55,000 years ago. Their long occupation , predominantly in\n",
        "isolation as hunter-gatherers, has made the region highly diverse, second only\n",
        "In the early mediaeval era, Christianity, Islam, Judaism, and Zoroastrianism\n",
        "became established on India's southern and western coasts. Muslim armies\n",
        "\"\"\"\n",
        "with open(\"filew.txt\",'w') as file:\n",
        "  file.writelines(contents)\n",
        "def count_word_ocuurences(word):\n",
        "  count=0\n",
        "  try:\n",
        "   with open(\"filew.txt\",'r') as file:\n",
        "     for line in file:\n",
        "       words=line.lower().split()  # .split() creates a list of words in line seprated by space as a delimiter\n",
        "       count+=words.count(word.lower())\n",
        "  except FileNotFoundError:\n",
        "    print(f\"Error: The file was not found!\")\n",
        "  except Exception as e:\n",
        "   print(e)\n",
        "\n",
        "  return count\n",
        "# word_count= input(\"enter a word present in the file: \")\n",
        "word_count= \"indian\"\n",
        "k=count_word_ocuurences(word_count)\n",
        "print(f\"for the word '{word_count}', the no. of occurences are {k}\")\n"
      ],
      "metadata": {
        "colab": {
          "base_uri": "https://localhost:8080/"
        },
        "id": "Dt_5csAUI0Ze",
        "outputId": "a0f61be8-887f-4a8b-9a4c-9e8d174a91c0"
      },
      "execution_count": 2,
      "outputs": [
        {
          "output_type": "stream",
          "name": "stdout",
          "text": [
            "for the word 'indian', the no. of occurences are 2\n"
          ]
        }
      ]
    },
    {
      "cell_type": "code",
      "source": [
        "#22. How can you check if a file is empty before attempting to read its contents\n",
        "import os\n",
        "with open(\"file.txt\",'w') as file:\n",
        "  pass\n",
        "def is_file_empty(file_path):\n",
        "\n",
        "    return os.stat(file_path).st_size == 0 #os.stat checks the stats of file &.st_size checks the size of file\n",
        "\n",
        "# Example usage:\n",
        "file_path = \"file.txt\"\n",
        "if is_file_empty(file_path):\n",
        "    print(f\"The file '{file_path}' is empty.\")\n",
        "else:\n",
        "    print(f\"The file '{file_path}' is not empty.\")\n"
      ],
      "metadata": {
        "colab": {
          "base_uri": "https://localhost:8080/"
        },
        "id": "kilZUP3OYS2A",
        "outputId": "ea5fea07-c282-4155-c572-658a4925823e"
      },
      "execution_count": 6,
      "outputs": [
        {
          "output_type": "stream",
          "name": "stdout",
          "text": [
            "The file 'file.txt' is empty.\n"
          ]
        }
      ]
    },
    {
      "cell_type": "code",
      "source": [
        "#23. Write a Python program that writes to a log file when an error occurs during file handling.\n",
        "import logging\n",
        "\n",
        "# Configure logging to write to a file\n",
        "logging.basicConfig(filename='file_handling_errors.log', level=logging.ERROR,\n",
        "                    format='%(asctime)s - %(levelname)s - %(message)s')\n",
        "\n",
        "try:\n",
        "    # Your file handling code here (e.g., opening, reading, writing)\n",
        "    with open('my_file.txt', 'r') as f:\n",
        "        content = f.read()\n",
        "        # Process content\n",
        "except FileNotFoundError:\n",
        "    logging.error('File not found: my_file.txt')\n",
        "except Exception as e:\n",
        "    logging.exception('An error occurred during file handling: %s', e)\n"
      ],
      "metadata": {
        "colab": {
          "base_uri": "https://localhost:8080/"
        },
        "id": "6mxEIHTdIW1A",
        "outputId": "eac2c156-185e-422e-fcf5-28674e91e5df"
      },
      "execution_count": 7,
      "outputs": [
        {
          "output_type": "stream",
          "name": "stderr",
          "text": [
            "ERROR:root:File not found: my_file.txt\n"
          ]
        }
      ]
    }
  ]
}