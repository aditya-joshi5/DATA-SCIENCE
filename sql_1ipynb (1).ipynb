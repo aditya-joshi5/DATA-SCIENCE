{
  "cells": [
    {
      "cell_type": "code",
      "execution_count": null,
      "metadata": {
        "collapsed": true,
        "id": "FOyYU_qXX20M"
      },
      "outputs": [],
      "source": [
        "##(1).   Create a table called employees with the following structure?\n",
        "# emp_id (integer, should not be NULL and should be a primary key)Q\n",
        "# emp_name (text, should not be NULL)Q\n",
        " #age (integer, should have a check constraint to ensure the age is at least 18)Q\n",
        " #email (text, should be unique for each employee)Q\n",
        " #salary (decimal, with a default value of 30,000).\n",
        "\n",
        "\n",
        "create database if not exists pw;\n",
        "use pw;\n",
        "create table if not exists  employees(\n",
        "emp_id int  primary key,\n",
        "emp_name varchar(25) not null,\n",
        "age int check (age>=18),\n",
        "email varchar(40) unique,\n",
        "salary decimal default (30000));\n",
        "use pw;"
      ]
    },
    {
      "cell_type": "markdown",
      "metadata": {
        "id": "rx4b_DpwYAt6"
      },
      "source": [
        "ques 2   Explain the purpose of constraints and how they help maintain data integrity in a database. Provideexamples of common types of constraints.\n",
        "\n",
        "\n",
        "ANS- SQL Constraints are used to specify rules for data.\n",
        "Constraints restrict the type of values that can be stored in a column\n",
        " Constraints prevent duplicate records where uniqueness is required, such as for primary keys.\n",
        "Constraints maintain valid relationships between tables, preventing orphaned records.\n",
        "\n",
        " EXAMPLE- NOT NULL\n",
        "         UNIQUE\n",
        "         PRIMARY KEY\n",
        "         DEFAULT\n",
        "         CHECK\n"
      ]
    },
    {
      "cell_type": "markdown",
      "metadata": {
        "id": "cNIpZ66vYmpU"
      },
      "source": [
        "\n",
        "ques 3  Why would you apply the NOT NULL constraint to a column? Can a primary key contain NULL values? Justifyyour answer.\n",
        "\n",
        "ANS- when we have to fill the column it means when a column should not be blank that time we have to give NOT NULL constraints .\n",
        "\n",
        " for example SR NO , ROLL NO , ORDER ID , CUSTOMER ID .\n",
        "\n",
        " yes a PRIMARY KEY contains not null and unique constraints."
      ]
    },
    {
      "cell_type": "markdown",
      "metadata": {
        "id": "-wN776R_bl_C"
      },
      "source": [
        "ques 4  Explain the steps and SQL commands used to add or remove constraints on an existing table. Provide an\n",
        "example for both adding and removing a constraint\n",
        "\n",
        "ANS- If i have a table named as employees and which have a column name as Salary and i  have to chanmge their datatypes from decimal to int  or constraints i have to follow following steps:\n",
        "\n",
        "* ALTER employees\n",
        "* MODIFY salary int;\n",
        "* to drop constraints\n",
        "* ALTER EMPLOYEES\n",
        "* DROP CONSTRAINTS salary;"
      ]
    },
    {
      "cell_type": "markdown",
      "metadata": {
        "id": "jeMXW2dXb3fn"
      },
      "source": [
        "ques 5 - Explain the consequences of attempting to insert, update, or delete data in a way that violates constraints.Provide an example of an error message that might occur when violating a constraint.\n",
        "\n",
        "\n",
        "ANS- If i gived salary column as int not null constraints and i want to put in any decimal no or if i forget to insert any no then SQL gives me error that salary should not be null or decimal value.\n",
        "\n",
        " for example insert into salary values __(empty)\n",
        "\n",
        " error code 1048- salary should not be null"
      ]
    },
    {
      "cell_type": "markdown",
      "metadata": {
        "id": "SUCjCCDIcdJa"
      },
      "source": [
        "ques 6  You created a products table without constraints as follows:\n",
        "\n",
        " CREATE TABLE products (\n",
        "\n",
        " product_id INT,\n",
        "\n",
        " product_name VARCHAR(50),\n",
        "\n",
        " price DECIMAL(10, 2));\n",
        "\n",
        " ans- *  ALTER TABLE products\n",
        " *   modify product_id int primary key,\n",
        " *  modify price decimal(10,2) default(50.00);"
      ]
    },
    {
      "cell_type": "code",
      "execution_count": null,
      "metadata": {
        "id": "Utj5iWjsdDUT"
      },
      "outputs": [],
      "source": [
        "#ques 7 Write a query to fetch the student_name and class_name for each student using an INNER JOIN\n",
        "\n",
        "\n",
        "SELECT students.student_name, classes.class_name\n",
        "FROM students\n",
        "INNER JOIN classes\n",
        " ON students.class_id = classes.class_id;"
      ]
    },
    {
      "cell_type": "code",
      "execution_count": null,
      "metadata": {
        "id": "716DoBsyf9in"
      },
      "outputs": [],
      "source": [
        "#(8)-Write a query that shows all order_id, customer_name, and product_name, ensuring that all products are\n",
        "#listed even if they are not associated with an order\n",
        "#ans-\n",
        "use pw;\n",
        "create table orders (\n",
        "order_id int,\n",
        "order_date date,\n",
        "customer_id int) ;\n",
        "create table customers (\n",
        "customer_id int ,\n",
        "customer_name varchar (50));\n",
        "create table products(\n",
        "product_id int,\n",
        "product_name varchar(50),\n",
        "order_id int );\n",
        "insert into orders\n",
        "values (1,'2024-01-01',101),\n",
        "(2,'2024-01-03',102);\n",
        "insert into customers values\n",
        "(101,\"Alice\"),\n",
        "(102,\"Bob\");\n",
        "insert into products values\n",
        "(1,\"Laptop\",1),\n",
        "(2,\"Phone\",null );\n",
        "\n",
        "SELECT orders.order_id, customers.customer_name, products.product_name\n",
        "FROM products\n",
        "inner JOIN orders ON products.order_id = orders.order_id\n",
        "left JOIN customers ON orders.customer_id = customers.customer_id;\n"
      ]
    },
    {
      "cell_type": "code",
      "execution_count": null,
      "metadata": {
        "id": "AmS01Tunf-9L"
      },
      "outputs": [],
      "source": [
        "#(9)-Write a query to find the total sales amount for each product using an INNER JOIN and the SUM\n",
        "#ANS-\n",
        "use pw;\n",
        "create table Sales(\n",
        "sale_id int,\n",
        "product_id int,\n",
        "ammount int);\n",
        "insert into Sales values\n",
        "(1,101,500),\n",
        "(2,102,300),\n",
        "(3,101,700);\n",
        "create table Product(\n",
        "product_id int,\n",
        "product_name varchar(50));\n",
        "insert into Product values\n",
        "(101,\"Laptop\"),\n",
        "(102,\"Phone\");\n",
        "SELECT p.product_name, SUM(s.ammount) AS total_sales\n",
        "FROM Sales s\n",
        "INNER JOIN Product p ON s.product_id = p.product_id\n",
        "GROUP BY p.product_name;\n"
      ]
    },
    {
      "cell_type": "code",
      "execution_count": null,
      "metadata": {
        "id": "cjqVPtP8gnUk"
      },
      "outputs": [],
      "source": [
        "#|(10)-Write a query to display the order_id, customer_name, and the quantity of products ordered by each\n",
        "#customer using an INNER JOIN between all three tables.\n",
        "#AMS=\n",
        "use pw;\n",
        "create table order1 (\n",
        "order_id int,\n",
        "order_date date,\n",
        "customer_id int) ;\n",
        "create table customer (\n",
        "customer_id int ,\n",
        "customer_name varchar (50));\n",
        "create table ORDER_DETAILS(\n",
        "order_id int,\n",
        "product_id int,\n",
        "quantity int );\n",
        "insert into order1\n",
        "values (1,'2024-01-01',1),\n",
        "(2,'2024-01-03',2);\n",
        "select*FROM ORDER1;\n",
        "insert into customer values\n",
        "(101,\"Alice\"),\n",
        "(102,\"Bob\");\n",
        "insert into ORDER_DETAILS values\n",
        "(1,101,2),\n",
        "(1,102,1),\n",
        "(2,101,3);\n",
        "\n",
        "select order1,order_id,customer.customer_name,ORDER_DETAILS.quantity\n",
        "from ORDER_DETAILS\n",
        "inner join customer\n",
        "on order1.customer_id=customer.customer_id\n",
        "inner join order1\n",
        "on order1.order_id=ORDER_DETAILS.ORDER_ID;\n",
        "SELECT order1.order_id,customer.customer_name, SUM(ORDER_DETAILS.quantity) AS total_quantity\n",
        "FROM order1 o\n",
        "INNER JOIN customer c ON o.customer_id = c.customer_id\n",
        "INNER JOIN ORDER_DETAILS od ON o.order_id = od.order_id\n",
        "GROUP BY o.order_id, c.customer_name;"
      ]
    },
    {
      "cell_type": "markdown",
      "metadata": {
        "id": "-mjwf6b-hGwY"
      },
      "source": [
        "**SQL Commands**\n"
      ]
    },
    {
      "cell_type": "markdown",
      "metadata": {
        "id": "UZ1XVUlHhJLi"
      },
      "source": [
        " ques 1 -Identify the primary keys and foreign keys in maven movies db. Discuss the differences.\n",
        "\n",
        "\n",
        "  A primary key is a unique identifier for a record in a table. It ensures that each row in a table can be uniquely identified.\n",
        "\n",
        "  A foreign key is a field (or collection of fields) in one table that uniquely identifies a row of another table. The foreign key is used to establish and enforce a link between the data in two tables"
      ]
    }
  ],
  "metadata": {
    "colab": {
      "provenance": []
    },
    "kernelspec": {
      "display_name": "Python 3",
      "name": "python3"
    },
    "language_info": {
      "name": "python"
    }
  },
  "nbformat": 4,
  "nbformat_minor": 0
}
