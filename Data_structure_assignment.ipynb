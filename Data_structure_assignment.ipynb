{
  "nbformat": 4,
  "nbformat_minor": 0,
  "metadata": {
    "colab": {
      "provenance": []
    },
    "kernelspec": {
      "name": "python3",
      "display_name": "Python 3"
    },
    "language_info": {
      "name": "python"
    }
  },
  "cells": [
    {
      "cell_type": "markdown",
      "source": [
        "1. **What are data structures, and why are they important?**\n",
        "\n",
        "- Data structure are the way of storing and arranging data so and such that it can be accesed and manipulated  efficiently\n"
      ],
      "metadata": {
        "id": "jJVl_bzm2mhM"
      }
    },
    {
      "cell_type": "markdown",
      "source": [
        " 2. **Explain the difference between mutable and immutable data types with examples.**\n",
        "\n",
        "- mutable datatypes can be changed after creation eg. list, set, dict\n",
        "\n",
        "example: list1 = [1,2,3,4] list1[0]=6\n",
        "  ,the zeroth index will be replaced by 6\n",
        "\n",
        "immutable datatypes cannot be changed after creation eg. tuple,string\n",
        "example: tuple1 = (1,2,3,4)\n",
        "         tuple1[0]=6, it will throw an error"
      ],
      "metadata": {
        "id": "2vUsIpkA3YpK"
      }
    },
    {
      "cell_type": "markdown",
      "source": [
        "3. **What are the main differences between lists and tuples in Python?**\n",
        "\n",
        "- Lists: Mutable, the data once entered can me changed, As well as extended and concatination of two list can be done.it is slower and uses more memory. it is ideal for dynamic data  \n",
        "\n",
        "- Tuples: Immutable, the data once stored cannot be changed. We can combine the tuples. It is faster and uses less memory. it is good for fixed data\n"
      ],
      "metadata": {
        "id": "fol0--9M6BZ2"
      }
    },
    {
      "cell_type": "markdown",
      "source": [
        "4.  **Describe how dictionaries store data?**\n",
        "\n",
        "- Dictionaries store data in form of (key:value) pair, where key represent the index in which the value is stored\n",
        "for eg; d = {name:\"Aditya\" gmail;\"joshiadi@gmail.com\"}\n",
        "\n",
        "where name and gmail are key and \"Aditya\" , \"joshiadi@gmail.com\" are values stored in repective keys."
      ],
      "metadata": {
        "id": "OimFddzHMCea"
      }
    },
    {
      "cell_type": "markdown",
      "source": [
        "5. **Why might you use a set instead of a list in Python?**\n",
        "\n",
        "- Sets are unordered collections of unique elements. Use cases:\n",
        "\n",
        "To eliminate duplicates automatically.\n",
        "s = {1, 2, 2, 3}  # Result: {1, 2, 3}\n",
        "\n",
        "For faster membership testing (in operator) compared to lists.\n",
        "Example: Checking if an element exists is O(1) in sets vs. O(n) in lists."
      ],
      "metadata": {
        "id": "xZnQ3Bf4b1aw"
      }
    },
    {
      "cell_type": "markdown",
      "source": [
        "6. **What is a string in Python, and how is it different from a list?**\n",
        "\n",
        "- A string is sequence of characters used to represnt textual data,they are immutable, while a list is a mutable sequence of elements (which can be of different data types).\n",
        "s = \"hello\"\n",
        "s[0] = \"H\" # it will throw an error\n",
        "\n",
        "l = [\"h\", \"e\", \"l\", \"l\", \"o\"]\n",
        "l[0] = \"H\" # works(list are mutable)\n"
      ],
      "metadata": {
        "id": "0aYYj2Snfcg6"
      }
    },
    {
      "cell_type": "markdown",
      "source": [
        "7. **How do tuples ensure data integrity in Python?**\n",
        "\n",
        "- Tuples are ordered collection of elements and are immutable once assigned cannot be changed. This ensures the data remains consistent and prevents changes"
      ],
      "metadata": {
        "id": "hfSW1WK6hrYq"
      }
    },
    {
      "cell_type": "markdown",
      "source": [
        "8. **What is a hash table, and how does it relate to dictionaries in Python?**\n",
        "\n",
        "- A hash table is a data structure that maps keys to values using a hash function.\n",
        "\n",
        "- A dictionary stores key-value pairs, where keys are hashed using Python built-in hash function to determine their storage location\n",
        "\n",
        "Example:\n",
        "\n",
        "d = {\"name\": \"Aditya\", \"age\": 25}\n",
        "\n",
        "\n",
        "The key \"name\" is hashed to find its storage index.\n",
        "The value \"Aditya\" is stored at that index.\n"
      ],
      "metadata": {
        "id": "E4i8dcDMjmRY"
      }
    },
    {
      "cell_type": "markdown",
      "source": [
        "9. **Can lists contain different data types in Python?**\n",
        "\n",
        "- Yes, lists in Python can store elements of varying data types, including other lists or complex objects.\n",
        "Example:\n",
        "\n",
        "l = [1, \"hello\", 3.14, [4, 5]]"
      ],
      "metadata": {
        "id": "j2ciMMhv9nea"
      }
    },
    {
      "cell_type": "markdown",
      "source": [
        "10. **Explain why strings are immutable in Python?**\n",
        "\n",
        "- Immutable strings allow reuse in memory\n",
        "Example\n",
        "\n",
        "s1 = \"hello\"\n",
        "\n",
        "s2 = \"hello\"\n",
        ">Both s1 and s2 point to the same memory location"
      ],
      "metadata": {
        "id": "kTAse2IbAU2Z"
      }
    },
    {
      "cell_type": "markdown",
      "source": [
        "11. **What advantages do dictionaries offer over lists for certain tasks?**\n",
        "\n",
        "- Fast access to values by unique keys.\n",
        "Example:\n",
        "\n",
        "d = {\"name\": \"Aditya\", \"age\": 21}\n",
        "\n",
        "print(my_dict[\"name\"])  # Output: \"Aditya\"\n"
      ],
      "metadata": {
        "id": "207debauArUi"
      }
    },
    {
      "cell_type": "markdown",
      "source": [
        "12. **Describe a scenario where using a tuple would be preferable over a list**\n",
        "\n",
        "- Tuples are better for fixed or constant data where immutability is desired, such as GPS coordinates (40.7128, -74.0060) or dates.\n"
      ],
      "metadata": {
        "id": "JUFXRMypB2ev"
      }
    },
    {
      "cell_type": "markdown",
      "source": [
        "13. **How do sets handle duplicate values in Python?**\n",
        "\n",
        "- Sets automatically remove duplicate values when they are added.\n",
        "Example:\n",
        "\n",
        "\n",
        "s = {1, 2, 2, 3}\n",
        "\n",
        "print(my_set)    # Output: {1, 2, 3}\n"
      ],
      "metadata": {
        "id": "0jiyrZZYCKZm"
      }
    },
    {
      "cell_type": "markdown",
      "source": [
        "14. **How does the “in” keyword work differently for lists and dictionaries?**\n",
        "- Lists: Checks for existence of a value\n",
        "\n",
        "print(3 in [1, 2, 3])  # Output: True\n",
        "\n",
        "- Dictionaries: Checks for existence of a key\n",
        "\n",
        "print(\"name\" in {\"name\": \"aditya\"})  # Output: True\n"
      ],
      "metadata": {
        "id": "KxqEspJ2E_lF"
      }
    },
    {
      "cell_type": "markdown",
      "source": [
        "15. **Can you modify the elements of a tuple? Explain why or why not**\n",
        "\n",
        "- No, since tuples are immutable. we cannot add, remove, or modify elements after creation. This immutability ensures data consistency\n",
        "\n"
      ],
      "metadata": {
        "id": "TJsLmHGaFwv6"
      }
    },
    {
      "cell_type": "markdown",
      "source": [
        "16. **What is a nested dictionary, and give an example of its use case?**\n",
        "\n",
        "- A nested dictionary is a dictionary within another dictionary\n",
        "Example:\n",
        "\n",
        "company = {\n",
        "    \"HR\": {\"Manager\": \"aman\", \"Employees\": 10},\n",
        "    \"IT\": {\"Manager\": \"soham\", \"Employees\": 20},\n",
        "}\n",
        "\n",
        "Use case: Representing departments in a company.\n",
        "\n"
      ],
      "metadata": {
        "id": "h95_NS5vGgtJ"
      }
    },
    {
      "cell_type": "markdown",
      "source": [
        "17.  **Describe the time complexity of accessing elements in a dictionary**\n",
        "\n",
        "- The average time complexity is O(1) for lookups, thanks to hash tables. In the worst case (e.g., hash collisions), it can degrade to O(n)\n",
        "\n"
      ],
      "metadata": {
        "id": "cxoe3_HKHlW_"
      }
    },
    {
      "cell_type": "markdown",
      "source": [
        "18.** In what situations are lists preferred over dictionaries?**\n",
        "\n",
        "- **When Order Matters**\n",
        "\n",
        "Lists maintain the order of elements, allowing for sequential access and operations.\n",
        "\n",
        "Use Case: Tracking a sequence of events, like timestamps or steps in a process.\n",
        "\n",
        "l = [\"Step1\", \"Step2\", \"Step3\"]\n",
        "\n",
        " - **When Duplicates Are Allowed**\n",
        "\n",
        "Lists allow duplicate values, while dictionaries do not allow duplicate keys.\n",
        "\n",
        "Use Case: Recording votes, where multiple votes for the same option are valid.\n",
        "\n",
        "votes = [\"A\", \"B\", \"A\", \"C\"]\n",
        "\n",
        "- **When Key-Value Pairing Isn’t Needed**\n",
        "\n",
        "If the data does not require an association between keys and values, lists are simpler and more straightforward.\n",
        "\n",
        "Use Case: Storing a group of items like student names.\n",
        "\n",
        "students = [\"John\", \"Alice\", \"Bob\"]"
      ],
      "metadata": {
        "id": "zzXOqIlHKRdZ"
      }
    },
    {
      "cell_type": "markdown",
      "source": [
        "19. **Why are dictionaries considered unordered, and how does that affect data retrieval?**\n",
        "\n",
        "- Dictionaries used to be unordered, but since Python 3.7, they maintain insertion order. However, retrieval is still based on keys, not order."
      ],
      "metadata": {
        "id": "gK98k1W_MqYJ"
      }
    },
    {
      "cell_type": "markdown",
      "source": [
        "20. **Explain the difference between a list and a dictionary in terms of data retrieval.**\n",
        "\n",
        "- List: Access elements by index\n",
        "Example:\n",
        "\n",
        "l = [10, 20, 30]\n",
        "\n",
        "print(l[1])  # Output: 20\n",
        "\n",
        "- Dictionary: Access elements by unique keys\n",
        "Example:\n",
        "\n",
        "d = {\"a\": 10, \"b\": 20}\n",
        "\n",
        "print(d[\"b\"])  # Output: 20"
      ],
      "metadata": {
        "id": "s03dEWyXNicA"
      }
    },
    {
      "cell_type": "markdown",
      "source": [
        "# **Practical Questions**"
      ],
      "metadata": {
        "id": "gYk8EAQLP5oN"
      }
    },
    {
      "cell_type": "code",
      "source": [
        "#1. Write a code to create a string with your name and print it\n",
        "\n",
        "A = \"Aditya\"\n",
        "print(A)"
      ],
      "metadata": {
        "colab": {
          "base_uri": "https://localhost:8080/"
        },
        "id": "K3DexQyzQB4q",
        "outputId": "3f844c85-c019-49ed-f2ba-c8d83094b448"
      },
      "execution_count": null,
      "outputs": [
        {
          "output_type": "stream",
          "name": "stdout",
          "text": [
            "Aditya\n"
          ]
        }
      ]
    },
    {
      "cell_type": "code",
      "source": [
        "# Write a code to find the length of the string \"Hello World\"\n",
        "W= \"Hello World\"\n",
        "len(W)"
      ],
      "metadata": {
        "colab": {
          "base_uri": "https://localhost:8080/"
        },
        "id": "S_rcyYPkQVI1",
        "outputId": "ee9be53e-a35d-4ce8-b485-b64439d83758"
      },
      "execution_count": null,
      "outputs": [
        {
          "output_type": "execute_result",
          "data": {
            "text/plain": [
              "11"
            ]
          },
          "metadata": {},
          "execution_count": 3
        }
      ]
    },
    {
      "cell_type": "code",
      "source": [
        "from os import remove\n",
        "# Write a code to slice the first 3 characters from the string \"Python Programming\"\n",
        "S=\"Python Programming\"\n",
        "remove = S[3:]\n",
        "print(remove)"
      ],
      "metadata": {
        "colab": {
          "base_uri": "https://localhost:8080/"
        },
        "id": "gBw7v7t-Qi-0",
        "outputId": "e7c9ebe3-1fbb-4cf4-8f27-09bb22b646f9"
      },
      "execution_count": null,
      "outputs": [
        {
          "output_type": "stream",
          "name": "stdout",
          "text": [
            "hon Programming\n"
          ]
        }
      ]
    },
    {
      "cell_type": "code",
      "source": [
        "# Write a code to convert the string \"hello\" to uppercase\n",
        "s=\"hello\"\n",
        "uppercase= s.upper()\n",
        "print(uppercase)"
      ],
      "metadata": {
        "colab": {
          "base_uri": "https://localhost:8080/"
        },
        "id": "g2YLezPWR1Fr",
        "outputId": "4ddf48b5-90b5-4038-ab22-24d3e235552a"
      },
      "execution_count": null,
      "outputs": [
        {
          "output_type": "stream",
          "name": "stdout",
          "text": [
            "HELLO\n"
          ]
        }
      ]
    },
    {
      "cell_type": "code",
      "source": [
        "#Write a code to replace the word \"apple\" with \"orange\" in the string \"I like apple\"\n",
        "a=\"I like apple\"\n",
        "b=a.replace(\"apple\",\"orange\")\n",
        "print(b)\n"
      ],
      "metadata": {
        "colab": {
          "base_uri": "https://localhost:8080/"
        },
        "id": "uBBUSgOMSeE2",
        "outputId": "f089bfd3-c030-4b3a-fa56-5f85a8c144b6"
      },
      "execution_count": null,
      "outputs": [
        {
          "output_type": "stream",
          "name": "stdout",
          "text": [
            "I like orange\n"
          ]
        }
      ]
    },
    {
      "cell_type": "code",
      "source": [
        "#6 Write a code to create a list with numbers 1 to 5 and print it\n",
        "l=[1,2,3,4,5]\n",
        "print(l)"
      ],
      "metadata": {
        "colab": {
          "base_uri": "https://localhost:8080/"
        },
        "id": "52xGtnh3S3-I",
        "outputId": "35bd1e2a-f42a-4ed7-c055-8206aabd3f66"
      },
      "execution_count": null,
      "outputs": [
        {
          "output_type": "stream",
          "name": "stdout",
          "text": [
            "[1, 2, 3, 4, 5]\n"
          ]
        }
      ]
    },
    {
      "cell_type": "code",
      "source": [
        "#Write a code to append the number 10 to the list [1, 2, 3, 4]\n",
        "l=[1,2,3,4]\n",
        "l.append(10)\n",
        "print(l)\n"
      ],
      "metadata": {
        "colab": {
          "base_uri": "https://localhost:8080/"
        },
        "id": "aoA0QPCHTBfe",
        "outputId": "77b6cb43-fa21-4636-e721-2b7146ee7b68"
      },
      "execution_count": null,
      "outputs": [
        {
          "output_type": "stream",
          "name": "stdout",
          "text": [
            "[1, 2, 3, 4, 10]\n"
          ]
        }
      ]
    },
    {
      "cell_type": "code",
      "source": [
        "#Write a code to remove the number 3 from the list [1, 2, 3, 4, 5]\n",
        "l=[1,2,3,4,5]\n",
        "l.remove(3)\n",
        "print(l)"
      ],
      "metadata": {
        "colab": {
          "base_uri": "https://localhost:8080/"
        },
        "id": "ZAHAsRg5Kag2",
        "outputId": "10488181-f681-4c72-9ecf-6ebefb38803a"
      },
      "execution_count": null,
      "outputs": [
        {
          "output_type": "stream",
          "name": "stdout",
          "text": [
            "[1, 2, 4, 5]\n"
          ]
        }
      ]
    },
    {
      "cell_type": "code",
      "source": [
        "#Write a code to access the second element in the list ['a', 'b', 'c', 'd']\n",
        "l= ['a', 'b', 'c', 'd']\n",
        "print(l[1])"
      ],
      "metadata": {
        "colab": {
          "base_uri": "https://localhost:8080/"
        },
        "id": "QV4m-hpDKiYt",
        "outputId": "2b454b84-6776-4409-e794-eda7cb98d5e2"
      },
      "execution_count": null,
      "outputs": [
        {
          "output_type": "stream",
          "name": "stdout",
          "text": [
            "b\n"
          ]
        }
      ]
    },
    {
      "cell_type": "code",
      "source": [
        "#Write a code to reverse the list [10, 20, 30, 40, 50].\n",
        "l= [10, 20, 30, 40, 50]\n",
        "l.reverse()\n",
        "print(l)"
      ],
      "metadata": {
        "colab": {
          "base_uri": "https://localhost:8080/"
        },
        "id": "9QGTTxL2K4tX",
        "outputId": "971ca843-81e9-4d36-c0b1-3836b5520856"
      },
      "execution_count": null,
      "outputs": [
        {
          "output_type": "stream",
          "name": "stdout",
          "text": [
            "[50, 40, 30, 20, 10]\n"
          ]
        }
      ]
    },
    {
      "cell_type": "code",
      "source": [
        "#Write a code to create a tuple with the elements 10, 20, 30 and print it\n",
        "t = (10, 20, 30)\n",
        "print(t)\n"
      ],
      "metadata": {
        "colab": {
          "base_uri": "https://localhost:8080/"
        },
        "id": "CGGOzIIjMG1Z",
        "outputId": "4129a906-2812-4ae9-9203-466eeec6006b"
      },
      "execution_count": null,
      "outputs": [
        {
          "output_type": "stream",
          "name": "stdout",
          "text": [
            "(10, 20, 30)\n"
          ]
        }
      ]
    },
    {
      "cell_type": "code",
      "source": [
        "# Write a code to access the first element of the tuple ('apple', 'banana', 'cherry')\\\n",
        "t=('apple', 'banana', 'cherry')\n",
        "print(t[0])\n"
      ],
      "metadata": {
        "colab": {
          "base_uri": "https://localhost:8080/"
        },
        "id": "sg-DfGngMap7",
        "outputId": "acbf7830-a1de-46f9-98e8-d5958bcbc620"
      },
      "execution_count": null,
      "outputs": [
        {
          "output_type": "stream",
          "name": "stdout",
          "text": [
            "apple\n"
          ]
        }
      ]
    },
    {
      "cell_type": "code",
      "source": [
        "# Write a code to count how many times the number 2 appears in the tuple (1, 2, 3, 2, 4, 2).\n",
        "t=(1, 2, 3, 2, 4, 2)\n",
        "t.count(2)"
      ],
      "metadata": {
        "colab": {
          "base_uri": "https://localhost:8080/"
        },
        "id": "D_BC3urTMkuk",
        "outputId": "09af1283-46ed-489d-d6a5-48da3d8f5fbd"
      },
      "execution_count": null,
      "outputs": [
        {
          "output_type": "execute_result",
          "data": {
            "text/plain": [
              "3"
            ]
          },
          "metadata": {},
          "execution_count": 9
        }
      ]
    },
    {
      "cell_type": "code",
      "source": [
        "#Write a code to find the index of the element \"cat\" in the tuple ('dog', 'cat', 'rabbit').\n",
        "t=('dog', 'cat', 'rabbit')\n",
        "t.index('cat')"
      ],
      "metadata": {
        "colab": {
          "base_uri": "https://localhost:8080/"
        },
        "id": "MX8w8WmxM7OW",
        "outputId": "b1cafe28-f301-4edf-dbfe-46d61ddf7a94"
      },
      "execution_count": null,
      "outputs": [
        {
          "output_type": "execute_result",
          "data": {
            "text/plain": [
              "1"
            ]
          },
          "metadata": {},
          "execution_count": 10
        }
      ]
    },
    {
      "cell_type": "code",
      "source": [
        "# Write a code to check if the element \"banana\" is in the tuple ('apple', 'orange', 'banana').\n",
        "t=('apple', 'orange', 'banana')\n",
        "'banana' in t"
      ],
      "metadata": {
        "colab": {
          "base_uri": "https://localhost:8080/"
        },
        "id": "qG11teGPNHTv",
        "outputId": "3d3d358e-0fac-4bfe-d5c0-461e2e147b64"
      },
      "execution_count": null,
      "outputs": [
        {
          "output_type": "execute_result",
          "data": {
            "text/plain": [
              "True"
            ]
          },
          "metadata": {},
          "execution_count": 18
        }
      ]
    },
    {
      "cell_type": "code",
      "source": [
        "# Write a code to create a set with the elements 1, 2, 3, 4, 5 and print it.\n",
        "s={1, 2, 3, 4, 5}\n",
        "print(s)"
      ],
      "metadata": {
        "colab": {
          "base_uri": "https://localhost:8080/"
        },
        "id": "uZxD1jWHNTVb",
        "outputId": "fa965027-536d-480e-dd3f-65fac537a9a3"
      },
      "execution_count": null,
      "outputs": [
        {
          "output_type": "stream",
          "name": "stdout",
          "text": [
            "{1, 2, 3, 4, 5}\n"
          ]
        }
      ]
    },
    {
      "cell_type": "code",
      "source": [
        "# Write a code to add the element 6 to the set {1, 2, 3, 4}.\n",
        "s={1, 2, 3, 4}\n",
        "s.add(6)\n",
        "print(s)"
      ],
      "metadata": {
        "colab": {
          "base_uri": "https://localhost:8080/"
        },
        "id": "NeZ-F07kNfhc",
        "outputId": "6786612a-81d0-4392-9f1f-0d4f9cedc7a7"
      },
      "execution_count": null,
      "outputs": [
        {
          "output_type": "stream",
          "name": "stdout",
          "text": [
            "{1, 2, 3, 4, 6}\n"
          ]
        }
      ]
    },
    {
      "cell_type": "code",
      "source": [
        "# Write a code to create a tuple with the elements 10, 20, 30 and print it.\n",
        "t=(10, 20, 30)\n",
        "print(t)"
      ],
      "metadata": {
        "colab": {
          "base_uri": "https://localhost:8080/"
        },
        "id": "_NjdByR3NxNt",
        "outputId": "22ba4ed2-90fa-40bf-a533-6e40f013ee8b"
      },
      "execution_count": null,
      "outputs": [
        {
          "output_type": "stream",
          "name": "stdout",
          "text": [
            "(10, 20, 30)\n"
          ]
        }
      ]
    },
    {
      "cell_type": "code",
      "source": [
        "#  Write a code to access the first element of the tuple ('apple', 'banana', 'cherry').\n",
        "t=('apple', 'banana', 'cherry')\n",
        "print(t[0])"
      ],
      "metadata": {
        "colab": {
          "base_uri": "https://localhost:8080/"
        },
        "id": "JVJsPq97N9DO",
        "outputId": "8b44e36f-0b6f-43a8-ffe9-f5183cd21a31"
      },
      "execution_count": null,
      "outputs": [
        {
          "output_type": "stream",
          "name": "stdout",
          "text": [
            "apple\n"
          ]
        }
      ]
    },
    {
      "cell_type": "code",
      "source": [
        "#Write a code to count how many times the number 2 appears in the tuple (1, 2, 3, 2, 4, 2).\n",
        "t=(1, 2, 3, 2, 4, 2)\n",
        "t.count(2)"
      ],
      "metadata": {
        "colab": {
          "base_uri": "https://localhost:8080/"
        },
        "id": "lp5WDiwmOJmg",
        "outputId": "b8d5771c-1325-42b0-9bd9-6662436044b8"
      },
      "execution_count": null,
      "outputs": [
        {
          "output_type": "execute_result",
          "data": {
            "text/plain": [
              "3"
            ]
          },
          "metadata": {},
          "execution_count": 15
        }
      ]
    },
    {
      "cell_type": "code",
      "source": [
        " #Write a code to find the index of the element \"cat\" in the tuple ('dog', 'cat', 'rabbit').\n",
        "t = ('dog', 'cat', 'rabbit')\n",
        "t.index('cat')\n"
      ],
      "metadata": {
        "colab": {
          "base_uri": "https://localhost:8080/"
        },
        "id": "tnb2hNiyOxke",
        "outputId": "3cd2a5f3-b66b-4e0a-d6a7-6fad1b5cd1f7"
      },
      "execution_count": null,
      "outputs": [
        {
          "output_type": "execute_result",
          "data": {
            "text/plain": [
              "1"
            ]
          },
          "metadata": {},
          "execution_count": 16
        }
      ]
    },
    {
      "cell_type": "code",
      "source": [
        "# Write a code to check if the element \"banana\" is in the tuple ('apple', 'orange', 'banana').\n",
        "t=('apple', 'orange', 'banana')\n",
        "'banana' in t"
      ],
      "metadata": {
        "colab": {
          "base_uri": "https://localhost:8080/"
        },
        "id": "5lEUWuA3O_tC",
        "outputId": "27419fea-691a-42b2-e50e-e8f073707fc2"
      },
      "execution_count": null,
      "outputs": [
        {
          "output_type": "execute_result",
          "data": {
            "text/plain": [
              "True"
            ]
          },
          "metadata": {},
          "execution_count": 17
        }
      ]
    },
    {
      "cell_type": "code",
      "source": [
        "#Write a code to create a set with the elements 1, 2, 3, 4, 5 and print it.\n",
        "s={1, 2, 3, 4, 5}\n",
        "print(s)"
      ],
      "metadata": {
        "colab": {
          "base_uri": "https://localhost:8080/"
        },
        "id": "gj6iaCf-POq0",
        "outputId": "0880121d-2e3b-4606-ef73-12b7e3d7a047"
      },
      "execution_count": null,
      "outputs": [
        {
          "output_type": "stream",
          "name": "stdout",
          "text": [
            "{1, 2, 3, 4, 5}\n"
          ]
        }
      ]
    },
    {
      "cell_type": "code",
      "source": [
        "# Write a code to add the element 6 to the set {1, 2, 3, 4}.\n",
        "s={1, 2, 3, 4}\n",
        "s.add(6)\n",
        "print(s)"
      ],
      "metadata": {
        "colab": {
          "base_uri": "https://localhost:8080/"
        },
        "id": "_QYPoORePgxT",
        "outputId": "9132ced4-19e8-43cf-a009-7a318f2a2370"
      },
      "execution_count": null,
      "outputs": [
        {
          "output_type": "stream",
          "name": "stdout",
          "text": [
            "{1, 2, 3, 4, 6}\n"
          ]
        }
      ]
    }
  ]
}