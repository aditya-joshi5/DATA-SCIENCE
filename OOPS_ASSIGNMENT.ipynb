{
  "nbformat": 4,
  "nbformat_minor": 0,
  "metadata": {
    "colab": {
      "provenance": []
    },
    "kernelspec": {
      "name": "python3",
      "display_name": "Python 3"
    },
    "language_info": {
      "name": "python"
    }
  },
  "cells": [
    {
      "cell_type": "markdown",
      "source": [
        "1. What is Object-Oriented Programming (OOP)?\n",
        "\n",
        "Object-Oriented Programming (OOP) is a programming paradigm based on the concept of \"objects,\" which contain both data (attributes) and methods (functions). OOP allows for modular, reusable, and maintainable code using principles like encapsulation, inheritance, and polymorphism.\n",
        "\n",
        "2. What is a class in OOP?\n",
        "\n",
        "A class is a blueprint or template for creating objects. It defines attributes (variables) and methods (functions) that describe the behavior of an object.\n",
        "\n",
        "3. What is an object in OOP?\n",
        "\n",
        "An object is an instance of a class. It represents a specific entity with defined attributes and behaviors as per the class definition.\n",
        "\n",
        "4. What is the difference between abstraction and encapsulation?\n",
        "\n",
        "Abstraction is the concept of hiding unnecessary details and showing only the relevant features.\n",
        "\n",
        "Encapsulation is the process of bundling data and methods within a class while restricting direct access to some details.\n",
        "\n",
        "5. What are dunder methods in Python?\n",
        "\n",
        "Dunder (double underscore) methods, also called magic methods, are special methods in Python that start and end with double underscores. Examples include __init__ (constructor), __str__ (string representation), and __call__ (making an object callable).\n",
        "\n",
        "6. Explain the concept of inheritance in OOP.\n",
        "\n",
        "Inheritance allows a class (child) to inherit attributes and methods from another class (parent), promoting code reusability and hierarchy representation.\n",
        "\n",
        "7.  What is polymorphism in OOP?\n",
        "\n",
        "Polymorphism allows objects of different classes to be treated as objects of a common superclass. It enables methods to have different implementations based on the object calling them.\n",
        "\n",
        "8. How is encapsulation achieved in Python?\n",
        "\n",
        "Encapsulation is achieved using access modifiers:\n",
        "\n",
        "Public: Accessible everywhere (e.g., self.var)\n",
        "\n",
        "Protected: Accessible within the class and subclasses (e.g., self._var)\n",
        "\n",
        "Private: Accessible only within the class (e.g., self.__var)\n",
        "9. What is a constructor in Python?\n",
        "\n",
        "A constructor is a special method (__init__) in a class that initializes object attributes when an instance is created.\n",
        "\n",
        "10.  What are class and static methods in Python?\n",
        "\n",
        "Class Method (@classmethod): Operates on the class level and takes cls as its first parameter.\n",
        "\n",
        "Static Method (@staticmethod): A method that does not access class or instance attributes.\n",
        "\n",
        "11. What is method overloading in Python?\n",
        "\n",
        "Python does not support traditional method overloading (same method name, different parameters). However, it can be simulated using default arguments or *args and **kwargs.\n",
        "\n",
        "12. What is method overriding in OOP?\n",
        "\n",
        "Method overriding occurs when a child class provides a specific implementation of a method already defined in its parent class.\n",
        "\n",
        "13. What is a property decorator in Python?\n",
        "The @property decorator is used to define getter, setter, and deleter methods, allowing attribute access control in an elegant way.\n",
        "\n",
        "14. Why is polymorphism important in OOP?\n",
        "Polymorphism allows a unified interface for different types, increasing flexibility, scalability, and maintainability in code.\n",
        "\n",
        "15. What is an abstract class in Python?\n",
        "\n",
        "An abstract class is a class that cannot be instantiated and must have at least one abstract method. It is created using the ABC module and @abstractmethod decorator.\n",
        "\n",
        "16. What are the advantages of OOP?\n",
        "\n",
        "Code reusability via inheritance\n",
        "Encapsulation for data protection\n",
        "Polymorphism for flexible and scalable design\n",
        "Abstraction for improved modularity\n",
        "17. What is the difference between a class variable and an instance variable?\n",
        "\n",
        "Class Variable: Shared across all instances of a class.\n",
        "Instance Variable: Unique to each instance of a class.\n",
        "\n",
        "18. What is multiple inheritance in Python?\n",
        "\n",
        "Multiple inheritance allows a class to inherit from more than one parent class.\n",
        "\n",
        "19. Explain the purpose of __str__ and __repr__ methods in Python.\n",
        "\n",
        "__str__: Returns a human-readable string representation of an object.\n",
        "\n",
        "__repr__: Returns an unambiguous string (useful for debugging).\n",
        "20. What is the significance of the super() function in Python?\n",
        "The super() function allows a child class to call methods of its parent class, enabling method overriding and multiple inheritance handling.\n",
        "\n",
        "21. What is the significance of the __del__ method in Python?\n",
        "\n",
        "The __del__ method is a destructor that is automatically called when an object is deleted or goes out of scope.\n",
        "\n",
        "22. What is the difference between @staticmethod and @classmethod in Python?\n",
        "\n",
        "@staticmethod: Does not require access to the class or instance.\n",
        "@classmethod: Operates on the class and takes cls as an argument.\n",
        "23. How does polymorphism work in Python with inheritance?\n",
        "Polymorphism in Python is achieved through method overriding, allowing a child class to provide a different implementation of a method inherited from a parent class.\n",
        "\n",
        "24. What is method chaining in Python OOP?\n",
        "\n",
        "Method chaining allows multiple methods to be called in a single statement by returning self from each method.\n",
        "\n",
        "25. What is the purpose of the __call__ method in Python?\n",
        "\n",
        "The __call__ method allows an instance of a class to be called as a function."
      ],
      "metadata": {
        "id": "UJEOxoTNj0yi"
      }
    },
    {
      "cell_type": "code",
      "source": [
        "#1. Create a parent class Animal with a method speak() that prints a generic message. Create a child class Dog\n",
        "# that overrides the speak() method to print \"Bark!\".\n",
        "class animal:\n",
        "  def speak():\n",
        "    print(\"animal voice\")\n",
        "class dog(animal):\n",
        "  def speak():\n",
        "    print(\"bark!\")\n",
        "dog1= dog\n",
        "dog1.speak()"
      ],
      "metadata": {
        "colab": {
          "base_uri": "https://localhost:8080/"
        },
        "id": "4eWS4sUAF6pp",
        "outputId": "89e78c27-0b61-422f-938d-e4f397442792"
      },
      "execution_count": 7,
      "outputs": [
        {
          "output_type": "stream",
          "name": "stdout",
          "text": [
            "bark!\n"
          ]
        }
      ]
    },
    {
      "cell_type": "code",
      "source": [
        "#2. Write a program to create an abstract class Shape with a method area(). Derive classes Circle and Rectangle\n",
        "# from it and implement the area() method in both\n",
        "from abc import ABC, abstractmethod\n",
        "import math\n",
        "class shape(ABC):\n",
        "  @abstractmethod\n",
        "  def area(self):\n",
        "    pass\n",
        "\n",
        "class circle(shape):\n",
        "  def __init__(self,radius):\n",
        "     self.radius=radius\n",
        "  def area(self):\n",
        "    return math.pi*self.radius**2\n",
        "\n",
        "class rectangle(shape):\n",
        "  def __init__(self,length,bredth):\n",
        "     self.length=length\n",
        "     self.bredth=bredth\n",
        "  def area(self):\n",
        "    return self.length*self.bredth\n",
        "c1=circle(7)\n",
        "r1=rectangle(6,4)\n",
        "print(\"area of circle = \",c1.area())\n",
        "print(\"area of rectangele= \", r1.area())"
      ],
      "metadata": {
        "colab": {
          "base_uri": "https://localhost:8080/"
        },
        "id": "LU7d8TTcHHNM",
        "outputId": "6fcc09db-86d7-4023-9df0-d7beb6cbd21f"
      },
      "execution_count": 17,
      "outputs": [
        {
          "output_type": "stream",
          "name": "stdout",
          "text": [
            "area of circle =  153.93804002589985\n",
            "area of rectangele=  24\n"
          ]
        }
      ]
    },
    {
      "cell_type": "code",
      "source": [
        "#3. Implement a multi-level inheritance scenario where a class Vehicle has an attribute type. Derive a class Car\n",
        "# and further derive a class ElectricCar that adds a battery attribute.\n",
        "class vehicle:\n",
        "    def __init__(self,type):\n",
        "      self.type=type\n",
        "\n",
        "class car(vehicle):\n",
        "    def __init__(self, doros):\n",
        "      super().__init__(type)\n",
        "      self.doors=doors\n",
        "\n",
        "class electricCar(car):\n",
        "    def __init__(self,battery):\n",
        "      super().__init__(self,type,doors)\n",
        "      self.battery= battery\n",
        "\n"
      ],
      "metadata": {
        "id": "k4GWnbziPPnM"
      },
      "execution_count": 18,
      "outputs": []
    },
    {
      "cell_type": "code",
      "source": [
        "#4. Implement a multi-level inheritance scenario where a class Vehicle has an attribute type. Derive a class Car\n",
        "# and further derive a class ElectricCar that adds a battery attribute.\n",
        "class vehicle:\n",
        "  def __init__(self,type):\n",
        "    self.type=type\n",
        "\n",
        "class car(vehicle):\n",
        "  def __init__(self, doros):\n",
        "    super().__init__(type)\n",
        "    self.doors=doors\n",
        "\n",
        "class electricCar(car):\n",
        "  def __init__(self,battery):\n",
        "    super().__init__(self,type,doors)\n",
        "    self.battery= battery\n"
      ],
      "metadata": {
        "id": "n0F0mei0XSaF"
      },
      "execution_count": null,
      "outputs": []
    },
    {
      "cell_type": "code",
      "source": [
        "#5. Write a program to demonstrate encapsulation by creating a class BankAccount with private attributes\n",
        "# balance and methods to deposit, withdraw, and check balance.\n",
        "class BankAccount:\n",
        "    def __init__(self, initial_balance=0):\n",
        "        self.__balance = initial_balance  # Private attribute\n",
        "\n",
        "    def deposit(self, amount):\n",
        "        if amount > 0:\n",
        "            self.__balance += amount\n",
        "            print(f\"Deposited: ${amount}, Total Amount Available: ${self.__balance:.2f}\")\n",
        "        else:\n",
        "            print(\"Invalid deposit amount.\")\n",
        "\n",
        "    def withdraw(self, amount):\n",
        "        if amount > 0 and amount <= self.__balance:\n",
        "            self.__balance -= amount\n",
        "            print(f\"Withdrawn: ${amount:.2f}\")\n",
        "        else:\n",
        "            print(\"Invalid withdrawal amount or insufficient balance.\")\n",
        "\n",
        "    def check_balance(self):\n",
        "        print(f\"Current balance: ${self.__balance:.2f}\")\n",
        "\n",
        "\n",
        "account = BankAccount(1000)\n",
        "\n",
        "account.deposit(500)\n",
        "\n"
      ],
      "metadata": {
        "colab": {
          "base_uri": "https://localhost:8080/"
        },
        "id": "Ti2YfxjKXrYR",
        "outputId": "29a271dd-3fc8-4942-e2ef-8e17ef8fdc5d"
      },
      "execution_count": 5,
      "outputs": [
        {
          "output_type": "stream",
          "name": "stdout",
          "text": [
            "Deposited: $500, Total Amount Available: $1500.00\n"
          ]
        }
      ]
    },
    {
      "cell_type": "code",
      "source": [
        "#6. Demonstrate runtime polymorphism using a method play() in a base class Instrument. Derive classes Guitar\n",
        "# and Piano that implement their own version of play().\n",
        "class instrument:\n",
        "    def play(self):\n",
        "      print(\"playing an instrument\")\n",
        "\n",
        "class Guitar(instrument):\n",
        "    def play(self):\n",
        "      print(\"playing a guitar\")\n",
        "\n",
        "class Piano(instrument):\n",
        "    def play(self):\n",
        "        print(\"Playing the piano\")\n",
        "\n",
        "Instrument = instrument()\n",
        "guitar = Guitar()\n",
        "piano = Piano()\n",
        "\n",
        "Instrument.play()\n",
        "guitar.play()\n",
        "piano.play()\n"
      ],
      "metadata": {
        "colab": {
          "base_uri": "https://localhost:8080/"
        },
        "id": "NpIUwxWlM3Wq",
        "outputId": "e72d950b-537b-41d3-9b6e-e6c969fb02ab"
      },
      "execution_count": 6,
      "outputs": [
        {
          "output_type": "stream",
          "name": "stdout",
          "text": [
            "playing an instrument\n",
            "playing a guitar\n",
            "Playing the piano\n"
          ]
        }
      ]
    },
    {
      "cell_type": "code",
      "source": [
        "#7.  Create a class MathOperations with a class method add_numbers() to add two numbers and a static\n",
        "# method subtract_numbers() to subtract two numbers\n",
        "class MathOperations:\n",
        "    @classmethod\n",
        "    def add_numbers(cls, num1, num2):\n",
        "\n",
        "        return num1 + num2\n",
        "\n",
        "    @staticmethod\n",
        "    def subtract_numbers(num1, num2):\n",
        "\n",
        "        return num1 - num2\n",
        "\n",
        "\n",
        "result1 = MathOperations.add_numbers(5, 3)\n",
        "result2 = MathOperations.subtract_numbers(10, 4)\n",
        "\n",
        "print(f\"Sum: {result1}\")\n",
        "print(f\"Difference: {result2}\")\n"
      ],
      "metadata": {
        "colab": {
          "base_uri": "https://localhost:8080/"
        },
        "id": "vliOiSfdOvSI",
        "outputId": "ac6b668b-3e2b-4b66-ba57-9bbb09f3942f"
      },
      "execution_count": 7,
      "outputs": [
        {
          "output_type": "stream",
          "name": "stdout",
          "text": [
            "Sum: 8\n",
            "Difference: 6\n"
          ]
        }
      ]
    },
    {
      "cell_type": "code",
      "source": [
        "#8. Implement a class Person with a class method to count the total number of persons created.\n",
        "class Person:\n",
        "    total_persons = 0\n",
        "\n",
        "    def __init__(self, name: str, age: int):\n",
        "        self.name = name\n",
        "        self.age = age\n",
        "        Person.total_persons += 1\n",
        "\n",
        "    @classmethod\n",
        "    def get_total_persons(cls) -> int:\n",
        "        return cls.total_persons\n",
        "\n",
        "\n",
        "p1 = Person(\"Aman\", 25)\n",
        "p2 = Person(\"adarsh\", 30)\n",
        "p3 = Person(\"Chetan\", 22)\n",
        "\n",
        "print(f\"Total persons created: {Person.get_total_persons()}\")\n",
        "\n"
      ],
      "metadata": {
        "colab": {
          "base_uri": "https://localhost:8080/"
        },
        "id": "bk7n7qyoRQ0V",
        "outputId": "f18f4f53-fb83-4b10-ddd2-c6fbcf2167cc"
      },
      "execution_count": 31,
      "outputs": [
        {
          "output_type": "stream",
          "name": "stdout",
          "text": [
            "Total persons created: 3\n"
          ]
        }
      ]
    },
    {
      "cell_type": "code",
      "source": [
        "#9. Write a class Fraction with attributes numerator and denominator. Override the str method to display the\n",
        "# fraction as \"numerator/denominator\".\n",
        "class fraction:\n",
        "    def __init__(self,numerator,denominator):\n",
        "        self.numerator=numerator\n",
        "        self.denominator=denominator\n",
        "\n",
        "    def __str__(self):\n",
        "        return f\"display the denominator as {self.numerator}/{self.denominator}\"\n",
        "my_fraction = fraction(3, 4)\n",
        "print(my_fraction)\n"
      ],
      "metadata": {
        "colab": {
          "base_uri": "https://localhost:8080/"
        },
        "id": "bh6tBY1V76My",
        "outputId": "984c2b6c-1a8f-4cfc-c58d-d2aac49e2746"
      },
      "execution_count": 2,
      "outputs": [
        {
          "output_type": "stream",
          "name": "stdout",
          "text": [
            "display the denominator as 3/4\n"
          ]
        }
      ]
    },
    {
      "cell_type": "code",
      "source": [
        "#10. Demonstrate operator overloading by creating a class Vector and overriding the add method to add two vectors\n",
        "\n",
        "class Vector:\n",
        "    def __init__(self, x, y):\n",
        "        self.x = x\n",
        "        self.y = y\n",
        "\n",
        "    def __add__(self, other):\n",
        "        return Vector(self.x + other.x, self.y + other.y)\n",
        "\n",
        "    def __str__(self):\n",
        "        return f\"({self.x}, {self.y})\"\n",
        "\n",
        "\n",
        "v1 = Vector(2, 3)\n",
        "v2 = Vector(4, 5)\n",
        "\n",
        "v3 = v1 + v2\n",
        "\n",
        "print(f\"v1 + v2 = {v3}\")\n"
      ],
      "metadata": {
        "colab": {
          "base_uri": "https://localhost:8080/"
        },
        "id": "xAPIBT2h-UVo",
        "outputId": "3ec136ac-3663-462d-fb8f-f1e560cec2b1"
      },
      "execution_count": 3,
      "outputs": [
        {
          "output_type": "stream",
          "name": "stdout",
          "text": [
            "v1 + v2 = (6, 8)\n"
          ]
        }
      ]
    },
    {
      "cell_type": "code",
      "source": [
        "#11.  Create a class Person with attributes name and age. Add a method greet() that prints \"Hello, my name is\n",
        "# {name} and I am {age} years old.\"\n",
        "class Person:\n",
        "    def __init__(self, name, age):\n",
        "        self.name = name\n",
        "        self.age = age\n",
        "\n",
        "    def greet(self):\n",
        "        print(f\"Hello, my name is {self.name} and I am {self.age} years old.\")\n",
        "\n",
        "\n",
        "person1 = Person(\"Aman\", 21)\n",
        "\n",
        "person1.greet()\n",
        "\n"
      ],
      "metadata": {
        "colab": {
          "base_uri": "https://localhost:8080/"
        },
        "id": "DX3B2Y7qAQm9",
        "outputId": "dc9df4cb-8d39-4bdc-b3d2-dfe5439de7f0"
      },
      "execution_count": 4,
      "outputs": [
        {
          "output_type": "stream",
          "name": "stdout",
          "text": [
            "Hello, my name is Aman and I am 21 years old.\n"
          ]
        }
      ]
    },
    {
      "cell_type": "code",
      "source": [
        "#12. implement a class Student with attributes name and grades. Create a method average_grade() to compute\n",
        "#the average of the grades.\n",
        "class student:\n",
        "  def __init__(self,name,grades):\n",
        "    self.grades=grades\n",
        "    self.name=name\n",
        "\n",
        "  def average_grade(self):\n",
        "    if self.grades:\n",
        "      return sum(self.grades)/len(self.grades)\n",
        "    else:\n",
        "      return 0\n",
        "\n",
        "student1 = student(\"Aditya\", [85, 90, 78, 92])\n",
        "average = student1.average_grade()\n",
        "print(f\"{student1.name}'s average grade: {average}\")\n"
      ],
      "metadata": {
        "colab": {
          "base_uri": "https://localhost:8080/"
        },
        "id": "skekVO5eC2jN",
        "outputId": "3f3598c9-31d1-407a-b151-9bb75d8b1051"
      },
      "execution_count": 6,
      "outputs": [
        {
          "output_type": "stream",
          "name": "stdout",
          "text": [
            "Aditya's average grade: 86.25\n"
          ]
        }
      ]
    },
    {
      "cell_type": "code",
      "source": [
        "#13.  Create a class Rectangle with methods set_dimensions() to set the dimensions and area() to calculate the\n",
        "# area.\n",
        "class rectangle:\n",
        "   def set_dimensions(self,l,b):\n",
        "      self.l=l\n",
        "      self.b=b\n",
        "\n",
        "   def area(self):\n",
        "      k= self.l*self.b\n",
        "      return f\"area of rectangle = {k}\"\n",
        "\n",
        "rectangle1= rectangle()\n",
        "rectangle1.set_dimensions(4,6)\n",
        "rectangle1.area()"
      ],
      "metadata": {
        "colab": {
          "base_uri": "https://localhost:8080/",
          "height": 35
        },
        "id": "ArSVZAHoE9nq",
        "outputId": "7f2a4285-e391-4685-c2e8-760defd10e96"
      },
      "execution_count": 9,
      "outputs": [
        {
          "output_type": "execute_result",
          "data": {
            "text/plain": [
              "'area of rectangle = 24'"
            ],
            "application/vnd.google.colaboratory.intrinsic+json": {
              "type": "string"
            }
          },
          "metadata": {},
          "execution_count": 9
        }
      ]
    },
    {
      "cell_type": "code",
      "source": [
        "#14. Create a class Employee with a method calculate_salary() that computes the salary based on hours worked\n",
        "# and hourly rate. Create a derived class Manager that adds a bonus to the salary.\n",
        "\n",
        "class employee:\n",
        "    def __init__(self,name,hrs_worked,hourly_rate):\n",
        "        self.name=name\n",
        "        self.hrs_worked=hrs_worked\n",
        "        self.hourly_rate=hourly_rate\n",
        "    def calculate_salary(self):\n",
        "        k= self.hrs_worked*self.hourly_rate\n",
        "        return f\"the total salary of employee is ${k}\"\n",
        "\n",
        "class manager(employee):\n",
        "    def add_bonus(self, name, hours_worked, hourly_rate):\n",
        "        super().__init__(name,hours_worked,hourly_rate) # Use super().__init__\n",
        "        if self.hrs_worked > 180:\n",
        "          extra_bonus=(self.hrs_worked - 180)*100\n",
        "          return f\"for extra working hours the extra bonus is ${extra_bonus}\"\n",
        "        else:\n",
        "          return 0\n",
        "\n",
        "employee1=employee(\"aditya\",190,120)\n",
        "base_salary=employee1.calculate_salary()\n",
        "manager1 = manager(\"aditya\", 190, 120)\n",
        "bonus = manager1.add_bonus(\"aditya\", 190, 120)\n",
        "print(base_salary)\n",
        "print(bonus)"
      ],
      "metadata": {
        "colab": {
          "base_uri": "https://localhost:8080/"
        },
        "id": "BLQGNxwuGftp",
        "outputId": "e708193b-b4f4-448e-bdd1-2d31e4cbc4e7"
      },
      "execution_count": 22,
      "outputs": [
        {
          "output_type": "stream",
          "name": "stdout",
          "text": [
            "the total salary of employee is $22800\n",
            "for extra working hours the extra bonus is $1000\n"
          ]
        }
      ]
    },
    {
      "cell_type": "code",
      "source": [
        "#15. Create a class Product with attributes name, price, and quantity. Implement a method total_price() that\n",
        "# calculates the total price of the product.\n",
        "class Product:\n",
        "    def __init__(self, name: str, price: float, quantity: int):\n",
        "        self.name = name\n",
        "        self.price = price\n",
        "        self.quantity = quantity\n",
        "\n",
        "    def total_price(self):\n",
        "        \"\"\"Calculate the total price of the product.\"\"\"\n",
        "        return self.price * self.quantity\n",
        "\n",
        "\n",
        "product1 = Product(\"Laptop\", 1200.50, 2)\n",
        "print(f\"Total price for {product1.quantity} {product1.name}(s): ${product1.total_price()}\")\n",
        "\n"
      ],
      "metadata": {
        "colab": {
          "base_uri": "https://localhost:8080/"
        },
        "id": "lRlwSD3rLvwa",
        "outputId": "a32042f0-beec-43ec-d898-626248ebf3c8"
      },
      "execution_count": 24,
      "outputs": [
        {
          "output_type": "stream",
          "name": "stdout",
          "text": [
            "Total price for 2 Laptop(s): $2401.0\n"
          ]
        }
      ]
    },
    {
      "cell_type": "code",
      "source": [
        "# 16. Create a class Animal with an abstract method sound(). Create two derived classes Cow and Sheep that\n",
        "# implement the sound() method.\n",
        "from abc import ABC, abstractmethod\n",
        "\n",
        "class Animal(ABC):\n",
        "    @abstractmethod\n",
        "    def sound(self) :\n",
        "        \"\"\"Abstract method to define the sound of an animal.\"\"\"\n",
        "        pass\n",
        "\n",
        "\n",
        "class Cow(Animal):\n",
        "    def sound(self) :\n",
        "        return \"Moo\"\n",
        "\n",
        "\n",
        "class Sheep(Animal):\n",
        "    def sound(self) :\n",
        "        return \"Baa\"\n",
        "\n",
        "cow = Cow()\n",
        "sheep = Sheep()\n",
        "\n",
        "print(f\"Cow sound: {cow.sound()}\")\n",
        "print(f\"Sheep sound: {sheep.sound()}\")\n"
      ],
      "metadata": {
        "colab": {
          "base_uri": "https://localhost:8080/"
        },
        "id": "TaOiTcImY4TJ",
        "outputId": "a8c15619-316d-473a-cdcc-550422ffbe77"
      },
      "execution_count": 25,
      "outputs": [
        {
          "output_type": "stream",
          "name": "stdout",
          "text": [
            "Cow sound: Moo\n",
            "Sheep sound: Baa\n"
          ]
        }
      ]
    },
    {
      "cell_type": "code",
      "source": [
        "#17. Create a class Book with attributes title, author, and year_published. Add a method get_book_info() that\n",
        "# returns a formatted string with the book's details.\n",
        "\n",
        "class Book:\n",
        "    def __init__(self, title: str, author: str, year_published: int):\n",
        "        self.title = title\n",
        "        self.author = author\n",
        "        self.year_published = year_published\n",
        "\n",
        "    def get_book_info(self):\n",
        "        \"\"\"Return a formatted string with book details.\"\"\"\n",
        "        return f\"'{self.title}' by {self.author} (Published: {self.year_published})\"\n",
        "\n",
        "\n",
        "\n",
        "book1 = Book(\"The notebook\", \"c. cbum\", 2025)\n",
        "print(book1.get_book_info())\n"
      ],
      "metadata": {
        "colab": {
          "base_uri": "https://localhost:8080/"
        },
        "id": "XOKyTcrFZriW",
        "outputId": "f93185c5-6cdd-4c10-9cf4-520a386b67fe"
      },
      "execution_count": 28,
      "outputs": [
        {
          "output_type": "stream",
          "name": "stdout",
          "text": [
            "'The notebook' by c. cbum (Published: 2025)\n"
          ]
        }
      ]
    },
    {
      "cell_type": "code",
      "source": [
        "# 18. Create a class House with attributes address and price. Create a derived class Mansion that adds an\n",
        "# attribute number_of_rooms.\n",
        "class House:\n",
        "    def __init__(self, address: str, price: float):\n",
        "        self.address = address\n",
        "        self.price = price\n",
        "\n",
        "    def get_info(self):\n",
        "        return f\"Address: {self.address}, Price: ${self.price}\"\n",
        "\n",
        "\n",
        "class Mansion(House):\n",
        "    def __init__(self, address: str, price: float, number_of_rooms: int):\n",
        "        super().__init__(address, price)\n",
        "        self.number_of_rooms = number_of_rooms\n",
        "\n",
        "    def get_info(self):\n",
        "        return f\"{super().get_info()}, Rooms: {self.number_of_rooms}\"\n",
        "\n",
        "\n",
        "# Example Usage\n",
        "house1 = House(\"123 city club, gaziabad\", 250000)\n",
        "mansion1 = Mansion(\"456 Om nagar,delhi\", 1500000, 10)\n",
        "\n",
        "print(house1.get_info())\n",
        "print(mansion1.get_info())\n",
        "\n"
      ],
      "metadata": {
        "colab": {
          "base_uri": "https://localhost:8080/"
        },
        "id": "Zi-bXGFRZL87",
        "outputId": "b2c21b97-cb77-4c19-d2f4-c58e3b89c7e3"
      },
      "execution_count": 29,
      "outputs": [
        {
          "output_type": "stream",
          "name": "stdout",
          "text": [
            "Address: 123 city club, gaziabad, Price: $250000\n",
            "Address: 456 Om nagar,delhi, Price: $1500000, Rooms: 10\n"
          ]
        }
      ]
    }
  ]
}