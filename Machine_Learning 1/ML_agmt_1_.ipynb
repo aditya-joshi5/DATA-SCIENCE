{
  "nbformat": 4,
  "nbformat_minor": 0,
  "metadata": {
    "colab": {
      "provenance": []
    },
    "kernelspec": {
      "name": "python3",
      "display_name": "Python 3"
    },
    "language_info": {
      "name": "python"
    }
  },
  "cells": [
    {
      "cell_type": "markdown",
      "source": [
        "ques 1 What is a parameter?\n",
        "\n",
        "In machine learning, a parameter refers to the internal variables that a model learns from the data during the training process. These parameters define how the model makes predictions and ultimately control the behavior of the model."
      ],
      "metadata": {
        "id": "TlepZNwWE3le"
      }
    },
    {
      "cell_type": "markdown",
      "source": [
        "ques 2 What is correlation?\n",
        " What does negative correlation mean.\n",
        "\n",
        " Correlation refers to a statistical relationship or association between two or more variables. In simple terms, it measures how changes in one variable are related to changes in another.\n",
        "\n",
        " A negative correlation means that as one variable increases, the other variable tends to decrease, and vice versa which means there is an inverse relationship between the two variables\n",
        "\n",
        ""
      ],
      "metadata": {
        "id": "mMqbUgwjE9_Y"
      }
    },
    {
      "cell_type": "markdown",
      "source": [
        "ques 3 Define Machine Learning. What are the main components in Machine Learning?\n",
        "\n",
        "Machine Learning (ML) is a branch of artificial intelligence (AI) that allows computers to learn from and make decisions based on data, without being explicitly programmed.\n",
        "\n",
        "The core idea of machine learning is to build models from data, allowing the system to learn and make accurate predictions or decisions based on that data.\n",
        "\n",
        "The main components are:\n",
        "\n",
        "* Data (input and output)\n",
        "\n",
        "* Algorithms (methods to learn from data)\n",
        "\n",
        "* Model (the learned representation)\n",
        "\n",
        "* Features (input variables)\n",
        "\n",
        "* Labels (output to predict)\n",
        "\n",
        "* Training (learning process)\n",
        "\n",
        "* Evaluation (measuring performance)\n",
        "\n",
        "* Prediction/Inference (applying the model to new data)\n",
        "\n",
        "* Optimization (improving the model)"
      ],
      "metadata": {
        "id": "_iksnBu6Fbt9"
      }
    },
    {
      "cell_type": "markdown",
      "source": [
        "ques 4 How does loss value help in determining whether the model is good or not?\n",
        "\n",
        "n machine learning, the loss value (or loss function) is a key metric used to evaluate how well a model's predictions match the actual data. It helps determine whether the model is performing well or if adjustments are needed. The lower the loss value, the better the model is at making accurate predictions.\n",
        "\n",
        "The loss value is an important tool for:\n",
        "\n",
        "1. Assessing model performance: A lower loss indicates better predictions.\n",
        "\n",
        "2. Guiding the optimization process: It helps adjust model parameters to minimize error.\n",
        "\n",
        "3. Detecting overfitting or underfitting: Helps to determine whether the model is generalizing well or not.\n",
        "\n",
        "4. Comparing models: Helps you choose the best model based on performance"
      ],
      "metadata": {
        "id": "hFiG2OeWGDuT"
      }
    },
    {
      "cell_type": "markdown",
      "source": [
        "ques 5 What are continuous and categorical variables?\n",
        "\n",
        " **Continuous variable**s:  are numerical variables that can take an infinite number of values within a given range. They can represent quantities that can be measured with great precision, and the values can have decimals or fractions.\n",
        "\n",
        "eg height , weight , temperature etc.\n",
        "\n",
        " **Categorical variables**:  are variables that represent categories or groups. These variables describe qualitative attributes or characteristics that can be divided into a finite set of categories or groups.\n",
        "\n",
        "  eg Gender( Male, Female) , Color (Red, Blue, Green) .\n",
        "\n"
      ],
      "metadata": {
        "id": "hxjlC9kPGYRV"
      }
    },
    {
      "cell_type": "markdown",
      "source": [
        "ques 6 How do we handle categorical variables in Machine Learning? What are the common techniques?\n",
        "\n",
        "In machine learning, categorical variables need to be handled properly because most algorithms work with numerical data, not raw categorical data. Therefore, we must convert categorical variables into numerical formats while retaining the information contained in them. Here are some common techniques to handle categorical variables:\n",
        "\n",
        "1. Label Encoding:\n",
        "\n",
        "Label Encoding is a method where each category of a categorical variable is assigned a unique integer value.\n",
        "\n",
        "2. One-Hot Encoding:\n",
        "\n",
        "One-hot encoding creates binary columns (0 or 1) for each category in a categorical variable. It transforms a categorical variable into several new binary variables, each representing a single category.\n",
        "\n",
        "3. Binary Encoding:\n",
        "\n",
        "Binary encoding is a technique that combines the benefits of label encoding and one-hot encoding. It is used when the categorical variable has a large number of categories (high cardinality)."
      ],
      "metadata": {
        "id": "9-Xb_-vDHGvt"
      }
    },
    {
      "cell_type": "markdown",
      "source": [
        "ques 7 What do you mean by training and testing a dataset?\n",
        "\n",
        "In machine learning, training and testing a dataset refer to two distinct steps in the model development process. These steps help evaluate how well a machine learning model is performing and ensure that the model generalizes well to unseen data.\n",
        "\n",
        "**Training a dataset**: The model learns from the data by adjusting its parameters based on the training set.\n",
        "\n",
        "**Testing a dataset**: The model is evaluated on unseen data (testing set) to assess its performance and generalization ability.\n"
      ],
      "metadata": {
        "id": "HThRGgjDH6u5"
      }
    },
    {
      "cell_type": "markdown",
      "source": [
        " ques 8 What is sklearn.preprocessing?\n",
        "\n",
        " sklearn.preprocessing is a module in scikit-learn that provides various utilities and methods to preprocess data before feeding it into machine learning models. Preprocessing is an important step in the machine learning pipeline, as it transforms raw data into a suitable format that models can understand and learn from effectively."
      ],
      "metadata": {
        "id": "qozgnPjhIeIu"
      }
    },
    {
      "cell_type": "markdown",
      "source": [
        "ques 9 What is a Test set?\n",
        "\n",
        "A test set is a subset of the dataset that is used to evaluate the performance of a machine learning model after it has been trained. It contains data that the model has not seen during the training process, allowing you to assess how well the model generalizes to new, unseen data.\n",
        "\n",
        "This helps ensure that the model is not just memorizing the training data (overfitting) but is capable of making accurate predictions on real-world data."
      ],
      "metadata": {
        "id": "paReip57I4DQ"
      }
    },
    {
      "cell_type": "code",
      "source": [
        "#ques 10  How do we split data for model fitting (training and testing) in Python? How do you approach a Machine Learning problem?\n",
        "import numpy as np\n",
        "from sklearn.model_selection import train_test_split\n",
        "X = np.array([[1,2],[3,4],[5,6],[7,8]])\n",
        "y = np.array([0,1,0,1])\n",
        "X_train, X_test, y_train, y_test = train_test_split(X, y, test_size=0.2, random_state=42)\n",
        "\n"
      ],
      "metadata": {
        "id": "hFQQQV72JXpo"
      },
      "execution_count": 4,
      "outputs": []
    },
    {
      "cell_type": "markdown",
      "source": [
        "Steps to Approach a Machine Learning Problem:\n",
        "\n",
        "1. Define the problem: Understand the type of problem (classification, regression, etc.).\n",
        "\n",
        "2. Collect and explore the data: Analyze and visualize the data to understand it.\n",
        "\n",
        "3. Preprocess the data: Clean and prepare the data (handle missing values, scale features, etc.).\n",
        "\n",
        "4. Split the data: Split into training and testing sets using train_test_split.\n",
        "\n",
        "5. Choose a model: Select an appropriate machine learning model.\n",
        "\n",
        "6. Train the model: Fit the model to the training data.\n",
        "\n",
        "7. Evaluate the model: Test the model using the test set and evaluate performance.\n",
        "\n",
        "8. Improve the model: Tune hyperparameters, try different models, or use ensemble methods.\n",
        "\n",
        "9. Deploy the model: Deploy the trained model for making predictions on new data.\n",
        "\n",
        "\n",
        "\n"
      ],
      "metadata": {
        "id": "B_hccOhWKbwm"
      }
    },
    {
      "cell_type": "markdown",
      "source": [
        "ques 11  Why do we have to perform EDA before fitting a model to the data?\n",
        "\n",
        "EDA is crucial because it allows you to clean, understand, and preprocess your data before fitting a model. Without EDA, you risk using poorly prepared data, which can lead to suboptimal model performance, incorrect assumptions, and wasted time."
      ],
      "metadata": {
        "id": "p4YdWJfOLBj3"
      }
    },
    {
      "cell_type": "markdown",
      "source": [
        "ques 12 What is correlation?\n",
        "\n",
        "Correlation is a statistical measure that describes the relationship between two variables. It quantifies how strongly two variables are related to each other. When two variables are correlated, a change in one variable tends to result in a predictable change in the other variable."
      ],
      "metadata": {
        "id": "GCDb-YepLd2h"
      }
    },
    {
      "cell_type": "markdown",
      "source": [
        "ques 13 What does negative correlation mean?\n",
        "\n",
        "A negative correlation means that as one variable increases, the other variable tends to decrease, and vice versa.  there is an inverse relationship between the two variables. When one variable goes up, the other goes down, and when one variable goes down, the other goes up."
      ],
      "metadata": {
        "id": "WwXgIqnFMDAQ"
      }
    },
    {
      "cell_type": "code",
      "source": [
        "#ques 14 How can you find correlation between variables in Python?\n",
        "\n",
        "import pandas as pd\n",
        "data = {\n",
        "    'Hours_Studied': [1, 2, 3, 4, 5, 6, 7, 8],\n",
        "    'Test_Score': [45, 50, 55, 60, 65, 70, 75, 80]\n",
        "}\n",
        "df = pd.DataFrame(data)\n",
        "correlation = df['Hours_Studied'].corr(df['Test_Score'])\n",
        "print(f'Correlation between Hours_Studied and Test_Score: {correlation}')\n"
      ],
      "metadata": {
        "colab": {
          "base_uri": "https://localhost:8080/"
        },
        "id": "mGSaug25Mqnt",
        "outputId": "8ae504fb-dce1-4b7c-c72b-1a574690ac6d"
      },
      "execution_count": 5,
      "outputs": [
        {
          "output_type": "stream",
          "name": "stdout",
          "text": [
            "Correlation between Hours_Studied and Test_Score: 1.0\n"
          ]
        }
      ]
    },
    {
      "cell_type": "markdown",
      "source": [
        "ques 15 What is causation? Explain difference between correlation and causation with an example.\n",
        "\n",
        "Causation refers to a relationship between two variables where one variable directly influences the other.\n",
        "\n",
        "**Correlation:**Indicates that two variables are related in some way but does not imply that one causes the other. For example, ice cream sales and drowning deaths are correlated but do not have a direct causal relationship.\n",
        "\n",
        "**Causation:** Implies that one variable directly influences the other. For example, education levels can cause higher income levels, as education provides skills and qualifications that lead to better job opportunities."
      ],
      "metadata": {
        "id": "JLoW6odEM4Mr"
      }
    },
    {
      "cell_type": "markdown",
      "source": [
        "ques 16  What is an Optimizer? What are different types of optimizers? Explain each with an example\n",
        "\n",
        "An optimizer in machine learning is a method used to minimize (or maximize) a loss function by adjusting the parameters of the model during the training process.\n",
        "\n",
        "type of optimizers:\n",
        "\n",
        "Gradient Descent (GD): Basic, full dataset.\n",
        "\n",
        "Stochastic Gradient Descent (SGD): Updates based on a single example.\n",
        "\n",
        "Mini-Batch GD: Uses small batches.\n",
        "\n",
        "Momentum: Accelerates convergence by using past gradients."
      ],
      "metadata": {
        "id": "VKfR9RFhNZhu"
      }
    },
    {
      "cell_type": "markdown",
      "source": [
        "ques 17  What is sklearn.linear_model ?\n",
        "\n",
        "**sklearn.linear_model** is a module in the scikit-learn library that provides several classes and functions to perform linear modeling techniques, primarily used for regression and classification tasks.\n",
        "\n"
      ],
      "metadata": {
        "id": "DS7TvkMrLau4"
      }
    },
    {
      "cell_type": "markdown",
      "source": [
        "ques 18 What does model.fit() do? What arguments must be given?\n",
        "\n",
        "model.fit() trains the model using the input features (X) and the target labels (y).\n",
        "\n",
        "Syntax:\n",
        "\n",
        "model.fit(X, y)\n",
        "\n",
        "The required arguments are:\n",
        "\n",
        "X: Input feature matrix (2D array-like).\n",
        "\n",
        "y: Target vector (1D array-like)."
      ],
      "metadata": {
        "id": "nQ_oAO7GWYBW"
      }
    },
    {
      "cell_type": "markdown",
      "source": [
        "ques 19 What does model.predict() do? What arguments must be given?\n",
        "\n",
        "model.predict() is used to make predictions on new data after training a model with model.fit().\n",
        "\n",
        "The required argument is:\n",
        "\n",
        "X: Input features for which you want to predict the target values or class labels.\n",
        "\n",
        "Syntax:\n",
        "\n",
        "predictions = model.predict(X)"
      ],
      "metadata": {
        "id": "sxwjEPeIWzag"
      }
    },
    {
      "cell_type": "markdown",
      "source": [
        "ques 20 What are continuous and categorical variables?\n",
        "\n",
        " * Continuous Variables:\n",
        "\n",
        "Continuous variables are numeric variables that can take any value within a range. These values can be integers or decimals and can represent quantities that can be measured on a scale.\n",
        "\n",
        "* Categorical Variables:\n",
        "\n",
        "Categorical variables are non-numeric variables that represent categories or groups. These variables have a limited number of distinct values (called categories or labels)."
      ],
      "metadata": {
        "id": "c_l2T0mfXyq2"
      }
    },
    {
      "cell_type": "markdown",
      "source": [
        "ques 21 What is feature scaling? How does it help in Machine Learning?\n",
        "\n",
        "Feature scaling refers to the process of scaling the range of features to a standard or normalized range, ensuring that each feature contributes equally to the model’s performance.\n",
        "\n",
        "It is essential for algorithms that depend on distance calculations, gradient descent optimization, or regularization."
      ],
      "metadata": {
        "id": "IkAZG8e2YEvX"
      }
    },
    {
      "cell_type": "code",
      "source": [
        "# ques 22  How do we perform scaling in Python?\n",
        "\n",
        "from sklearn.preprocessing import StandardScaler\n",
        "import numpy as np\n",
        "X = np.array([[1, 200], [2, 300], [3, 400], [4, 500]])\n",
        "scaler = StandardScaler()\n",
        "X_scaled = scaler.fit_transform(X)\n",
        "print(\"Standardized Data (Z-Score Normalization):\\n\", X_scaled)\n"
      ],
      "metadata": {
        "colab": {
          "base_uri": "https://localhost:8080/"
        },
        "id": "afTw5yxiYttD",
        "outputId": "8e408f0b-361d-4658-b237-e5e64d204b37"
      },
      "execution_count": 7,
      "outputs": [
        {
          "output_type": "stream",
          "name": "stdout",
          "text": [
            "Standardized Data (Z-Score Normalization):\n",
            " [[-1.34164079 -1.34164079]\n",
            " [-0.4472136  -0.4472136 ]\n",
            " [ 0.4472136   0.4472136 ]\n",
            " [ 1.34164079  1.34164079]]\n"
          ]
        }
      ]
    },
    {
      "cell_type": "markdown",
      "source": [
        "ques 23 What is sklearn.preprocessing?\n",
        "\n",
        "sklearn.preprocessing is a powerful module in scikit-learn that offers a wide range of preprocessing techniques to handle various data types and requirements. Properly preprocessing data is a crucial step in ensuring machine learning models perform well and produce accurate predictions.\n"
      ],
      "metadata": {
        "id": "rFtOjCegZFSW"
      }
    },
    {
      "cell_type": "code",
      "source": [
        "#ques 24  How do we split data for model fitting (training and testing) in Python?\n",
        "\n",
        "from sklearn.model_selection import train_test_split\n",
        "import numpy as np\n",
        "X = np.array([[1, 2], [3, 4], [5, 6],])\n",
        "y = np.array([0, 1, 0,])\n",
        "X_train, X_test, y_train, y_test = train_test_split(X, y, test_size=0.2, random_state=42)\n",
        "print(\"X_train:\\n\", X_train)\n",
        "print(\"X_test:\\n\", X_test)\n",
        "print(\"y_train:\", y_train)\n",
        "print(\"y_test:\", y_test)\n"
      ],
      "metadata": {
        "colab": {
          "base_uri": "https://localhost:8080/"
        },
        "id": "5pF7vdkcZ_mX",
        "outputId": "e1b18106-e32b-4792-9377-74cbb7e8863a"
      },
      "execution_count": 9,
      "outputs": [
        {
          "output_type": "stream",
          "name": "stdout",
          "text": [
            "X_train:\n",
            " [[3 4]\n",
            " [5 6]]\n",
            "X_test:\n",
            " [[1 2]]\n",
            "y_train: [1 0]\n",
            "y_test: [0]\n"
          ]
        }
      ]
    },
    {
      "cell_type": "markdown",
      "source": [
        "ques 25 Explain data encoding?\n",
        "\n",
        "Data encoding is the process of converting categorical or non-numeric data into a numeric format so that it can be used in machine learning models, which typically require numeric input for training. Since most machine learning algorithms cannot directly handle categorical data (like strings or labels), encoding transforms the categorical data into a suitable numerical form"
      ],
      "metadata": {
        "id": "d8w7vTNIaXzX"
      }
    }
  ]
}