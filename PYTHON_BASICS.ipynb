{
  "nbformat": 4,
  "nbformat_minor": 0,
  "metadata": {
    "colab": {
      "provenance": []
    },
    "kernelspec": {
      "name": "python3",
      "display_name": "Python 3"
    },
    "language_info": {
      "name": "python"
    }
  },
  "cells": [
    {
      "cell_type": "markdown",
      "source": [
        "1. **What is Python, and why is it popular?**\n",
        "- Python is a high-level, interpreted programming language known for its simplicity and readability. It supports multiple programming paradigms, including procedural, object-oriented, and functional programming\n",
        "Reasons for its popularity:\n",
        "\n",
        "- Easy syntax resembling natural language.\n",
        "Extensive libraries and frameworks for various applications like data science, machine learning, and web development.\n",
        "Large and active community support.\n",
        "Cross-platform compatibility.\n",
        "2. **What is an interpreter in Python?**\n",
        "- An interpreter in Python is a program that executes Python code line by line, translating it into machine-readable instructions. This allows developers to test and debug their code quickly, making Python suitable for rapid application development.\n",
        "\n",
        "3. **What are pre-defined keywords in Python?**\n",
        "- Pre-defined keywords in Python are reserved words that have special meaning in the language and are used to perform specific tasks. Examples include if, else, for, while, def, class, return, and import.\n",
        "\n",
        "4. **Can keywords be used as variable names?**\n",
        "- No, keywords cannot be used as variable names in Python because they are reserved for specific functionalities and would cause syntax errors if used otherwise.\n",
        "\n",
        "5. **What is mutability in Python?**\n",
        "- Mutability in Python refers to the ability of an object to change its value after it is created.\n",
        "\n",
        "- Mutable objects: Their values can be changed (e.g., lists, dictionaries, sets).\n",
        "Immutable objects: Their values cannot be changed (e.g., tuples, strings, integers).\n",
        "6. **Why are lists mutable, but tuples are immutable?**\n",
        "- Lists: Mutable because they are designed to store collections of items that may need frequent modification.\n",
        "- Tuples: Immutable to ensure that their content remains constant, which helps in improving performance and ensuring data integrity when used as keys in dictionaries or for other purposes.\n",
        "7. **What is the difference between == and is operators in Python?**\n",
        "- ==: Checks whether two objects have the same value.\n",
        "- is: Checks whether two objects refer to the same memory location (identity).\n",
        "Example:\n",
        "\n",
        "a = [1, 2, 3]\n",
        "\n",
        "b = [1, 2, 3]\n",
        "\n",
        "print(a == b)  # True (values are equal)\n",
        "\n",
        "print(a is b)  # False (different memory locations)\n",
        "8. **What are logical operators in Python?**\n",
        "- Logical operators are used to combine conditional statements.\n",
        "\n",
        "and: Returns True if both conditions are true.\n",
        "or: Returns True if at least one condition is true.\n",
        "not: Reverses the boolean value of the condition.\n",
        "Example:\n",
        "\n",
        "x = 10\n",
        "y = 20\n",
        "print(x > 5 and y < 30)  # True\n",
        "print(x > 15 or y > 25)  # False\n",
        "9. **What is type casting in Python?**\n",
        "- Type casting in Python refers to converting one data type to another.\n",
        "Example:\n",
        "\n",
        "x = \"123\"\n",
        "y = int(x)  # Converts string to integer\n",
        "10. **What is the difference between implicit and explicit type casting?**\n",
        "- Implicit type casting: Automatically performed by Python when compatible types are used.\n",
        "Example:\n",
        "\n",
        "x = 5\n",
        "y = 2.5\n",
        "z = x + y  # z is automatically a float\n",
        "Explicit type casting: Manually performed by the programmer using functions like int(), float(), str().\n",
        "Example:\n",
        "\n",
        "x = \"100\"\n",
        "y = int(x)  # Explicitly converting string to integer\n",
        "11. **What is the purpose of conditional statements in Python?**\n",
        "- Conditional statements control the flow of a program by executing code based on specific conditions. They allow programs to make decisions\n",
        "\n",
        "Example:\n",
        "\n",
        "x = 10\n",
        "if x > 5:\n",
        "    print(\"Greater than 5\")\n",
        "else:\n",
        "    print(\"5 or less\")\n",
        "12. **How does the elif statement work?**\n",
        "- The elif statement in Python allows you to check multiple conditions. If one condition evaluates to True, the subsequent conditions are not checked.\n",
        "\n",
        "Example:\n",
        "\n",
        "x = 15\n",
        "if x < 10:\n",
        "    print(\"Less than 10\")\n",
        "elif x < 20:\n",
        "    print(\"Between 10 and 20\")\n",
        "else:\n",
        "    print(\"20 or more\")\n",
        "13. **What is the difference between for and while loops?**\n",
        "- For loop: Iterates over a sequence (e.g., list, tuple, range) for a specific number of iterations.\n",
        "Example:\n",
        "\n",
        "for i in range(5):\n",
        "    print(i)\n",
        "While loop: Repeats as long as a condition is True.\n",
        "Example:\n",
        "\n",
        "x = 0\n",
        "while x < 5:\n",
        "    print(x)\n",
        "    x += 1\n",
        "14. **Describe a scenario where a while loop is more suitable than a for loop.**\n",
        "- A while loop is more suitable when the number of iterations is unknown and depends on a condition being met.\n",
        "\n",
        "Example: Reading user input until valid input is provided:\n",
        "\n",
        "user_input = \"\"\n",
        "while user_input != \"exit\":\n",
        "    user_input = input(\"Type 'exit' to quit: \")\n",
        "\n",
        "\n",
        "\n",
        "\n",
        "\n"
      ],
      "metadata": {
        "id": "zZDVCuxogy5k"
      }
    },
    {
      "cell_type": "code",
      "source": [
        "#1 Write a Python program to print \"Hello, World!\n",
        "print(\"Hello, World!\")"
      ],
      "metadata": {
        "colab": {
          "base_uri": "https://localhost:8080/"
        },
        "id": "jtJiu0cdqCpo",
        "outputId": "cf27a9d9-f4af-44f2-934e-e836d23c8eed"
      },
      "execution_count": null,
      "outputs": [
        {
          "output_type": "stream",
          "name": "stdout",
          "text": [
            "Hello, World!\n"
          ]
        }
      ]
    },
    {
      "cell_type": "code",
      "source": [
        "#2 Write a Python program that displays your name and age\n",
        "name = input(\"Enter your name: \")\n",
        "age = input(\"Enter your age: \")\n",
        "print(\"Name:\", name)\n",
        "print(\"Age:\", age)"
      ],
      "metadata": {
        "colab": {
          "base_uri": "https://localhost:8080/"
        },
        "id": "uSDECLyYqKxf",
        "outputId": "a4d4e49d-dfed-4695-8a30-c75bd07582a3"
      },
      "execution_count": null,
      "outputs": [
        {
          "output_type": "stream",
          "name": "stdout",
          "text": [
            "Enter your name: Aditya\n",
            "Enter your age: 21\n",
            "Name: Aditya\n",
            "Age: 21\n"
          ]
        }
      ]
    },
    {
      "cell_type": "code",
      "source": [
        "#3 Write code to print all the pre-defined keywords in Python using the keyword library\n",
        "import keyword\n",
        "print(\"Python keywords:\", keyword.kwlist)\n",
        "\n"
      ],
      "metadata": {
        "colab": {
          "base_uri": "https://localhost:8080/"
        },
        "id": "uonKOSmAqj89",
        "outputId": "ea9eaee4-753a-4dec-f35f-57dc6aadb643"
      },
      "execution_count": null,
      "outputs": [
        {
          "output_type": "stream",
          "name": "stdout",
          "text": [
            "Python keywords: ['False', 'None', 'True', 'and', 'as', 'assert', 'async', 'await', 'break', 'class', 'continue', 'def', 'del', 'elif', 'else', 'except', 'finally', 'for', 'from', 'global', 'if', 'import', 'in', 'is', 'lambda', 'nonlocal', 'not', 'or', 'pass', 'raise', 'return', 'try', 'while', 'with', 'yield']\n"
          ]
        }
      ]
    },
    {
      "cell_type": "code",
      "source": [
        "#4 Write a program that checks if a given word is a Python keyword\n",
        "\n",
        "import keyword\n",
        "word = input(\"Enter a word: \")\n",
        "if keyword.iskeyword(word):\n",
        "    print(f\"'{word}' is a Python keyword.\")\n",
        "else:\n",
        "    print(f\"'{word}' is not a Python keyword.\")"
      ],
      "metadata": {
        "colab": {
          "base_uri": "https://localhost:8080/"
        },
        "id": "5Mptm94CrBZ9",
        "outputId": "c80353bc-35e8-4eea-a159-0ed47e3d96b4"
      },
      "execution_count": null,
      "outputs": [
        {
          "output_type": "stream",
          "name": "stdout",
          "text": [
            "Enter a word: of\n",
            "'of' is not a Python keyword.\n"
          ]
        }
      ]
    },
    {
      "cell_type": "code",
      "source": [
        "#5 Create a list and tuple in Python, and demonstrate how attempting to change an element works differently\n",
        "#for each\n",
        "# List: Mutable\n",
        "my_list = [1, 2, 3]\n",
        "my_list[0] = 10\n",
        "print(\"Modified list:\", my_list)\n",
        "\n",
        "# Tuple: Immutable\n",
        "my_tuple = (1, 2, 3)\n",
        "try:\n",
        "    my_tuple[0] = 10\n",
        "except TypeError as e:\n",
        "    print(\"Error with tuple:\", e)\n"
      ],
      "metadata": {
        "colab": {
          "base_uri": "https://localhost:8080/"
        },
        "id": "L_ilqfuhrZFF",
        "outputId": "a8a9e06b-75e4-4d69-d0b7-ad920a0239c5"
      },
      "execution_count": null,
      "outputs": [
        {
          "output_type": "stream",
          "name": "stdout",
          "text": [
            "Modified list: [10, 2, 3]\n",
            "Error with tuple: 'tuple' object does not support item assignment\n"
          ]
        }
      ]
    },
    {
      "cell_type": "code",
      "source": [
        "#6 Write a function to demonstrate the behavior of mutable and immutable arguments\n",
        "def demonstrate_mutability(arg1, arg2):\n",
        "    # Modify mutable argument (list)\n",
        "    arg1.append(4)\n",
        "    print(\"Inside function (list):\", arg1)\n",
        "\n",
        "    # Modify immutable argument (int)\n",
        "    arg2 += 10\n",
        "    print(\"Inside function (int):\", arg2)\n",
        "\n",
        "# Test\n",
        "mutable = [1, 2, 3]\n",
        "immutable = 5\n",
        "demonstrate_mutability(mutable, immutable)\n",
        "\n",
        "print(\"Outside function (list):\", mutable)  # List reflects the change\n",
        "print(\"Outside function (int):\", immutable)  # Integer remains unchanged\n",
        "\n",
        "\n"
      ],
      "metadata": {
        "colab": {
          "base_uri": "https://localhost:8080/"
        },
        "id": "k-CvwE9iuKuN",
        "outputId": "6e8f4fcd-bb7d-47b9-8bb4-54b3581cd31e"
      },
      "execution_count": null,
      "outputs": [
        {
          "output_type": "stream",
          "name": "stdout",
          "text": [
            "Inside function (list): [1, 2, 3, 4]\n",
            "Inside function (int): 15\n",
            "Outside function (list): [1, 2, 3, 4]\n",
            "Outside function (int): 5\n"
          ]
        }
      ]
    },
    {
      "cell_type": "code",
      "source": [
        "#7 (repeated as above)Write a function to demonstrate the behavior of mutable and immutable arguments\n",
        "def demonstrate_mutability(arg1, arg2):\n",
        "    # Modify mutable argument (list)\n",
        "    arg1.append(4)\n",
        "    print(\"Inside function (list):\", arg1)\n",
        "\n",
        "    # Modify immutable argument (int)\n",
        "    arg2 += 10\n",
        "    print(\"Inside function (int):\", arg2)\n",
        "\n",
        "# Test\n",
        "mutable = [1, 2, 3]\n",
        "immutable = 5\n",
        "demonstrate_mutability(mutable, immutable)\n",
        "\n",
        "print(\"Outside function (list):\", mutable)  # List reflects the change\n",
        "print(\"Outside function (int):\", immutable)  # Integer remains unchanged\n"
      ],
      "metadata": {
        "colab": {
          "base_uri": "https://localhost:8080/"
        },
        "id": "HJruL13qvLy0",
        "outputId": "299c8478-ee14-43f0-ca7b-f31bccaeed16"
      },
      "execution_count": null,
      "outputs": [
        {
          "output_type": "stream",
          "name": "stdout",
          "text": [
            "Inside function (list): [1, 2, 3, 4]\n",
            "Inside function (int): 15\n",
            "Outside function (list): [1, 2, 3, 4]\n",
            "Outside function (int): 5\n"
          ]
        }
      ]
    },
    {
      "cell_type": "code",
      "source": [
        "#8 Write a program to demonstrate the use of logical operators\n",
        "x, y = 10, 20\n",
        "\n",
        "# Logical AND\n",
        "print(x > 5 and y > 15)  # True\n",
        "\n",
        "# Logical OR\n",
        "print(x > 15 or y > 15)  # True\n",
        "\n",
        "# Logical NOT\n",
        "print(not (x > 15))  # True\n"
      ],
      "metadata": {
        "colab": {
          "base_uri": "https://localhost:8080/"
        },
        "id": "dISP3swOvVst",
        "outputId": "52bb5098-f309-4a56-a6fc-11ee49b62603"
      },
      "execution_count": null,
      "outputs": [
        {
          "output_type": "stream",
          "name": "stdout",
          "text": [
            "True\n",
            "True\n",
            "True\n"
          ]
        }
      ]
    },
    {
      "cell_type": "code",
      "source": [
        "#9 Write a Python program to convert user input from string to integer, float, and boolean types\n",
        "user_input = input(\"Enter a value: \")\n",
        "\n",
        "# Convert to integer\n",
        "try:\n",
        "    print(\"As integer:\", int(user_input))\n",
        "except ValueError:\n",
        "    print(\"Cannot convert to integer.\")\n",
        "\n",
        "# Convert to float\n",
        "try:\n",
        "    print(\"As float:\", float(user_input))\n",
        "except ValueError:\n",
        "    print(\"Cannot convert to float.\")\n",
        "\n",
        "# Convert to boolean\n",
        "print(\"As boolean:\", bool(user_input))\n",
        "\n"
      ],
      "metadata": {
        "colab": {
          "base_uri": "https://localhost:8080/"
        },
        "id": "dZ2BQSXnwDy0",
        "outputId": "5592675f-7d2d-4b4c-a293-e83dc44aaa21"
      },
      "execution_count": null,
      "outputs": [
        {
          "output_type": "stream",
          "name": "stdout",
          "text": [
            "Enter a value: pwskills\n",
            "Cannot convert to integer.\n",
            "Cannot convert to float.\n",
            "As boolean: True\n"
          ]
        }
      ]
    },
    {
      "cell_type": "code",
      "source": [
        "#10 Write code to demonstrate type casting with list elements\n",
        "my_list = [\"1\", \"2.5\", \"True\"]\n",
        "\n",
        "# Cast each element to its respective type\n",
        "converted_list = [int(my_list[0]), float(my_list[1]), bool(my_list[2])]\n",
        "print(\"Original list:\", my_list)\n",
        "print(\"Converted list:\", converted_list)\n",
        "\n"
      ],
      "metadata": {
        "colab": {
          "base_uri": "https://localhost:8080/"
        },
        "id": "UJlMJO-PxGgj",
        "outputId": "b8c23a9c-6b56-452a-b094-b9380e5d3cf1"
      },
      "execution_count": null,
      "outputs": [
        {
          "output_type": "stream",
          "name": "stdout",
          "text": [
            "Original list: ['1', '2.5', 'True']\n",
            "Converted list: [1, 2.5, True]\n"
          ]
        }
      ]
    },
    {
      "cell_type": "code",
      "source": [
        "#11 Write a program that checks if a number is positive, negative, or zero\n",
        "x = float(input(\"Enter a number: \"))\n",
        "if x > 0:\n",
        "    print(\"Positive\")\n",
        "elif x < 0:\n",
        "    print(\"Negative\")\n",
        "else:\n",
        "    print(\"Zero\")"
      ],
      "metadata": {
        "colab": {
          "base_uri": "https://localhost:8080/"
        },
        "id": "MN2fvbH3xnOP",
        "outputId": "b5c9d8c5-205d-4636-a26e-55ba6da0b80e"
      },
      "execution_count": null,
      "outputs": [
        {
          "output_type": "stream",
          "name": "stdout",
          "text": [
            "Enter a number: 56\n",
            "Positive\n"
          ]
        }
      ]
    },
    {
      "cell_type": "code",
      "source": [
        "#12  Write a for loop to print numbers from 1 to 100\n",
        "for i in range(1,101):\n",
        "  {print(i, end= \" \")}\n"
      ],
      "metadata": {
        "id": "87DOiSIvx8AQ",
        "colab": {
          "base_uri": "https://localhost:8080/"
        },
        "outputId": "2a6431b2-8cfc-4ef6-b74d-da0e8555abdc"
      },
      "execution_count": 22,
      "outputs": [
        {
          "output_type": "stream",
          "name": "stdout",
          "text": [
            "1 2 3 4 5 6 7 8 9 10 11 12 13 14 15 16 17 18 19 20 21 22 23 24 25 26 27 28 29 30 31 32 33 34 35 36 37 38 39 40 41 42 43 44 45 46 47 48 49 50 51 52 53 54 55 56 57 58 59 60 61 62 63 64 65 66 67 68 69 70 71 72 73 74 75 76 77 78 79 80 81 82 83 84 85 86 87 88 89 90 91 92 93 94 95 96 97 98 99 100 "
          ]
        }
      ]
    },
    {
      "cell_type": "code",
      "source": [
        "#13 Write a Python program to find the sum of all even numbers between 1 and 50\n",
        "sum=0\n",
        "for i in range(1,51):\n",
        "  if i%2==0:\n",
        "    sum=sum+i\n",
        "print(\"the sum of even numbers is:\",sum)"
      ],
      "metadata": {
        "colab": {
          "base_uri": "https://localhost:8080/"
        },
        "id": "_mhsVsCLzNGb",
        "outputId": "b36bc76c-882e-4214-8aca-1d4925291751"
      },
      "execution_count": null,
      "outputs": [
        {
          "output_type": "stream",
          "name": "stdout",
          "text": [
            "the sum of even numbers is: 650\n"
          ]
        }
      ]
    },
    {
      "cell_type": "code",
      "source": [
        "#14 Write a program to reverse a string using a while loop\n",
        "str1=\"wert\"\n",
        "print(str1[::-1])\n"
      ],
      "metadata": {
        "id": "uKo-EgFl1S0s",
        "colab": {
          "base_uri": "https://localhost:8080/"
        },
        "outputId": "c3076a8a-76ac-406b-94b7-3b4853174fe1"
      },
      "execution_count": 12,
      "outputs": [
        {
          "output_type": "stream",
          "name": "stdout",
          "text": [
            "trew\n"
          ]
        }
      ]
    },
    {
      "cell_type": "code",
      "source": [
        "#15 Write a Python program to calculate the factorial of a number provided by the user using a while loop\n",
        "num= int (input(\"enter the number: \"))\n",
        "i=1\n",
        "if num<0:\n",
        "  print(\"factorial does not exist\")\n",
        "else:\n",
        "  while num>0 :\n",
        "    i=num*i\n",
        "    num=num-1\n",
        "  print(\"the factorial is:\",i)"
      ],
      "metadata": {
        "colab": {
          "base_uri": "https://localhost:8080/"
        },
        "id": "QkfOZLOaotsd",
        "outputId": "c6618ba6-aa61-412c-8720-d3f701f24fa5"
      },
      "execution_count": 21,
      "outputs": [
        {
          "output_type": "stream",
          "name": "stdout",
          "text": [
            "enter the number: 6\n",
            "the factorial is: 720\n"
          ]
        }
      ]
    }
  ]
}